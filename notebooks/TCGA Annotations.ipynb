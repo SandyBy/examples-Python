{
 "cells": [
  {
   "cell_type": "markdown",
   "metadata": {},
   "source": [
    "# TCGA Annotations\n",
    "\n",
    "The goal of this notebook is to introduce you to the TCGA Annotations BigQuery table.  You can find more detail about [Annotations](https://wiki.nci.nih.gov/display/TCGA/Introduction+to+Annotations) on the [TCGA Wiki](https://wiki.nci.nih.gov/display/TCGA/TCGA+Home), but the key things to know are:\n",
    "* an annotation can refer to any \"type\" of TCGA \"item\" (*eg* patient, sample, portion, slide, analyte or aliquot), and\n",
    "* each annotation has a \"classification\" and a \"category\", both of which are drawn from controlled vocabularies.\n",
    "\n",
    "The current set of annotation classifications includes: Redaction, Notification, CenterNotification, and Observation.  The authority for Redactions and Notifications is the BCR (Biospecimen Core Resource), while CenterNotifications can come from any of the data-generating centers (GSC or GCC), and Observations from any authorized TCGA personnel.  Within each classification type, there are several categories.  \n",
    "\n",
    "We will look at these further by querying directly on the Annotations table.\n",
    "\n",
    "Note that annotations about patients, samples, and aliquots are *separate* from the clinical, biospecimen, and molecular data, and most patients, samples, and aliquots do not in fact have any annotations associated with them.  It can be important, however, when creating a cohort or analyzing the molecular data associated with a cohort, to check for the existence of annotations.\n",
    "\n",
    "As usual, in order to work with BigQuery, you need to import the python bigquery module (gcp.bigquery) and you need to know the name(s) of the table(s) you are going to be working with:"
   ]
  },
  {
   "cell_type": "code",
   "execution_count": 1,
   "metadata": {
    "collapsed": true
   },
   "outputs": [],
   "source": [
    "import gcp.bigquery as bq\n",
    "annotations_BQtable = bq.Table('isb-cgc:tcga_201510_alpha.Annotations')"
   ]
  },
  {
   "cell_type": "markdown",
   "metadata": {},
   "source": [
    "### Schema\n",
    "Let's start by looking at the schema to see what information is available from this table:"
   ]
  },
  {
   "cell_type": "code",
   "execution_count": 2,
   "metadata": {
    "collapsed": false
   },
   "outputs": [
    {
     "data": {
      "text/html": [
       "\n",
       "    <div class=\"bqsv\" id=\"1_146379242372\"></div>\n",
       "    <script>\n",
       "      require(['extensions/bigquery', 'element!1_146379242372', 'style!/static/extensions/bigquery.css'],\n",
       "        function(bq, dom) {\n",
       "          bq.renderSchema(dom, [{\"type\": \"INTEGER\", \"name\": \"annotationId\"}, {\"type\": \"INTEGER\", \"name\": \"annotationCategoryId\"}, {\"type\": \"STRING\", \"name\": \"annotationCategoryName\"}, {\"type\": \"STRING\", \"name\": \"annotationClassification\"}, {\"type\": \"STRING\", \"name\": \"annotationNoteText\"}, {\"type\": \"STRING\", \"name\": \"Study\"}, {\"type\": \"STRING\", \"name\": \"itemTypeName\"}, {\"type\": \"STRING\", \"name\": \"itemBarcode\"}, {\"type\": \"STRING\", \"name\": \"AliquotBarcode\"}, {\"type\": \"STRING\", \"name\": \"ParticipantBarcode\"}, {\"type\": \"STRING\", \"name\": \"SampleBarcode\"}, {\"type\": \"STRING\", \"name\": \"dateAdded\"}, {\"type\": \"STRING\", \"name\": \"dateCreated\"}, {\"type\": \"STRING\", \"name\": \"dateEdited\"}]);\n",
       "        }\n",
       "      );\n",
       "    </script>\n",
       "    "
      ],
      "text/plain": [
       "<IPython.core.display.HTML object>"
      ]
     },
     "execution_count": 2,
     "metadata": {},
     "output_type": "execute_result"
    }
   ],
   "source": [
    "%bigquery schema --table $annotations_BQtable"
   ]
  },
  {
   "cell_type": "markdown",
   "metadata": {},
   "source": [
    "### Item Types\n",
    "\n",
    "Most of the schema fields come directly from the TCGA Annotations.  First and foremost, an annotation is associated with an **itemType**, as described above.  This can be a patient, an aliquot, etc.  Let's see what the breakdown is of annotations according to item-type:"
   ]
  },
  {
   "cell_type": "code",
   "execution_count": 3,
   "metadata": {
    "collapsed": false
   },
   "outputs": [
    {
     "data": {
      "text/html": [
       "\n",
       "    <div class=\"bqtv\" id=\"2_146379242541\"><table><tr><th>itemTypeName</th><th>n</th></tr><tr><td>Aliquot</td><td>12928</td></tr><tr><td>Shipped Portion</td><td>1749</td></tr><tr><td>Patient</td><td>1378</td></tr><tr><td>Analyte</td><td>789</td></tr><tr><td>Slide</td><td>552</td></tr><tr><td>Sample</td><td>114</td></tr><tr><td>Portion</td><td>9</td></tr></table></div>\n",
       "    <br />(rows: 7, time: 1.3s,   170KB processed, job: job_MF-obURhtCvD6AoILhhGL6E5p_8)<br />\n",
       "    <script>\n",
       "      require(['extensions/charting', 'element!2_146379242541', 'style!/static/extensions/charting.css'],\n",
       "        function(charts, dom) {\n",
       "          charts.render(dom,\n",
       "            {\n",
       "              chartStyle:\"table\",\n",
       "              dataName:\"0\",\n",
       "              fields:\"itemTypeName,n\",\n",
       "              totalRows:7,\n",
       "              rowsPerPage:25,\n",
       "            }, {}, {\"rows\": [{\"c\": [{\"v\": \"Aliquot\"}, {\"v\": 12928}]}, {\"c\": [{\"v\": \"Shipped Portion\"}, {\"v\": 1749}]}, {\"c\": [{\"v\": \"Patient\"}, {\"v\": 1378}]}, {\"c\": [{\"v\": \"Analyte\"}, {\"v\": 789}]}, {\"c\": [{\"v\": \"Slide\"}, {\"v\": 552}]}, {\"c\": [{\"v\": \"Sample\"}, {\"v\": 114}]}, {\"c\": [{\"v\": \"Portion\"}, {\"v\": 9}]}], \"cols\": [{\"type\": \"string\", \"id\": \"itemTypeName\", \"label\": \"itemTypeName\"}, {\"type\": \"number\", \"id\": \"n\", \"label\": \"n\"}]});\n",
       "        }\n",
       "      );\n",
       "    </script>\n",
       "  "
      ],
      "text/plain": [
       "QueryResultsTable job_MF-obURhtCvD6AoILhhGL6E5p_8"
      ]
     },
     "execution_count": 3,
     "metadata": {},
     "output_type": "execute_result"
    }
   ],
   "source": [
    "%%sql\n",
    "\n",
    "SELECT itemTypeName, COUNT(*) AS n\n",
    "FROM $annotations_BQtable\n",
    "GROUP BY itemTypeName\n",
    "ORDER BY n DESC"
   ]
  },
  {
   "cell_type": "markdown",
   "metadata": {},
   "source": [
    "The length of the barcode in the ``itemBarcode`` field will depend on the value in the ``itemTypeName`` field:  if the itemType is \"Patient\", then the barcode will be something like ``TCGA-E2-A15J``, whereas if the itemType is \"Aliquot\", the barcode will be a full-length barcode, *eg* ``TCGA-E2-A15J-10A-01D-a12N-01``.  "
   ]
  },
  {
   "cell_type": "markdown",
   "metadata": {},
   "source": [
    "### Annotation Classifications and Categories\n",
    "\n",
    "The next most important pieces of information about an annotation are the \"classification\" and \"category\".  Each of these comes from a controlled vocabulary and each \"classification\" has a specific set of allowed \"categories\".\n",
    "\n",
    "One important thing to understand is that if an aliquot carries some sort of disqualifying annotation, in general all other data from other samples or aliquots associated with that same patient should still be usable.  On the other hand, if a *patient* carries some sort of disqualifying annotation, then that information should be considered prior to using *any* of the samples or aliquots derived from that patient."
   ]
  },
  {
   "cell_type": "markdown",
   "metadata": {},
   "source": [
    "To illustrate this, let's look at the most frequent annotation classifications and categories when the itemType is Patient:"
   ]
  },
  {
   "cell_type": "code",
   "execution_count": 4,
   "metadata": {
    "collapsed": false
   },
   "outputs": [
    {
     "data": {
      "text/html": [
       "\n",
       "    <div class=\"bqtv\" id=\"3_146379242984\"><table><tr><th>annotationClassification</th><th>annotationCategoryName</th><th>n</th></tr><tr><td>Notification</td><td>Prior malignancy</td><td>407</td></tr><tr><td>Notification</td><td>Alternate sample pipeline</td><td>200</td></tr><tr><td>Notification</td><td>History of unacceptable prior treatment related to a prior/other malignancy</td><td>139</td></tr><tr><td>Notification</td><td>Synchronous malignancy</td><td>110</td></tr><tr><td>Notification</td><td>Neoadjuvant therapy</td><td>102</td></tr><tr><td>Notification</td><td>Item is noncanonical</td><td>81</td></tr></table></div>\n",
       "    <br />(rows: 6, time: 3.9s,   834KB processed, job: job_m3UCx-0ZhNOYC3dylY52g3tA5w4)<br />\n",
       "    <script>\n",
       "      require(['extensions/charting', 'element!3_146379242984', 'style!/static/extensions/charting.css'],\n",
       "        function(charts, dom) {\n",
       "          charts.render(dom,\n",
       "            {\n",
       "              chartStyle:\"table\",\n",
       "              dataName:\"1\",\n",
       "              fields:\"annotationClassification,annotationCategoryName,n\",\n",
       "              totalRows:6,\n",
       "              rowsPerPage:25,\n",
       "            }, {}, {\"rows\": [{\"c\": [{\"v\": \"Notification\"}, {\"v\": \"Prior malignancy\"}, {\"v\": 407}]}, {\"c\": [{\"v\": \"Notification\"}, {\"v\": \"Alternate sample pipeline\"}, {\"v\": 200}]}, {\"c\": [{\"v\": \"Notification\"}, {\"v\": \"History of unacceptable prior treatment related to a prior/other malignancy\"}, {\"v\": 139}]}, {\"c\": [{\"v\": \"Notification\"}, {\"v\": \"Synchronous malignancy\"}, {\"v\": 110}]}, {\"c\": [{\"v\": \"Notification\"}, {\"v\": \"Neoadjuvant therapy\"}, {\"v\": 102}]}, {\"c\": [{\"v\": \"Notification\"}, {\"v\": \"Item is noncanonical\"}, {\"v\": 81}]}], \"cols\": [{\"type\": \"string\", \"id\": \"annotationClassification\", \"label\": \"annotationClassification\"}, {\"type\": \"string\", \"id\": \"annotationCategoryName\", \"label\": \"annotationCategoryName\"}, {\"type\": \"number\", \"id\": \"n\", \"label\": \"n\"}]});\n",
       "        }\n",
       "      );\n",
       "    </script>\n",
       "  "
      ],
      "text/plain": [
       "QueryResultsTable job_m3UCx-0ZhNOYC3dylY52g3tA5w4"
      ]
     },
     "execution_count": 4,
     "metadata": {},
     "output_type": "execute_result"
    }
   ],
   "source": [
    "%%sql\n",
    "\n",
    "SELECT\n",
    "  annotationClassification,\n",
    "  annotationCategoryName,\n",
    "  COUNT(*) AS n\n",
    "FROM\n",
    "  $annotations_BQtable\n",
    "WHERE\n",
    "  ( itemTypeName=\"Patient\" )\n",
    "GROUP BY\n",
    "  annotationClassification,\n",
    "  annotationCategoryName\n",
    "HAVING ( n >= 50 )\n",
    "ORDER BY\n",
    "  n DESC"
   ]
  },
  {
   "cell_type": "markdown",
   "metadata": {},
   "source": [
    "The results of the previous query indicate that the majority of patient-level annotations are \"Notifications\", most frequently regarding prior malignancies.  In most TCGA publications, \"history of unacceptable prior treatment\" and \"item is noncanonical\" notifications are treated as disqualifying annotations, and all data associated with those patients is not used in any analysis."
   ]
  },
  {
   "cell_type": "markdown",
   "metadata": {},
   "source": [
    "Let's make a slight modification to the last query to see what types of annotation categories and classifications we see when the item type is *not* patient:"
   ]
  },
  {
   "cell_type": "code",
   "execution_count": 5,
   "metadata": {
    "collapsed": false
   },
   "outputs": [
    {
     "data": {
      "text/html": [
       "\n",
       "    <div class=\"bqtv\" id=\"4_146379243154\"><table><tr><th>annotationClassification</th><th>annotationCategoryName</th><th>itemTypeName</th><th>n</th></tr><tr><td>CenterNotification</td><td>Item flagged DNU</td><td>Aliquot</td><td>12303</td></tr><tr><td>Notification</td><td>Item is noncanonical</td><td>Shipped Portion</td><td>1741</td></tr><tr><td>Notification</td><td>Item is noncanonical</td><td>Slide</td><td>541</td></tr><tr><td>Notification</td><td>Item is noncanonical</td><td>Analyte</td><td>464</td></tr><tr><td>Observation</td><td>General</td><td>Analyte</td><td>179</td></tr><tr><td>CenterNotification</td><td>Center QC failed</td><td>Aliquot</td><td>149</td></tr><tr><td>Observation</td><td>General</td><td>Aliquot</td><td>116</td></tr><tr><td>Notification</td><td>Item in special subset</td><td>Analyte</td><td>104</td></tr><tr><td>Notification</td><td>Barcode incorrect</td><td>Aliquot</td><td>84</td></tr><tr><td>Redaction</td><td>Genotype mismatch</td><td>Aliquot</td><td>80</td></tr><tr><td>Notification</td><td>Item is noncanonical</td><td>Sample</td><td>67</td></tr><tr><td>Redaction</td><td>Inadvertently shipped</td><td>Aliquot</td><td>54</td></tr></table></div>\n",
       "    <br />(rows: 12, time: 1.2s,   834KB processed, job: job_JxgSCny79j26t_dy5iWwGXrFyms)<br />\n",
       "    <script>\n",
       "      require(['extensions/charting', 'element!4_146379243154', 'style!/static/extensions/charting.css'],\n",
       "        function(charts, dom) {\n",
       "          charts.render(dom,\n",
       "            {\n",
       "              chartStyle:\"table\",\n",
       "              dataName:\"2\",\n",
       "              fields:\"annotationClassification,annotationCategoryName,itemTypeName,n\",\n",
       "              totalRows:12,\n",
       "              rowsPerPage:25,\n",
       "            }, {}, {\"rows\": [{\"c\": [{\"v\": \"CenterNotification\"}, {\"v\": \"Item flagged DNU\"}, {\"v\": \"Aliquot\"}, {\"v\": 12303}]}, {\"c\": [{\"v\": \"Notification\"}, {\"v\": \"Item is noncanonical\"}, {\"v\": \"Shipped Portion\"}, {\"v\": 1741}]}, {\"c\": [{\"v\": \"Notification\"}, {\"v\": \"Item is noncanonical\"}, {\"v\": \"Slide\"}, {\"v\": 541}]}, {\"c\": [{\"v\": \"Notification\"}, {\"v\": \"Item is noncanonical\"}, {\"v\": \"Analyte\"}, {\"v\": 464}]}, {\"c\": [{\"v\": \"Observation\"}, {\"v\": \"General\"}, {\"v\": \"Analyte\"}, {\"v\": 179}]}, {\"c\": [{\"v\": \"CenterNotification\"}, {\"v\": \"Center QC failed\"}, {\"v\": \"Aliquot\"}, {\"v\": 149}]}, {\"c\": [{\"v\": \"Observation\"}, {\"v\": \"General\"}, {\"v\": \"Aliquot\"}, {\"v\": 116}]}, {\"c\": [{\"v\": \"Notification\"}, {\"v\": \"Item in special subset\"}, {\"v\": \"Analyte\"}, {\"v\": 104}]}, {\"c\": [{\"v\": \"Notification\"}, {\"v\": \"Barcode incorrect\"}, {\"v\": \"Aliquot\"}, {\"v\": 84}]}, {\"c\": [{\"v\": \"Redaction\"}, {\"v\": \"Genotype mismatch\"}, {\"v\": \"Aliquot\"}, {\"v\": 80}]}, {\"c\": [{\"v\": \"Notification\"}, {\"v\": \"Item is noncanonical\"}, {\"v\": \"Sample\"}, {\"v\": 67}]}, {\"c\": [{\"v\": \"Redaction\"}, {\"v\": \"Inadvertently shipped\"}, {\"v\": \"Aliquot\"}, {\"v\": 54}]}], \"cols\": [{\"type\": \"string\", \"id\": \"annotationClassification\", \"label\": \"annotationClassification\"}, {\"type\": \"string\", \"id\": \"annotationCategoryName\", \"label\": \"annotationCategoryName\"}, {\"type\": \"string\", \"id\": \"itemTypeName\", \"label\": \"itemTypeName\"}, {\"type\": \"number\", \"id\": \"n\", \"label\": \"n\"}]});\n",
       "        }\n",
       "      );\n",
       "    </script>\n",
       "  "
      ],
      "text/plain": [
       "QueryResultsTable job_JxgSCny79j26t_dy5iWwGXrFyms"
      ]
     },
     "execution_count": 5,
     "metadata": {},
     "output_type": "execute_result"
    }
   ],
   "source": [
    "%%sql\n",
    "\n",
    "SELECT\n",
    "  annotationClassification,\n",
    "  annotationCategoryName,\n",
    "  itemTypeName,\n",
    "  COUNT(*) AS n\n",
    "FROM\n",
    "  $annotations_BQtable\n",
    "WHERE\n",
    "  ( itemTypeName!=\"Patient\" )\n",
    "GROUP BY\n",
    "  annotationClassification,\n",
    "  annotationCategoryName,\n",
    "  itemTypeName\n",
    "HAVING ( n >= 50 )\n",
    "ORDER BY\n",
    "  n DESC"
   ]
  },
  {
   "cell_type": "markdown",
   "metadata": {},
   "source": [
    "The results of the previous query indicate that the vast majority of annotations are at the aliquot level, and more specifically were submitted by one of the data-generating centers, indicating that the data derived from that aliquot is \"DNU\" (Do Not Use).  In general, this should not affect any other aliquots derived from the same sample or any other samples derived from the same patient."
   ]
  },
  {
   "cell_type": "markdown",
   "metadata": {},
   "source": [
    "We see in the output of the previous query that a Notification that an \"Item is noncanonical\" can be applied to different types of items (*eg* slides and analytes).  Let's investigate this a little bit further, for example let's count up these types of annotations by study (ie tumor-type):"
   ]
  },
  {
   "cell_type": "code",
   "execution_count": 6,
   "metadata": {
    "collapsed": false
   },
   "outputs": [
    {
     "data": {
      "text/html": [
       "\n",
       "    <div class=\"bqtv\" id=\"5_146379243396\"><table><tr><th>Study</th><th>n</th></tr><tr><td>OV</td><td>743</td></tr><tr><td>GBM</td><td>519</td></tr><tr><td>KIRC</td><td>455</td></tr><tr><td>COAD</td><td>314</td></tr><tr><td>LUAD</td><td>238</td></tr><tr><td>LUSC</td><td>231</td></tr><tr><td>HNSC</td><td>212</td></tr><tr><td>READ</td><td>115</td></tr><tr><td>KICH</td><td>47</td></tr><tr><td>PRAD</td><td>27</td></tr><tr><td>CHOL</td><td>15</td></tr><tr><td>ACC</td><td>12</td></tr><tr><td>PAAD</td><td>8</td></tr><tr><td>BRCA</td><td>2</td></tr></table></div>\n",
       "    <br />(rows: 14, time: 1.8s,   426KB processed, job: job_NXOb9xHoDuqdnblsJicfMTsq7D4)<br />\n",
       "    <script>\n",
       "      require(['extensions/charting', 'element!5_146379243396', 'style!/static/extensions/charting.css'],\n",
       "        function(charts, dom) {\n",
       "          charts.render(dom,\n",
       "            {\n",
       "              chartStyle:\"table\",\n",
       "              dataName:\"3\",\n",
       "              fields:\"Study,n\",\n",
       "              totalRows:14,\n",
       "              rowsPerPage:25,\n",
       "            }, {}, {\"rows\": [{\"c\": [{\"v\": \"OV\"}, {\"v\": 743}]}, {\"c\": [{\"v\": \"GBM\"}, {\"v\": 519}]}, {\"c\": [{\"v\": \"KIRC\"}, {\"v\": 455}]}, {\"c\": [{\"v\": \"COAD\"}, {\"v\": 314}]}, {\"c\": [{\"v\": \"LUAD\"}, {\"v\": 238}]}, {\"c\": [{\"v\": \"LUSC\"}, {\"v\": 231}]}, {\"c\": [{\"v\": \"HNSC\"}, {\"v\": 212}]}, {\"c\": [{\"v\": \"READ\"}, {\"v\": 115}]}, {\"c\": [{\"v\": \"KICH\"}, {\"v\": 47}]}, {\"c\": [{\"v\": \"PRAD\"}, {\"v\": 27}]}, {\"c\": [{\"v\": \"CHOL\"}, {\"v\": 15}]}, {\"c\": [{\"v\": \"ACC\"}, {\"v\": 12}]}, {\"c\": [{\"v\": \"PAAD\"}, {\"v\": 8}]}, {\"c\": [{\"v\": \"BRCA\"}, {\"v\": 2}]}], \"cols\": [{\"type\": \"string\", \"id\": \"Study\", \"label\": \"Study\"}, {\"type\": \"number\", \"id\": \"n\", \"label\": \"n\"}]});\n",
       "        }\n",
       "      );\n",
       "    </script>\n",
       "  "
      ],
      "text/plain": [
       "QueryResultsTable job_NXOb9xHoDuqdnblsJicfMTsq7D4"
      ]
     },
     "execution_count": 6,
     "metadata": {},
     "output_type": "execute_result"
    }
   ],
   "source": [
    "%%sql\n",
    "\n",
    "SELECT\n",
    "  Study,\n",
    "  COUNT(*) AS n\n",
    "FROM\n",
    "  $annotations_BQtable\n",
    "WHERE\n",
    "  ( annotationCategoryName=\"Item is noncanonical\" )\n",
    "GROUP BY\n",
    "  Study\n",
    "ORDER BY\n",
    "  n DESC"
   ]
  },
  {
   "cell_type": "markdown",
   "metadata": {},
   "source": [
    "and now let's pick one of these tumor types, and delve a little bit further:"
   ]
  },
  {
   "cell_type": "code",
   "execution_count": 7,
   "metadata": {
    "collapsed": false
   },
   "outputs": [
    {
     "data": {
      "text/html": [
       "\n",
       "    <div class=\"bqtv\" id=\"6_146379243532\"><table><tr><th>itemTypeName</th><th>n</th></tr><tr><td>Slide</td><td>409</td></tr><tr><td>Shipped Portion</td><td>220</td></tr><tr><td>Analyte</td><td>110</td></tr><tr><td>Patient</td><td>3</td></tr><tr><td>Sample</td><td>1</td></tr></table></div>\n",
       "    <br />(rows: 5, time: 0.8s,   596KB processed, job: job_xEHtFY8A1eSIMBBOKXLjphrdho4)<br />\n",
       "    <script>\n",
       "      require(['extensions/charting', 'element!6_146379243532', 'style!/static/extensions/charting.css'],\n",
       "        function(charts, dom) {\n",
       "          charts.render(dom,\n",
       "            {\n",
       "              chartStyle:\"table\",\n",
       "              dataName:\"4\",\n",
       "              fields:\"itemTypeName,n\",\n",
       "              totalRows:5,\n",
       "              rowsPerPage:25,\n",
       "            }, {}, {\"rows\": [{\"c\": [{\"v\": \"Slide\"}, {\"v\": 409}]}, {\"c\": [{\"v\": \"Shipped Portion\"}, {\"v\": 220}]}, {\"c\": [{\"v\": \"Analyte\"}, {\"v\": 110}]}, {\"c\": [{\"v\": \"Patient\"}, {\"v\": 3}]}, {\"c\": [{\"v\": \"Sample\"}, {\"v\": 1}]}], \"cols\": [{\"type\": \"string\", \"id\": \"itemTypeName\", \"label\": \"itemTypeName\"}, {\"type\": \"number\", \"id\": \"n\", \"label\": \"n\"}]});\n",
       "        }\n",
       "      );\n",
       "    </script>\n",
       "  "
      ],
      "text/plain": [
       "QueryResultsTable job_xEHtFY8A1eSIMBBOKXLjphrdho4"
      ]
     },
     "execution_count": 7,
     "metadata": {},
     "output_type": "execute_result"
    }
   ],
   "source": [
    "%%sql\n",
    "\n",
    "SELECT\n",
    "  itemTypeName,\n",
    "  COUNT(*) AS n\n",
    "FROM\n",
    "  $annotations_BQtable\n",
    "WHERE\n",
    "  ( annotationCategoryName=\"Item is noncanonical\"\n",
    "    AND Study=\"OV\" )\n",
    "GROUP BY\n",
    "  itemTypeName\n",
    "ORDER BY\n",
    "  n DESC"
   ]
  },
  {
   "cell_type": "markdown",
   "metadata": {},
   "source": [
    "### Barcodes\n",
    "\n",
    "As described above, an annotation is specific to a single TCGA \"item\" and the fields ``itemTypeName`` and ``itemBarcode`` are the most important keys to understanding which TCGA item carries the annotation.  Because we use the fields ``ParticipantBarcode``, ``SampleBarcode``, and ``AliquotBarcode`` throughout our other TCGA BigQuery tables, we have added them to this table as well, but they should be interpreted with some care:  when an annotation is specific to an aliquot (*ie* ``itemTypeName=\"Aliquot\"``), the ``ParticipantBarcode``, ``SampleBarcode``, and ``AliquotBarcode`` fields will all be set, *but* this should not be interpreted to mean that the annotation applies to all data derived from that patient.\n",
    "\n",
    "This will be illustrated with the following two queries which extract information pertaining to a few specific patients:"
   ]
  },
  {
   "cell_type": "code",
   "execution_count": 8,
   "metadata": {
    "collapsed": false
   },
   "outputs": [
    {
     "data": {
      "text/html": [
       "\n",
       "    <div class=\"bqtv\" id=\"7_146379243681\"><table><tr><th>Study</th><th>itemTypeName</th><th>itemBarcode</th><th>annotationCategoryName</th><th>annotationClassification</th><th>ParticipantBarcode</th><th>SampleBarcode</th><th>AliquotBarcode</th><th>n</th></tr><tr><td>OV</td><td>Patient</td><td>TCGA-61-1916</td><td>Item in special subset</td><td>Notification</td><td>TCGA-61-1916</td><td>&nbsp;</td><td>&nbsp;</td><td>12</td></tr><tr><td>OV</td><td>Analyte</td><td>TCGA-61-1916-01A-01T</td><td>Item is noncanonical</td><td>Notification</td><td>TCGA-61-1916</td><td>TCGA-61-1916-01A</td><td>&nbsp;</td><td>20</td></tr><tr><td>OV</td><td>Analyte</td><td>TCGA-61-1916-01A-01W</td><td>Item is noncanonical</td><td>Notification</td><td>TCGA-61-1916</td><td>TCGA-61-1916-01A</td><td>&nbsp;</td><td>20</td></tr><tr><td>OV</td><td>Analyte</td><td>TCGA-61-1916-02A-01W</td><td>Item is noncanonical</td><td>Notification</td><td>TCGA-61-1916</td><td>TCGA-61-1916-02A</td><td>&nbsp;</td><td>20</td></tr><tr><td>OV</td><td>Analyte</td><td>TCGA-61-1916-11A-01W</td><td>Item is noncanonical</td><td>Notification</td><td>TCGA-61-1916</td><td>TCGA-61-1916-11A</td><td>&nbsp;</td><td>20</td></tr><tr><td>OV</td><td>Analyte</td><td>TCGA-61-1916-01A-01G</td><td>Item is noncanonical</td><td>Notification</td><td>TCGA-61-1916</td><td>TCGA-61-1916-01A</td><td>&nbsp;</td><td>20</td></tr><tr><td>OV</td><td>Analyte</td><td>TCGA-61-1916-02A-01G</td><td>Item is noncanonical</td><td>Notification</td><td>TCGA-61-1916</td><td>TCGA-61-1916-02A</td><td>&nbsp;</td><td>20</td></tr><tr><td>OV</td><td>Analyte</td><td>TCGA-61-1916-11A-01D</td><td>Item is noncanonical</td><td>Notification</td><td>TCGA-61-1916</td><td>TCGA-61-1916-11A</td><td>&nbsp;</td><td>20</td></tr><tr><td>OV</td><td>Analyte</td><td>TCGA-61-1916-02A-01D</td><td>Item is noncanonical</td><td>Notification</td><td>TCGA-61-1916</td><td>TCGA-61-1916-02A</td><td>&nbsp;</td><td>20</td></tr><tr><td>OV</td><td>Analyte</td><td>TCGA-61-1916-02A-01R</td><td>Item is noncanonical</td><td>Notification</td><td>TCGA-61-1916</td><td>TCGA-61-1916-02A</td><td>&nbsp;</td><td>20</td></tr><tr><td>OV</td><td>Analyte</td><td>TCGA-61-1916-02A-01T</td><td>Item is noncanonical</td><td>Notification</td><td>TCGA-61-1916</td><td>TCGA-61-1916-02A</td><td>&nbsp;</td><td>20</td></tr><tr><td>OV</td><td>Analyte</td><td>TCGA-61-1916-01A-01D</td><td>Item is noncanonical</td><td>Notification</td><td>TCGA-61-1916</td><td>TCGA-61-1916-01A</td><td>&nbsp;</td><td>20</td></tr><tr><td>OV</td><td>Analyte</td><td>TCGA-61-1916-01A-01R</td><td>Item is noncanonical</td><td>Notification</td><td>TCGA-61-1916</td><td>TCGA-61-1916-01A</td><td>&nbsp;</td><td>20</td></tr><tr><td>OV</td><td>Slide</td><td>TCGA-61-1916-01A-21-1559</td><td>Item is noncanonical</td><td>Notification</td><td>TCGA-61-1916</td><td>TCGA-61-1916-01A</td><td>&nbsp;</td><td>24</td></tr><tr><td>OV</td><td>Aliquot</td><td>TCGA-61-1916-01A-01D-0803-01</td><td>Item flagged DNU</td><td>CenterNotification</td><td>TCGA-61-1916</td><td>TCGA-61-1916-01A</td><td>TCGA-61-1916-01A-01D-0803-01</td><td>28</td></tr><tr><td>OV</td><td>Aliquot</td><td>TCGA-61-1916-02A-01R-0808-01</td><td>General</td><td>Observation</td><td>TCGA-61-1916</td><td>TCGA-61-1916-02A</td><td>TCGA-61-1916-02A-01R-0808-01</td><td>28</td></tr></table></div>\n",
       "    <br />(rows: 16, time: 0.9s,     2MB processed, job: job_XFLmZUS2Q99MlzcQEuDotO4DHQA)<br />\n",
       "    <script>\n",
       "      require(['extensions/charting', 'element!7_146379243681', 'style!/static/extensions/charting.css'],\n",
       "        function(charts, dom) {\n",
       "          charts.render(dom,\n",
       "            {\n",
       "              chartStyle:\"table\",\n",
       "              dataName:\"5\",\n",
       "              fields:\"Study,itemTypeName,itemBarcode,annotationCategoryName,annotationClassification,ParticipantBarcode,SampleBarcode,AliquotBarcode,n\",\n",
       "              totalRows:16,\n",
       "              rowsPerPage:25,\n",
       "            }, {}, {\"rows\": [{\"c\": [{\"v\": \"OV\"}, {\"v\": \"Patient\"}, {\"v\": \"TCGA-61-1916\"}, {\"v\": \"Item in special subset\"}, {\"v\": \"Notification\"}, {\"v\": \"TCGA-61-1916\"}, {\"v\": null}, {\"v\": null}, {\"v\": 12}]}, {\"c\": [{\"v\": \"OV\"}, {\"v\": \"Analyte\"}, {\"v\": \"TCGA-61-1916-01A-01T\"}, {\"v\": \"Item is noncanonical\"}, {\"v\": \"Notification\"}, {\"v\": \"TCGA-61-1916\"}, {\"v\": \"TCGA-61-1916-01A\"}, {\"v\": null}, {\"v\": 20}]}, {\"c\": [{\"v\": \"OV\"}, {\"v\": \"Analyte\"}, {\"v\": \"TCGA-61-1916-01A-01W\"}, {\"v\": \"Item is noncanonical\"}, {\"v\": \"Notification\"}, {\"v\": \"TCGA-61-1916\"}, {\"v\": \"TCGA-61-1916-01A\"}, {\"v\": null}, {\"v\": 20}]}, {\"c\": [{\"v\": \"OV\"}, {\"v\": \"Analyte\"}, {\"v\": \"TCGA-61-1916-02A-01W\"}, {\"v\": \"Item is noncanonical\"}, {\"v\": \"Notification\"}, {\"v\": \"TCGA-61-1916\"}, {\"v\": \"TCGA-61-1916-02A\"}, {\"v\": null}, {\"v\": 20}]}, {\"c\": [{\"v\": \"OV\"}, {\"v\": \"Analyte\"}, {\"v\": \"TCGA-61-1916-11A-01W\"}, {\"v\": \"Item is noncanonical\"}, {\"v\": \"Notification\"}, {\"v\": \"TCGA-61-1916\"}, {\"v\": \"TCGA-61-1916-11A\"}, {\"v\": null}, {\"v\": 20}]}, {\"c\": [{\"v\": \"OV\"}, {\"v\": \"Analyte\"}, {\"v\": \"TCGA-61-1916-01A-01G\"}, {\"v\": \"Item is noncanonical\"}, {\"v\": \"Notification\"}, {\"v\": \"TCGA-61-1916\"}, {\"v\": \"TCGA-61-1916-01A\"}, {\"v\": null}, {\"v\": 20}]}, {\"c\": [{\"v\": \"OV\"}, {\"v\": \"Analyte\"}, {\"v\": \"TCGA-61-1916-02A-01G\"}, {\"v\": \"Item is noncanonical\"}, {\"v\": \"Notification\"}, {\"v\": \"TCGA-61-1916\"}, {\"v\": \"TCGA-61-1916-02A\"}, {\"v\": null}, {\"v\": 20}]}, {\"c\": [{\"v\": \"OV\"}, {\"v\": \"Analyte\"}, {\"v\": \"TCGA-61-1916-11A-01D\"}, {\"v\": \"Item is noncanonical\"}, {\"v\": \"Notification\"}, {\"v\": \"TCGA-61-1916\"}, {\"v\": \"TCGA-61-1916-11A\"}, {\"v\": null}, {\"v\": 20}]}, {\"c\": [{\"v\": \"OV\"}, {\"v\": \"Analyte\"}, {\"v\": \"TCGA-61-1916-02A-01D\"}, {\"v\": \"Item is noncanonical\"}, {\"v\": \"Notification\"}, {\"v\": \"TCGA-61-1916\"}, {\"v\": \"TCGA-61-1916-02A\"}, {\"v\": null}, {\"v\": 20}]}, {\"c\": [{\"v\": \"OV\"}, {\"v\": \"Analyte\"}, {\"v\": \"TCGA-61-1916-02A-01R\"}, {\"v\": \"Item is noncanonical\"}, {\"v\": \"Notification\"}, {\"v\": \"TCGA-61-1916\"}, {\"v\": \"TCGA-61-1916-02A\"}, {\"v\": null}, {\"v\": 20}]}, {\"c\": [{\"v\": \"OV\"}, {\"v\": \"Analyte\"}, {\"v\": \"TCGA-61-1916-02A-01T\"}, {\"v\": \"Item is noncanonical\"}, {\"v\": \"Notification\"}, {\"v\": \"TCGA-61-1916\"}, {\"v\": \"TCGA-61-1916-02A\"}, {\"v\": null}, {\"v\": 20}]}, {\"c\": [{\"v\": \"OV\"}, {\"v\": \"Analyte\"}, {\"v\": \"TCGA-61-1916-01A-01D\"}, {\"v\": \"Item is noncanonical\"}, {\"v\": \"Notification\"}, {\"v\": \"TCGA-61-1916\"}, {\"v\": \"TCGA-61-1916-01A\"}, {\"v\": null}, {\"v\": 20}]}, {\"c\": [{\"v\": \"OV\"}, {\"v\": \"Analyte\"}, {\"v\": \"TCGA-61-1916-01A-01R\"}, {\"v\": \"Item is noncanonical\"}, {\"v\": \"Notification\"}, {\"v\": \"TCGA-61-1916\"}, {\"v\": \"TCGA-61-1916-01A\"}, {\"v\": null}, {\"v\": 20}]}, {\"c\": [{\"v\": \"OV\"}, {\"v\": \"Slide\"}, {\"v\": \"TCGA-61-1916-01A-21-1559\"}, {\"v\": \"Item is noncanonical\"}, {\"v\": \"Notification\"}, {\"v\": \"TCGA-61-1916\"}, {\"v\": \"TCGA-61-1916-01A\"}, {\"v\": null}, {\"v\": 24}]}, {\"c\": [{\"v\": \"OV\"}, {\"v\": \"Aliquot\"}, {\"v\": \"TCGA-61-1916-01A-01D-0803-01\"}, {\"v\": \"Item flagged DNU\"}, {\"v\": \"CenterNotification\"}, {\"v\": \"TCGA-61-1916\"}, {\"v\": \"TCGA-61-1916-01A\"}, {\"v\": \"TCGA-61-1916-01A-01D-0803-01\"}, {\"v\": 28}]}, {\"c\": [{\"v\": \"OV\"}, {\"v\": \"Aliquot\"}, {\"v\": \"TCGA-61-1916-02A-01R-0808-01\"}, {\"v\": \"General\"}, {\"v\": \"Observation\"}, {\"v\": \"TCGA-61-1916\"}, {\"v\": \"TCGA-61-1916-02A\"}, {\"v\": \"TCGA-61-1916-02A-01R-0808-01\"}, {\"v\": 28}]}], \"cols\": [{\"type\": \"string\", \"id\": \"Study\", \"label\": \"Study\"}, {\"type\": \"string\", \"id\": \"itemTypeName\", \"label\": \"itemTypeName\"}, {\"type\": \"string\", \"id\": \"itemBarcode\", \"label\": \"itemBarcode\"}, {\"type\": \"string\", \"id\": \"annotationCategoryName\", \"label\": \"annotationCategoryName\"}, {\"type\": \"string\", \"id\": \"annotationClassification\", \"label\": \"annotationClassification\"}, {\"type\": \"string\", \"id\": \"ParticipantBarcode\", \"label\": \"ParticipantBarcode\"}, {\"type\": \"string\", \"id\": \"SampleBarcode\", \"label\": \"SampleBarcode\"}, {\"type\": \"string\", \"id\": \"AliquotBarcode\", \"label\": \"AliquotBarcode\"}, {\"type\": \"number\", \"id\": \"n\", \"label\": \"n\"}]});\n",
       "        }\n",
       "      );\n",
       "    </script>\n",
       "  "
      ],
      "text/plain": [
       "QueryResultsTable job_XFLmZUS2Q99MlzcQEuDotO4DHQA"
      ]
     },
     "execution_count": 8,
     "metadata": {},
     "output_type": "execute_result"
    }
   ],
   "source": [
    "%%sql\n",
    "\n",
    "SELECT\n",
    " Study,\n",
    " itemTypeName,\n",
    " itemBarcode,\n",
    " annotationCategoryName,\n",
    " annotationClassification,\n",
    " ParticipantBarcode,\n",
    " SampleBarcode,\n",
    " AliquotBarcode,\n",
    " LENGTH(itemBarcode) AS n\n",
    "FROM\n",
    "  $annotations_BQtable\n",
    "WHERE\n",
    "  ( ParticipantBarcode=\"TCGA-61-1916\" )\n",
    "ORDER BY n ASC"
   ]
  },
  {
   "cell_type": "code",
   "execution_count": 9,
   "metadata": {
    "collapsed": false
   },
   "outputs": [
    {
     "data": {
      "text/html": [
       "\n",
       "    <div class=\"bqtv\" id=\"8_146379243847\"><table><tr><th>Study</th><th>itemTypeName</th><th>itemBarcode</th><th>annotationCategoryName</th><th>annotationClassification</th><th>ParticipantBarcode</th><th>SampleBarcode</th><th>AliquotBarcode</th><th>n</th></tr><tr><td>SKCM</td><td>Patient</td><td>TCGA-GN-A261</td><td>Tumor tissue origin incorrect</td><td>Redaction</td><td>TCGA-GN-A261</td><td>&nbsp;</td><td>&nbsp;</td><td>12</td></tr><tr><td>SKCM</td><td>Patient</td><td>TCGA-GN-A261</td><td>Neoadjuvant therapy</td><td>Notification</td><td>TCGA-GN-A261</td><td>&nbsp;</td><td>&nbsp;</td><td>12</td></tr></table></div>\n",
       "    <br />(rows: 2, time: 0.9s,     2MB processed, job: job_39fbLGjKlHTV16Leiu1L2eLlhwc)<br />\n",
       "    <script>\n",
       "      require(['extensions/charting', 'element!8_146379243847', 'style!/static/extensions/charting.css'],\n",
       "        function(charts, dom) {\n",
       "          charts.render(dom,\n",
       "            {\n",
       "              chartStyle:\"table\",\n",
       "              dataName:\"6\",\n",
       "              fields:\"Study,itemTypeName,itemBarcode,annotationCategoryName,annotationClassification,ParticipantBarcode,SampleBarcode,AliquotBarcode,n\",\n",
       "              totalRows:2,\n",
       "              rowsPerPage:25,\n",
       "            }, {}, {\"rows\": [{\"c\": [{\"v\": \"SKCM\"}, {\"v\": \"Patient\"}, {\"v\": \"TCGA-GN-A261\"}, {\"v\": \"Tumor tissue origin incorrect\"}, {\"v\": \"Redaction\"}, {\"v\": \"TCGA-GN-A261\"}, {\"v\": null}, {\"v\": null}, {\"v\": 12}]}, {\"c\": [{\"v\": \"SKCM\"}, {\"v\": \"Patient\"}, {\"v\": \"TCGA-GN-A261\"}, {\"v\": \"Neoadjuvant therapy\"}, {\"v\": \"Notification\"}, {\"v\": \"TCGA-GN-A261\"}, {\"v\": null}, {\"v\": null}, {\"v\": 12}]}], \"cols\": [{\"type\": \"string\", \"id\": \"Study\", \"label\": \"Study\"}, {\"type\": \"string\", \"id\": \"itemTypeName\", \"label\": \"itemTypeName\"}, {\"type\": \"string\", \"id\": \"itemBarcode\", \"label\": \"itemBarcode\"}, {\"type\": \"string\", \"id\": \"annotationCategoryName\", \"label\": \"annotationCategoryName\"}, {\"type\": \"string\", \"id\": \"annotationClassification\", \"label\": \"annotationClassification\"}, {\"type\": \"string\", \"id\": \"ParticipantBarcode\", \"label\": \"ParticipantBarcode\"}, {\"type\": \"string\", \"id\": \"SampleBarcode\", \"label\": \"SampleBarcode\"}, {\"type\": \"string\", \"id\": \"AliquotBarcode\", \"label\": \"AliquotBarcode\"}, {\"type\": \"number\", \"id\": \"n\", \"label\": \"n\"}]});\n",
       "        }\n",
       "      );\n",
       "    </script>\n",
       "  "
      ],
      "text/plain": [
       "QueryResultsTable job_39fbLGjKlHTV16Leiu1L2eLlhwc"
      ]
     },
     "execution_count": 9,
     "metadata": {},
     "output_type": "execute_result"
    }
   ],
   "source": [
    "%%sql\n",
    "\n",
    "SELECT\n",
    " Study,\n",
    " itemTypeName,\n",
    " itemBarcode,\n",
    " annotationCategoryName,\n",
    " annotationClassification,\n",
    " ParticipantBarcode,\n",
    " SampleBarcode,\n",
    " AliquotBarcode,\n",
    " LENGTH(itemBarcode) AS n\n",
    "FROM\n",
    "  $annotations_BQtable\n",
    "WHERE\n",
    "  ( ParticipantBarcode=\"TCGA-GN-A261\" )\n",
    "ORDER BY n ASC"
   ]
  },
  {
   "cell_type": "markdown",
   "metadata": {},
   "source": [
    "As you can see in the results returned from the previous two queries, the SampleBarcode and the AliquotBarcode fields may or may not be filled in, depending on the itemTypeName."
   ]
  },
  {
   "cell_type": "code",
   "execution_count": 10,
   "metadata": {
    "collapsed": false
   },
   "outputs": [
    {
     "data": {
      "text/html": [
       "\n",
       "    <div class=\"bqtv\" id=\"9_146379244020\"><table><tr><th>Study</th><th>itemTypeName</th><th>itemBarcode</th><th>annotationCategoryName</th><th>annotationClassification</th><th>annotationNoteText</th><th>ParticipantBarcode</th><th>SampleBarcode</th><th>AliquotBarcode</th><th>n</th></tr><tr><td>HNSC</td><td>Analyte</td><td>TCGA-RS-A6TP-10A-01D</td><td>General</td><td>Observation</td><td>DNA analyte UUID: 8304F61F-C217-4B9F-BA64-6486DA54E6C8 was involved in an extraction protocol deviation wherein an additional column purification step was used as a means of buffer exchange on the column-eluted analyte.</td><td>TCGA-RS-A6TP</td><td>TCGA-RS-A6TP-10A</td><td>&nbsp;</td><td>20</td></tr></table></div>\n",
       "    <br />(rows: 1, time: 1.2s,     4MB processed, job: job_7ea51b7fV1VXWx3GfpEdL4CQTW4)<br />\n",
       "    <script>\n",
       "      require(['extensions/charting', 'element!9_146379244020', 'style!/static/extensions/charting.css'],\n",
       "        function(charts, dom) {\n",
       "          charts.render(dom,\n",
       "            {\n",
       "              chartStyle:\"table\",\n",
       "              dataName:\"7\",\n",
       "              fields:\"Study,itemTypeName,itemBarcode,annotationCategoryName,annotationClassification,annotationNoteText,ParticipantBarcode,SampleBarcode,AliquotBarcode,n\",\n",
       "              totalRows:1,\n",
       "              rowsPerPage:25,\n",
       "            }, {}, {\"rows\": [{\"c\": [{\"v\": \"HNSC\"}, {\"v\": \"Analyte\"}, {\"v\": \"TCGA-RS-A6TP-10A-01D\"}, {\"v\": \"General\"}, {\"v\": \"Observation\"}, {\"v\": \"DNA analyte UUID: 8304F61F-C217-4B9F-BA64-6486DA54E6C8 was involved in an extraction protocol deviation wherein an additional column purification step was used as a means of buffer exchange on the column-eluted analyte.\"}, {\"v\": \"TCGA-RS-A6TP\"}, {\"v\": \"TCGA-RS-A6TP-10A\"}, {\"v\": null}, {\"v\": 20}]}], \"cols\": [{\"type\": \"string\", \"id\": \"Study\", \"label\": \"Study\"}, {\"type\": \"string\", \"id\": \"itemTypeName\", \"label\": \"itemTypeName\"}, {\"type\": \"string\", \"id\": \"itemBarcode\", \"label\": \"itemBarcode\"}, {\"type\": \"string\", \"id\": \"annotationCategoryName\", \"label\": \"annotationCategoryName\"}, {\"type\": \"string\", \"id\": \"annotationClassification\", \"label\": \"annotationClassification\"}, {\"type\": \"string\", \"id\": \"annotationNoteText\", \"label\": \"annotationNoteText\"}, {\"type\": \"string\", \"id\": \"ParticipantBarcode\", \"label\": \"ParticipantBarcode\"}, {\"type\": \"string\", \"id\": \"SampleBarcode\", \"label\": \"SampleBarcode\"}, {\"type\": \"string\", \"id\": \"AliquotBarcode\", \"label\": \"AliquotBarcode\"}, {\"type\": \"number\", \"id\": \"n\", \"label\": \"n\"}]});\n",
       "        }\n",
       "      );\n",
       "    </script>\n",
       "  "
      ],
      "text/plain": [
       "QueryResultsTable job_7ea51b7fV1VXWx3GfpEdL4CQTW4"
      ]
     },
     "execution_count": 10,
     "metadata": {},
     "output_type": "execute_result"
    }
   ],
   "source": [
    "%%sql\n",
    "\n",
    "SELECT\n",
    " Study,\n",
    " itemTypeName,\n",
    " itemBarcode,\n",
    " annotationCategoryName,\n",
    " annotationClassification,\n",
    " annotationNoteText,\n",
    " ParticipantBarcode,\n",
    " SampleBarcode,\n",
    " AliquotBarcode,\n",
    " LENGTH(itemBarcode) AS n\n",
    "FROM\n",
    "  $annotations_BQtable\n",
    "WHERE\n",
    "  ( ParticipantBarcode=\"TCGA-RS-A6TP\" )\n",
    "ORDER BY n ASC"
   ]
  },
  {
   "cell_type": "markdown",
   "metadata": {},
   "source": [
    "In this example, there is just one annotation relevant to this particular patient, and one has to look at the ``annotationNoteText`` to find out what the potential issue may be with this particular analyte.  Any aliquots derived from this blood-normal analyte might need to be used with care."
   ]
  },
  {
   "cell_type": "code",
   "execution_count": null,
   "metadata": {
    "collapsed": true
   },
   "outputs": [],
   "source": []
  }
 ],
 "metadata": {
  "kernelspec": {
   "display_name": "Python 2",
   "language": "python",
   "name": "python2"
  },
  "language_info": {
   "codemirror_mode": {
    "name": "ipython",
    "version": 2
   },
   "file_extension": ".py",
   "mimetype": "text/x-python",
   "name": "python",
   "nbconvert_exporter": "python",
   "pygments_lexer": "ipython2",
   "version": "2.7.9"
  }
 },
 "nbformat": 4,
 "nbformat_minor": 0
}
