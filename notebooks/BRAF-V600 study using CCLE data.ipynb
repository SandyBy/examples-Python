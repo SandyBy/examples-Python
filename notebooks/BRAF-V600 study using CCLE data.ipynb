{
 "cells": [
  {
   "cell_type": "markdown",
   "metadata": {},
   "source": [
    "# Working with BigQuery tables and the Genomics API"
   ]
  },
  {
   "cell_type": "markdown",
   "metadata": {},
   "source": [
    "\n",
    "## Case Study: BRAF V600 mutations in CCLE cell-lines\n",
    "\n",
    "In this notebook we'll show you how you might combine information available in BigQuery tables with sequence-reads that have been imported into Google Genomics.  We'll be using the open-access CCLE data for this example.\n",
    "\n",
    "(Be sure to also have a look at this [Getting started with the Genomics API](https://github.com/googlegenomics/datalab-examples/blob/master/datalab/genomics/Getting%20started%20with%20the%20Genomics%20API.ipynb) notebook available on github.)"
   ]
  },
  {
   "cell_type": "markdown",
   "metadata": {},
   "source": [
    "We'll be using the [Google Python API client](https://github.com/google/google-api-python-client) so we'll need to install that first using the ``pip`` package manager."
   ]
  },
  {
   "cell_type": "code",
   "execution_count": 148,
   "metadata": {
    "collapsed": false
   },
   "outputs": [
    {
     "name": "stdout",
     "output_type": "stream",
     "text": [
      "Requirement already up-to-date: google-api-python-client in /usr/local/lib/python2.7/dist-packages\r\n",
      "Cleaning up...\r\n"
     ]
    }
   ],
   "source": [
    "!pip install --upgrade google-api-python-client"
   ]
  },
  {
   "cell_type": "markdown",
   "metadata": {},
   "source": [
    "Next we're going to need to authenticate using the service account on the Datalab host."
   ]
  },
  {
   "cell_type": "code",
   "execution_count": 149,
   "metadata": {
    "collapsed": false
   },
   "outputs": [
    {
     "data": {
      "text/plain": [
       "<httplib2.Http at 0x7f7e806c2a10>"
      ]
     },
     "execution_count": 149,
     "metadata": {},
     "output_type": "execute_result"
    }
   ],
   "source": [
    "from httplib2 import Http\n",
    "from oauth2client.client import GoogleCredentials\n",
    "credentials = GoogleCredentials.get_application_default()\n",
    "http = Http()\n",
    "credentials.authorize(http)"
   ]
  },
  {
   "cell_type": "markdown",
   "metadata": {},
   "source": [
    "Now we can create a client for the Genomics API."
   ]
  },
  {
   "cell_type": "code",
   "execution_count": 150,
   "metadata": {
    "collapsed": false
   },
   "outputs": [],
   "source": [
    "from apiclient import discovery\n",
    "ggSvc = discovery.build ( 'genomics', 'v1', http=http )"
   ]
  },
  {
   "cell_type": "markdown",
   "metadata": {},
   "source": [
    "We're also going to want to work with BigQuery, so we'll need the biguery module.  We will also be using the pandas and time modules."
   ]
  },
  {
   "cell_type": "code",
   "execution_count": 151,
   "metadata": {
    "collapsed": true
   },
   "outputs": [],
   "source": [
    "import gcp.bigquery as bq\n",
    "import pandas as pd\n",
    "import time"
   ]
  },
  {
   "cell_type": "markdown",
   "metadata": {},
   "source": [
    "The ISB-CGC group has assembled metadata as well as molecular data from the CCLE project into an open-access BigQuery dataset called ``isb-cgc:ccle_201602_alpha``.  In this notebook we will make use of two tables in this dataset: ``Mutation_calls`` and ``DataFile_information``.  You can explore the entire dataset using the BigQuery [web UI](https://bigquery.cloud.google.com)."
   ]
  },
  {
   "cell_type": "markdown",
   "metadata": {},
   "source": [
    "Let's say that we're interested in cell-lines with BRAF V600 mutations, and in particular we want to see if there is evidence in both the DNA-seq and the RNA-seq data for these mutations.  Let's start by making sure that there are some cell-lines with these mutations in our dataset:"
   ]
  },
  {
   "cell_type": "code",
   "execution_count": 152,
   "metadata": {
    "collapsed": false
   },
   "outputs": [
    {
     "data": {
      "text/html": [
       "\n",
       "    <div class=\"bqtv\" id=\"5_145785126557\"><table><tr><th>CCLE_name</th><th>Hugo_Symbol</th><th>Protein_Change</th><th>Genome_Change</th></tr><tr><td>8305C_THYROID</td><td>BRAF</td><td>p.V600E</td><td>g.chr7:140453136A&gt;T</td></tr><tr><td>8505C_THYROID</td><td>BRAF</td><td>p.V600E</td><td>g.chr7:140453136A&gt;T</td></tr><tr><td>A375_SKIN</td><td>BRAF</td><td>p.V600E</td><td>g.chr7:140453136A&gt;T</td></tr><tr><td>A673_BONE</td><td>BRAF</td><td>p.V600E</td><td>g.chr7:140453136A&gt;T</td></tr><tr><td>A101D_SKIN</td><td>BRAF</td><td>p.V600E</td><td>g.chr7:140453136A&gt;T</td></tr></table></div>\n",
       "    <br />(rows: 5, time: 0.6s, cached, job: job_RKWvCSQ1mHiWb82OsDk2Zx-_glc)<br />\n",
       "    <script>\n",
       "      require(['extensions/charting', 'element!5_145785126557', 'style!/static/extensions/charting.css'],\n",
       "        function(charts, dom) {\n",
       "          charts.render(dom,\n",
       "            {\n",
       "              chartStyle:\"table\",\n",
       "              dataName:\"2\",\n",
       "              fields:\"CCLE_name,Hugo_Symbol,Protein_Change,Genome_Change\",\n",
       "              totalRows:5,\n",
       "              rowsPerPage:25,\n",
       "            }, {}, {\"rows\": [{\"c\": [{\"v\": \"8305C_THYROID\"}, {\"v\": \"BRAF\"}, {\"v\": \"p.V600E\"}, {\"v\": \"g.chr7:140453136A>T\"}]}, {\"c\": [{\"v\": \"8505C_THYROID\"}, {\"v\": \"BRAF\"}, {\"v\": \"p.V600E\"}, {\"v\": \"g.chr7:140453136A>T\"}]}, {\"c\": [{\"v\": \"A375_SKIN\"}, {\"v\": \"BRAF\"}, {\"v\": \"p.V600E\"}, {\"v\": \"g.chr7:140453136A>T\"}]}, {\"c\": [{\"v\": \"A673_BONE\"}, {\"v\": \"BRAF\"}, {\"v\": \"p.V600E\"}, {\"v\": \"g.chr7:140453136A>T\"}]}, {\"c\": [{\"v\": \"A101D_SKIN\"}, {\"v\": \"BRAF\"}, {\"v\": \"p.V600E\"}, {\"v\": \"g.chr7:140453136A>T\"}]}], \"cols\": [{\"type\": \"string\", \"id\": \"CCLE_name\", \"label\": \"CCLE_name\"}, {\"type\": \"string\", \"id\": \"Hugo_Symbol\", \"label\": \"Hugo_Symbol\"}, {\"type\": \"string\", \"id\": \"Protein_Change\", \"label\": \"Protein_Change\"}, {\"type\": \"string\", \"id\": \"Genome_Change\", \"label\": \"Genome_Change\"}]});\n",
       "        }\n",
       "      );\n",
       "    </script>\n",
       "  "
      ],
      "text/plain": [
       "QueryResultsTable job_RKWvCSQ1mHiWb82OsDk2Zx-_glc"
      ]
     },
     "execution_count": 152,
     "metadata": {},
     "output_type": "execute_result"
    }
   ],
   "source": [
    "%%sql\n",
    "\n",
    "SELECT CCLE_name, Hugo_Symbol, Protein_Change, Genome_Change \n",
    "FROM [ccle_201602_alpha.Mutation_calls] \n",
    "WHERE ( Hugo_Symbol=\"BRAF\" AND Protein_Change CONTAINS \"p.V600\" )\n",
    "ORDER BY Cell_line_primary_name\n",
    "LIMIT 5"
   ]
  },
  {
   "cell_type": "markdown",
   "metadata": {},
   "source": [
    "OK, so let's get the complete list of cell-lines with this particular mutation:"
   ]
  },
  {
   "cell_type": "code",
   "execution_count": 153,
   "metadata": {
    "collapsed": true
   },
   "outputs": [],
   "source": [
    "%%sql --module get_mutated_samples\n",
    "\n",
    "SELECT CCLE_name \n",
    "FROM [ccle_201602_alpha.Mutation_calls] \n",
    "WHERE ( Hugo_Symbol=\"BRAF\" AND Protein_Change CONTAINS \"p.V600\" )\n",
    "ORDER BY Cell_line_primary_name"
   ]
  },
  {
   "cell_type": "code",
   "execution_count": 154,
   "metadata": {
    "collapsed": false
   },
   "outputs": [
    {
     "name": "stdout",
     "output_type": "stream",
     "text": [
      " Found 54 samples with a BRAF V600 mutation. \n"
     ]
    }
   ],
   "source": [
    "r = bq.Query(get_mutated_samples).results()\n",
    "list1 = r.to_dataframe()\n",
    "print \" Found %d samples with a BRAF V600 mutation. \" % len(list1)"
   ]
  },
  {
   "cell_type": "markdown",
   "metadata": {},
   "source": [
    "Now we want to know, from the ``DataFile_information`` table, which cell lines have both DNA-seq and RNA-seq data imported into Google Genomics.  (To find these samples, we will look for samples that have non-null readgroupset IDs from \"DNA\" and \"RNA\" pipelines.) "
   ]
  },
  {
   "cell_type": "code",
   "execution_count": 155,
   "metadata": {
    "collapsed": true
   },
   "outputs": [],
   "source": [
    "%%sql --module get_samples_with_data\n",
    "\n",
    "SELECT\n",
    "  a.CCLE_name AS CCLE_name\n",
    "FROM (\n",
    "  SELECT\n",
    "    CCLE_name\n",
    "  FROM\n",
    "    [ccle_201602_alpha.DataFile_information]\n",
    "  WHERE\n",
    "    ( Pipeline CONTAINS \"DNA\"\n",
    "      AND GG_readgroupset_id<>\"NULL\" ) ) a\n",
    "JOIN (\n",
    "  SELECT\n",
    "    CCLE_name\n",
    "  FROM\n",
    "    [ccle_201602_alpha.DataFile_information]\n",
    "  WHERE\n",
    "    ( Pipeline CONTAINS \"RNA\"\n",
    "      AND GG_readgroupset_id<>\"NULL\" ) ) b\n",
    "ON\n",
    "  a.CCLE_name = b.CCLE_name"
   ]
  },
  {
   "cell_type": "code",
   "execution_count": 156,
   "metadata": {
    "collapsed": false
   },
   "outputs": [
    {
     "name": "stdout",
     "output_type": "stream",
     "text": [
      " Found 264 samples with both DNA-seq and RNA-seq reads. \n"
     ]
    }
   ],
   "source": [
    "r = bq.Query(get_samples_with_data).results()\n",
    "list2 = r.to_dataframe()\n",
    "print \" Found %d samples with both DNA-seq and RNA-seq reads. \" % len(list2)"
   ]
  },
  {
   "cell_type": "markdown",
   "metadata": {},
   "source": [
    "Now let's find out which samples are in both of these lists:"
   ]
  },
  {
   "cell_type": "code",
   "execution_count": 157,
   "metadata": {
    "collapsed": false
   },
   "outputs": [
    {
     "name": "stdout",
     "output_type": "stream",
     "text": [
      " Found 7 mutated samples with DNA-seq and RNA-seq data. \n"
     ]
    }
   ],
   "source": [
    "list3 = pd.merge ( list1, list2, how='inner', on=['CCLE_name'] )\n",
    "print \" Found %d mutated samples with DNA-seq and RNA-seq data. \" % len(list3)"
   ]
  },
  {
   "cell_type": "markdown",
   "metadata": {},
   "source": [
    "No we're going to take a closer look at the reads from each of these samples.  First, we'll need to be able to get the readgroupset IDs for each sample from the BigQuery table.  To do this, we'll define a parameterized function:"
   ]
  },
  {
   "cell_type": "code",
   "execution_count": 158,
   "metadata": {
    "collapsed": false
   },
   "outputs": [],
   "source": [
    "%%sql --module get_readgroupsetid\n",
    "\n",
    "SELECT Pipeline, GG_readgroupset_id \n",
    "FROM [isb-cgc:ccle_201602_alpha.DataFile_information]\n",
    "WHERE CCLE_name=$c AND GG_readgroupset_id<>\"NULL\""
   ]
  },
  {
   "cell_type": "markdown",
   "metadata": {},
   "source": [
    "Let's take a look at how this will work:"
   ]
  },
  {
   "cell_type": "code",
   "execution_count": 159,
   "metadata": {
    "collapsed": false
   },
   "outputs": [
    {
     "name": "stdout",
     "output_type": "stream",
     "text": [
      "COLO783_SKIN\n",
      "                Pipeline        GG_readgroupset_id\n",
      "0  broad.mit.edu__DNASeq  CJKPhaq1GhC4rZSVj4TMoIIB\n",
      "1  broad.mit.edu__RNASeq  CJKPhaq1GhDN4avdoaTXsKcB\n"
     ]
    }
   ],
   "source": [
    "aName = list3['CCLE_name'][0]\n",
    "print aName\n",
    "ids = bq.Query(get_readgroupsetid,c=aName).to_dataframe()\n",
    "print ids"
   ]
  },
  {
   "cell_type": "markdown",
   "metadata": {},
   "source": [
    "Ok, so we see that for this sample, we have two readgroupset IDs, one based on DNA-seq and one based on RNA-seq.  This is what we expect, based on how we chose this list of samples."
   ]
  },
  {
   "cell_type": "markdown",
   "metadata": {},
   "source": [
    "Now we'll define a function we can re-use that calls the GA4GH API reads.search method to find all reads that overlap the V600 mutation position.  Note that we will query all of the readgroupsets that we get for each sample at the same time by passing in a list of readGroupSetIds.  Once we have the reads, we'll organized them into a dictionary based on the local context centered on the mutation hotspot."
   ]
  },
  {
   "cell_type": "code",
   "execution_count": 160,
   "metadata": {
    "collapsed": false
   },
   "outputs": [],
   "source": [
    "chr = \"7\"\n",
    "pos = 140453135\n",
    "width = 11\n",
    "rgsList = ids['GG_readgroupset_id'].tolist()\n",
    "\n",
    "def getReads ( rgsList, pos, width):\n",
    "  \n",
    "  payload = { \"readGroupSetIds\": rgsList,\n",
    "            \"referenceName\": chr,\n",
    "            \"start\": pos-(width/2),\n",
    "            \"end\": pos+(width/2),\n",
    "            \"pageSize\": 2048      \n",
    "  }\n",
    "  r = ggSvc.reads().search(body=payload).execute()\n",
    "  \n",
    "  context = {}\n",
    "  for a in r['alignments']:\n",
    "    rgsid = a['readGroupSetId']\n",
    "    seq = a['alignedSequence']\n",
    "    seqStartPos = int ( a['alignment']['position']['position'] )\n",
    "    relPos = pos - (width/2) - seqStartPos\n",
    "    if ( relPos >=0 and relPos+width<len(seq) ):\n",
    "      # print rgsid, seq[relPos:relPos+width]\n",
    "      c = seq[relPos:relPos+width]\n",
    "      if (c not in context):\n",
    "        context[c] = {}\n",
    "        context[c][rgsid] = 1\n",
    "      else:\n",
    "        if (rgsid not in context[c]):\n",
    "          context[c][rgsid] = 1\n",
    "        else:\n",
    "          context[c][rgsid] += 1\n",
    "\n",
    "  for c in context:\n",
    "    numReads = 0\n",
    "    for a in context[c]:\n",
    "      numReads += context[c][a]\n",
    "    # write it out only if we have information from two or more readgroupsets\n",
    "    if ( numReads>3 or len(context[c])>1 ):\n",
    "      print \"     --> \", c, context[c]"
   ]
  },
  {
   "cell_type": "markdown",
   "metadata": {},
   "source": [
    "Here we define the position (0-based) of the BRAF V600 mutation:"
   ]
  },
  {
   "cell_type": "code",
   "execution_count": 161,
   "metadata": {
    "collapsed": true
   },
   "outputs": [],
   "source": [
    "chr = \"7\"\n",
    "pos = 140453135\n",
    "width = 11"
   ]
  },
  {
   "cell_type": "markdown",
   "metadata": {},
   "source": [
    "OK, now we can loop over all of the samples we found earlier:"
   ]
  },
  {
   "cell_type": "code",
   "execution_count": 162,
   "metadata": {
    "collapsed": false
   },
   "outputs": [
    {
     "name": "stdout",
     "output_type": "stream",
     "text": [
      " \n",
      " \n",
      "COLO783_SKIN\n",
      "   broad.mit.edu__DNASeq CJKPhaq1GhC4rZSVj4TMoIIB\n",
      "   broad.mit.edu__RNASeq CJKPhaq1GhDN4avdoaTXsKcB\n",
      "     -->  ATTTCACTGTA {u'CJKPhaq1GhC4rZSVj4TMoIIB': 47, u'CJKPhaq1GhDN4avdoaTXsKcB': 10}\n",
      "     -->  ATTTCTCTGTA {u'CJKPhaq1GhC4rZSVj4TMoIIB': 100, u'CJKPhaq1GhDN4avdoaTXsKcB': 30}\n",
      " \n",
      " \n",
      "K029AX_SKIN\n",
      "   broad.mit.edu__DNASeq CJKPhaq1GhCj-6WMobnvxCA\n",
      "   broad.mit.edu__RNASeq CJKPhaq1GhDHzLyn-_j7w18\n",
      "     -->  ATTTCACTGTA {u'CJKPhaq1GhDHzLyn-_j7w18': 8, u'CJKPhaq1GhCj-6WMobnvxCA': 63}\n",
      "     -->  ATTTCTCTGTA {u'CJKPhaq1GhDHzLyn-_j7w18': 13, u'CJKPhaq1GhCj-6WMobnvxCA': 119}\n",
      " \n",
      " \n",
      "MALME3M_SKIN\n",
      "   broad.mit.edu__DNASeq CJKPhaq1GhCj8MDayraUjOUB\n",
      "   broad.mit.edu__RNASeq CJKPhaq1GhCMvqyM-MWor2o\n",
      "     -->  ATTTCACTGTA {u'CJKPhaq1GhCj8MDayraUjOUB': 48, u'CJKPhaq1GhCMvqyM-MWor2o': 9}\n",
      "     -->  ATTTCTCTGTA {u'CJKPhaq1GhCj8MDayraUjOUB': 126, u'CJKPhaq1GhCMvqyM-MWor2o': 37}\n",
      " \n",
      " \n",
      "SIGM5_HAEMATOPOIETIC_AND_LYMPHOID_TISSUE\n",
      "   broad.mit.edu__DNASeq CJKPhaq1GhDH0sLg9qTgt5QB\n",
      "   broad.mit.edu__RNASeq CJKPhaq1GhD_2PTBu4jiq5wB\n",
      "     -->  ATTTCACTGTA {u'CJKPhaq1GhD_2PTBu4jiq5wB': 3, u'CJKPhaq1GhDH0sLg9qTgt5QB': 28}\n",
      "     -->  ATTTCTCTGTA {u'CJKPhaq1GhD_2PTBu4jiq5wB': 6, u'CJKPhaq1GhDH0sLg9qTgt5QB': 44}\n",
      " \n",
      " \n",
      "WM793_SKIN\n",
      "   broad.mit.edu__DNASeq CJKPhaq1GhDauaiO54TV-lU\n",
      "   broad.mit.edu__RNASeq CJKPhaq1GhDo3-DQ8s2qiAU\n",
      "     -->  ATTTCACTGTA {u'CJKPhaq1GhDo3-DQ8s2qiAU': 11, u'CJKPhaq1GhDauaiO54TV-lU': 50}\n",
      "     -->  ATTTCTCTGTA {u'CJKPhaq1GhDo3-DQ8s2qiAU': 13, u'CJKPhaq1GhDauaiO54TV-lU': 102}\n",
      " \n",
      " \n",
      "WM88_SKIN\n",
      "   broad.mit.edu__DNASeq CJKPhaq1GhD85Zrppre74-0B\n",
      "   broad.mit.edu__RNASeq CJKPhaq1GhDvot6FqNrO8bUB\n",
      "     -->  ATTTCACTGTA {u'CJKPhaq1GhDvot6FqNrO8bUB': 13, u'CJKPhaq1GhD85Zrppre74-0B': 47}\n",
      "     -->  ATTTCTCTGTA {u'CJKPhaq1GhDvot6FqNrO8bUB': 17, u'CJKPhaq1GhD85Zrppre74-0B': 76}\n",
      " \n",
      " \n",
      "WM1799_SKIN\n",
      "   broad.mit.edu__DNASeq CJKPhaq1GhDQ5u66urbHjGI\n",
      "   broad.mit.edu__RNASeq CJKPhaq1GhDrrMCJ0_zBuKkB\n",
      "     -->  ATTTCTCTGTA {u'CJKPhaq1GhDrrMCJ0_zBuKkB': 42, u'CJKPhaq1GhDQ5u66urbHjGI': 143}\n"
     ]
    }
   ],
   "source": [
    "for aName in list3['CCLE_name']: \n",
    "  print \" \"\n",
    "  print \" \"\n",
    "  print aName\n",
    "  r = bq.Query(get_readgroupsetid,c=aName).to_dataframe()\n",
    "  for i in range(r.shape[0]):\n",
    "    print \"  \", r['Pipeline'][i], r['GG_readgroupset_id'][i]\n",
    "  rgsList = r['GG_readgroupset_id'].tolist()\n",
    "  getReads ( rgsList, pos, width)\n",
    "  "
   ]
  },
  {
   "cell_type": "markdown",
   "metadata": {},
   "source": [
    "Notice that we consistently see greater read-depth in the DNA-seq data.  Also all but the last sample are heterozygous for the V600 mutation, while ``WM1799_SKIN`` is homozygous.  (Of course a proper analysis would also take into consideration the cigar information that is available with each read as well.)"
   ]
  },
  {
   "cell_type": "code",
   "execution_count": null,
   "metadata": {
    "collapsed": true
   },
   "outputs": [],
   "source": []
  }
 ],
 "metadata": {
  "kernelspec": {
   "display_name": "Python 2",
   "language": "python",
   "name": "python2"
  },
  "language_info": {
   "codemirror_mode": {
    "name": "ipython",
    "version": 2
   },
   "file_extension": ".py",
   "mimetype": "text/x-python",
   "name": "python",
   "nbconvert_exporter": "python",
   "pygments_lexer": "ipython2",
   "version": "2.7.9"
  }
 },
 "nbformat": 4,
 "nbformat_minor": 0
}
