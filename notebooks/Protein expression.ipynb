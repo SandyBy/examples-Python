{
 "cells": [
  {
   "cell_type": "markdown",
   "metadata": {},
   "source": [
    "# Protein expression (MDAnderson RPPA)\n",
    "\n",
    "The goal of this notebook is to introduce you to the Protein expression BigQuery table.\n",
    "\n",
    "This table contains all available TCGA Level-3 protein expression data produced by MD Anderson's RPPA pipeline, as of October 2015.  (Actual archive dates range from July 2013 to August 2015.)  The most recent archives (*eg* ``mdanderson.org_COAD.MDA_RPPA_Core.Level_3.2.0.0``) for each of the 32 tumor types was downloaded from the DCC, and data extracted from all files matching the pattern ``%_RPPA_Core.protein_expression%.txt``. Each of these “protein expression” files has two columns: the ``Composite Element REF`` and the ``Protein Expression``.  In addition, each mage-tab archive contains an ``antibody_annotation`` file which is parsed in order to obtain the correct mapping between antibody name, protein name, and gene symbol.  During the ETL process, portions of the protein name and the antibody name were extracted into additional columns in the table, including ``Phospho``, ``antibodySource`` and ``validationStatus``. \n",
    "\n",
    "In order to work with BigQuery, you need to import the python bigquery module (`gcp.bigquery`) and you need to know the name(s) of the table(s) you are going to be working with:"
   ]
  },
  {
   "cell_type": "code",
   "execution_count": 1,
   "metadata": {
    "collapsed": true
   },
   "outputs": [],
   "source": [
    "import gcp.bigquery as bq\n",
    "rppa_BQtable = bq.Table('isb-cgc:tcga_201510_alpha.Protein_RPPA_data')"
   ]
  },
  {
   "cell_type": "markdown",
   "metadata": {},
   "source": [
    "From now on, we will refer to this table using this variable ($rppa_BQtable), but we could just as well explicitly give the table name each time.\n",
    "\n",
    "Let's start by taking a look at the table schema:"
   ]
  },
  {
   "cell_type": "code",
   "execution_count": 2,
   "metadata": {
    "collapsed": false
   },
   "outputs": [
    {
     "data": {
      "text/html": [
       "\n",
       "    <div class=\"bqsv\" id=\"1_146379221563\"></div>\n",
       "    <script>\n",
       "      require(['extensions/bigquery', 'element!1_146379221563', 'style!/static/extensions/bigquery.css'],\n",
       "        function(bq, dom) {\n",
       "          bq.renderSchema(dom, [{\"type\": \"STRING\", \"name\": \"ParticipantBarcode\"}, {\"type\": \"STRING\", \"name\": \"SampleBarcode\"}, {\"type\": \"STRING\", \"name\": \"SampleTypeLetterCode\"}, {\"type\": \"STRING\", \"name\": \"AliquotBarcode\"}, {\"type\": \"STRING\", \"name\": \"Study\"}, {\"type\": \"STRING\", \"name\": \"Gene_Name\"}, {\"type\": \"FLOAT\", \"name\": \"Protein_Expression\"}, {\"type\": \"STRING\", \"name\": \"Protein_Name\"}, {\"type\": \"STRING\", \"name\": \"Protein_Basename\"}, {\"type\": \"STRING\", \"name\": \"Phospho\"}, {\"type\": \"STRING\", \"name\": \"antibodySource\"}, {\"type\": \"STRING\", \"name\": \"validationStatus\"}]);\n",
       "        }\n",
       "      );\n",
       "    </script>\n",
       "    "
      ],
      "text/plain": [
       "<IPython.core.display.HTML object>"
      ]
     },
     "execution_count": 2,
     "metadata": {},
     "output_type": "execute_result"
    }
   ],
   "source": [
    "%bigquery schema --table $rppa_BQtable"
   ]
  },
  {
   "cell_type": "markdown",
   "metadata": {},
   "source": [
    "Let's count up the number of unique patients, samples and aliquots mentioned in this table.  We will do this by defining a very simple parameterized query.  (Note that when using a variable for the table name in the FROM clause, you should not also use the square brackets that you usually would if you were specifying the table name as a string.)"
   ]
  },
  {
   "cell_type": "code",
   "execution_count": 3,
   "metadata": {
    "collapsed": true
   },
   "outputs": [],
   "source": [
    "%%sql --module count_unique\n",
    "\n",
    "DEFINE QUERY q1\n",
    "SELECT COUNT (DISTINCT $f, 25000) AS n\n",
    "FROM $t"
   ]
  },
  {
   "cell_type": "code",
   "execution_count": 4,
   "metadata": {
    "collapsed": false
   },
   "outputs": [
    {
     "name": "stdout",
     "output_type": "stream",
     "text": [
      " There are   7593 unique values in the field ParticipantBarcode. \n",
      " There are   7681 unique values in the field SampleBarcode. \n",
      " There are   7690 unique values in the field AliquotBarcode. \n"
     ]
    }
   ],
   "source": [
    "fieldList = ['ParticipantBarcode', 'SampleBarcode', 'AliquotBarcode']\n",
    "for aField in fieldList:\n",
    "  field = rppa_BQtable.schema[aField]\n",
    "  rdf = bq.Query(count_unique.q1,t=rppa_BQtable,f=field).results().to_dataframe()\n",
    "  print \" There are %6d unique values in the field %s. \" % ( rdf.iloc[0]['n'], aField)"
   ]
  },
  {
   "cell_type": "raw",
   "metadata": {},
   "source": [
    "We can do the same thing to look at how many unique gene symbols and proteins exist in the table:"
   ]
  },
  {
   "cell_type": "code",
   "execution_count": 5,
   "metadata": {
    "collapsed": false
   },
   "outputs": [
    {
     "name": "stdout",
     "output_type": "stream",
     "text": [
      " There are    215 unique values in the field Gene_Name. \n",
      " There are    259 unique values in the field Protein_Name. \n",
      " There are    219 unique values in the field Protein_Basename. \n"
     ]
    }
   ],
   "source": [
    "fieldList = ['Gene_Name', 'Protein_Name', 'Protein_Basename']\n",
    "for aField in fieldList:\n",
    "  field = rppa_BQtable.schema[aField]\n",
    "  rdf = bq.Query(count_unique.q1,t=rppa_BQtable,f=field).results().to_dataframe()\n",
    "  print \" There are %6d unique values in the field %s. \" % ( rdf.iloc[0]['n'], aField)"
   ]
  },
  {
   "cell_type": "markdown",
   "metadata": {},
   "source": [
    "Based on the counts, we can see that there are several genes for which multiple proteins are assayed, and that overall this dataset is quite small compared to most of the other datasets.  Let's look at which genes have multiple proteins assayed:"
   ]
  },
  {
   "cell_type": "code",
   "execution_count": 6,
   "metadata": {
    "collapsed": false
   },
   "outputs": [
    {
     "data": {
      "text/html": [
       "\n",
       "    <div class=\"bqtv\" id=\"2_146379223353\"><table><tr><th>Gene_Name</th><th>n</th></tr><tr><td>EIF4EBP1</td><td>5</td></tr><tr><td>AKT1</td><td>3</td></tr><tr><td>AKT3</td><td>3</td></tr><tr><td></td><td>3</td></tr><tr><td>EGFR</td><td>3</td></tr><tr><td>PARP1</td><td>3</td></tr><tr><td>RPS6</td><td>3</td></tr><tr><td>SRC</td><td>3</td></tr><tr><td>CDKN1B</td><td>3</td></tr><tr><td>GSK3B</td><td>3</td></tr><tr><td>GSK3A</td><td>3</td></tr><tr><td>AKT2</td><td>3</td></tr><tr><td>YAP1</td><td>2</td></tr><tr><td>PDK1</td><td>2</td></tr><tr><td>PYGB</td><td>2</td></tr><tr><td>RB1</td><td>2</td></tr><tr><td>RPS6KB1</td><td>2</td></tr><tr><td>ERBB2</td><td>2</td></tr><tr><td>MAPK1</td><td>2</td></tr><tr><td>WWTR1</td><td>2</td></tr><tr><td>PEA-15</td><td>2</td></tr><tr><td>CHEK1</td><td>2</td></tr><tr><td>MET</td><td>2</td></tr><tr><td>SCD</td><td>2</td></tr><tr><td>MYH9</td><td>2</td></tr></table></div>\n",
       "    <br />(rows: 43, time: 1.6s,    26MB processed, job: job_pDHB9EVCsUnVwirtgYQUD7PKJxc)<br />\n",
       "    <script>\n",
       "      require(['extensions/charting', 'element!2_146379223353', 'style!/static/extensions/charting.css'],\n",
       "        function(charts, dom) {\n",
       "          charts.render(dom,\n",
       "            {\n",
       "              chartStyle:\"paged_table\",\n",
       "              dataName:\"0\",\n",
       "              fields:\"Gene_Name,n\",\n",
       "              totalRows:43,\n",
       "              rowsPerPage:25,\n",
       "            }, {}, {\"rows\": [{\"c\": [{\"v\": \"EIF4EBP1\"}, {\"v\": 5}]}, {\"c\": [{\"v\": \"AKT1\"}, {\"v\": 3}]}, {\"c\": [{\"v\": \"AKT3\"}, {\"v\": 3}]}, {\"c\": [{\"v\": \"\"}, {\"v\": 3}]}, {\"c\": [{\"v\": \"EGFR\"}, {\"v\": 3}]}, {\"c\": [{\"v\": \"PARP1\"}, {\"v\": 3}]}, {\"c\": [{\"v\": \"RPS6\"}, {\"v\": 3}]}, {\"c\": [{\"v\": \"SRC\"}, {\"v\": 3}]}, {\"c\": [{\"v\": \"CDKN1B\"}, {\"v\": 3}]}, {\"c\": [{\"v\": \"GSK3B\"}, {\"v\": 3}]}, {\"c\": [{\"v\": \"GSK3A\"}, {\"v\": 3}]}, {\"c\": [{\"v\": \"AKT2\"}, {\"v\": 3}]}, {\"c\": [{\"v\": \"YAP1\"}, {\"v\": 2}]}, {\"c\": [{\"v\": \"PDK1\"}, {\"v\": 2}]}, {\"c\": [{\"v\": \"PYGB\"}, {\"v\": 2}]}, {\"c\": [{\"v\": \"RB1\"}, {\"v\": 2}]}, {\"c\": [{\"v\": \"RPS6KB1\"}, {\"v\": 2}]}, {\"c\": [{\"v\": \"ERBB2\"}, {\"v\": 2}]}, {\"c\": [{\"v\": \"MAPK1\"}, {\"v\": 2}]}, {\"c\": [{\"v\": \"WWTR1\"}, {\"v\": 2}]}, {\"c\": [{\"v\": \"PEA-15\"}, {\"v\": 2}]}, {\"c\": [{\"v\": \"CHEK1\"}, {\"v\": 2}]}, {\"c\": [{\"v\": \"MET\"}, {\"v\": 2}]}, {\"c\": [{\"v\": \"SCD\"}, {\"v\": 2}]}, {\"c\": [{\"v\": \"MYH9\"}, {\"v\": 2}]}], \"cols\": [{\"type\": \"string\", \"id\": \"Gene_Name\", \"label\": \"Gene_Name\"}, {\"type\": \"number\", \"id\": \"n\", \"label\": \"n\"}]});\n",
       "        }\n",
       "      );\n",
       "    </script>\n",
       "  "
      ],
      "text/plain": [
       "QueryResultsTable job_pDHB9EVCsUnVwirtgYQUD7PKJxc"
      ]
     },
     "execution_count": 6,
     "metadata": {},
     "output_type": "execute_result"
    }
   ],
   "source": [
    "%%sql\n",
    "\n",
    "SELECT\n",
    "  Gene_Name,\n",
    "  COUNT(*) AS n\n",
    "FROM (\n",
    "  SELECT\n",
    "    Gene_Name,\n",
    "    Protein_Name,\n",
    "  FROM\n",
    "    $rppa_BQtable\n",
    "  GROUP BY\n",
    "    Gene_Name,\n",
    "    Protein_Name )\n",
    "GROUP BY\n",
    "  Gene_Name\n",
    "HAVING\n",
    "  ( n > 1 )\n",
    "ORDER BY\n",
    "  n DESC"
   ]
  },
  {
   "cell_type": "markdown",
   "metadata": {},
   "source": [
    "Let's look further in the the EIF4EBP1 gene which has the most different proteins being measured:"
   ]
  },
  {
   "cell_type": "code",
   "execution_count": 7,
   "metadata": {
    "collapsed": false
   },
   "outputs": [
    {
     "data": {
      "text/html": [
       "\n",
       "    <div class=\"bqtv\" id=\"3_146379223588\"><table><tr><th>Gene_Name</th><th>Protein_Name</th><th>Phospho</th><th>antibodySource</th><th>validationStatus</th></tr><tr><td>EIF4EBP1</td><td>4E-BP1</td><td>&nbsp;</td><td>R</td><td>V</td></tr><tr><td>EIF4EBP1</td><td>4E-BP1_pS65</td><td>pS65</td><td>R</td><td>V</td></tr><tr><td>EIF4EBP1</td><td>4E-BP1_pT37</td><td>pT37</td><td>R</td><td>V</td></tr><tr><td>EIF4EBP1</td><td>4E-BP1_pT37T46</td><td>pT37T46</td><td>R</td><td>V</td></tr><tr><td>EIF4EBP1</td><td>4E-BP1_pT70</td><td>pT70</td><td>R</td><td>C</td></tr><tr><td>EIF4EBP1</td><td>4E-BP1_pT70</td><td>pT70</td><td>R</td><td>V</td></tr></table></div>\n",
       "    <br />(rows: 6, time: 1.7s,    40MB processed, job: job_TOxmcW8ImkyEQ0oxEx-rdUf8Wx8)<br />\n",
       "    <script>\n",
       "      require(['extensions/charting', 'element!3_146379223588', 'style!/static/extensions/charting.css'],\n",
       "        function(charts, dom) {\n",
       "          charts.render(dom,\n",
       "            {\n",
       "              chartStyle:\"table\",\n",
       "              dataName:\"1\",\n",
       "              fields:\"Gene_Name,Protein_Name,Phospho,antibodySource,validationStatus\",\n",
       "              totalRows:6,\n",
       "              rowsPerPage:25,\n",
       "            }, {}, {\"rows\": [{\"c\": [{\"v\": \"EIF4EBP1\"}, {\"v\": \"4E-BP1\"}, {\"v\": null}, {\"v\": \"R\"}, {\"v\": \"V\"}]}, {\"c\": [{\"v\": \"EIF4EBP1\"}, {\"v\": \"4E-BP1_pS65\"}, {\"v\": \"pS65\"}, {\"v\": \"R\"}, {\"v\": \"V\"}]}, {\"c\": [{\"v\": \"EIF4EBP1\"}, {\"v\": \"4E-BP1_pT37\"}, {\"v\": \"pT37\"}, {\"v\": \"R\"}, {\"v\": \"V\"}]}, {\"c\": [{\"v\": \"EIF4EBP1\"}, {\"v\": \"4E-BP1_pT37T46\"}, {\"v\": \"pT37T46\"}, {\"v\": \"R\"}, {\"v\": \"V\"}]}, {\"c\": [{\"v\": \"EIF4EBP1\"}, {\"v\": \"4E-BP1_pT70\"}, {\"v\": \"pT70\"}, {\"v\": \"R\"}, {\"v\": \"C\"}]}, {\"c\": [{\"v\": \"EIF4EBP1\"}, {\"v\": \"4E-BP1_pT70\"}, {\"v\": \"pT70\"}, {\"v\": \"R\"}, {\"v\": \"V\"}]}], \"cols\": [{\"type\": \"string\", \"id\": \"Gene_Name\", \"label\": \"Gene_Name\"}, {\"type\": \"string\", \"id\": \"Protein_Name\", \"label\": \"Protein_Name\"}, {\"type\": \"string\", \"id\": \"Phospho\", \"label\": \"Phospho\"}, {\"type\": \"string\", \"id\": \"antibodySource\", \"label\": \"antibodySource\"}, {\"type\": \"string\", \"id\": \"validationStatus\", \"label\": \"validationStatus\"}]});\n",
       "        }\n",
       "      );\n",
       "    </script>\n",
       "  "
      ],
      "text/plain": [
       "QueryResultsTable job_TOxmcW8ImkyEQ0oxEx-rdUf8Wx8"
      ]
     },
     "execution_count": 7,
     "metadata": {},
     "output_type": "execute_result"
    }
   ],
   "source": [
    "%%sql\n",
    "\n",
    "SELECT\n",
    "  Gene_Name,\n",
    "  Protein_Name,\n",
    "  Phospho,\n",
    "  antibodySource,\n",
    "  validationStatus\n",
    "FROM\n",
    "  $rppa_BQtable\n",
    "WHERE\n",
    "  ( Gene_Name=\"EIF4EBP1\" )\n",
    "GROUP BY\n",
    "  Gene_Name,\n",
    "  Protein_Name,\n",
    "  Phospho,\n",
    "  antibodySource,\n",
    "  validationStatus\n",
    "ORDER BY\n",
    "  Gene_Name,\n",
    "  Protein_Name,\n",
    "  Phospho,\n",
    "  antibodySource,\n",
    "  validationStatus"
   ]
  },
  {
   "cell_type": "markdown",
   "metadata": {},
   "source": [
    "Some antibodies are non-specific and bind to protein products from multiple genes in a gene family.  One example of this is the AKT1, AKT2, AKT3 gene family.  This non-specificity is indicated in the antibody-annotation file by a list of gene symbols, but in this table, we duplicate the entries (as well as the data values) on multiple rows:"
   ]
  },
  {
   "cell_type": "code",
   "execution_count": 8,
   "metadata": {
    "collapsed": false
   },
   "outputs": [
    {
     "data": {
      "text/html": [
       "\n",
       "    <div class=\"bqtv\" id=\"4_146379223844\"><table><tr><th>Gene_Name</th><th>Protein_Name</th><th>Phospho</th><th>antibodySource</th><th>validationStatus</th></tr><tr><td>AKT1</td><td>Akt</td><td>&nbsp;</td><td>R</td><td>V</td></tr><tr><td>AKT1</td><td>Akt_pS473</td><td>pS473</td><td>R</td><td>V</td></tr><tr><td>AKT1</td><td>Akt_pT308</td><td>pT308</td><td>R</td><td>V</td></tr><tr><td>AKT1S1</td><td>PRAS40_pT246</td><td>pT246</td><td>R</td><td>V</td></tr><tr><td>AKT2</td><td>Akt</td><td>&nbsp;</td><td>R</td><td>V</td></tr><tr><td>AKT2</td><td>Akt_pS473</td><td>pS473</td><td>R</td><td>V</td></tr><tr><td>AKT2</td><td>Akt_pT308</td><td>pT308</td><td>R</td><td>V</td></tr><tr><td>AKT3</td><td>Akt</td><td>&nbsp;</td><td>R</td><td>V</td></tr><tr><td>AKT3</td><td>Akt_pS473</td><td>pS473</td><td>R</td><td>V</td></tr><tr><td>AKT3</td><td>Akt_pT308</td><td>pT308</td><td>R</td><td>V</td></tr></table></div>\n",
       "    <br />(rows: 10, time: 2.0s,    40MB processed, job: job_sSWUGfgZ44oBjJkhwIFbNPxlyc0)<br />\n",
       "    <script>\n",
       "      require(['extensions/charting', 'element!4_146379223844', 'style!/static/extensions/charting.css'],\n",
       "        function(charts, dom) {\n",
       "          charts.render(dom,\n",
       "            {\n",
       "              chartStyle:\"table\",\n",
       "              dataName:\"2\",\n",
       "              fields:\"Gene_Name,Protein_Name,Phospho,antibodySource,validationStatus\",\n",
       "              totalRows:10,\n",
       "              rowsPerPage:25,\n",
       "            }, {}, {\"rows\": [{\"c\": [{\"v\": \"AKT1\"}, {\"v\": \"Akt\"}, {\"v\": null}, {\"v\": \"R\"}, {\"v\": \"V\"}]}, {\"c\": [{\"v\": \"AKT1\"}, {\"v\": \"Akt_pS473\"}, {\"v\": \"pS473\"}, {\"v\": \"R\"}, {\"v\": \"V\"}]}, {\"c\": [{\"v\": \"AKT1\"}, {\"v\": \"Akt_pT308\"}, {\"v\": \"pT308\"}, {\"v\": \"R\"}, {\"v\": \"V\"}]}, {\"c\": [{\"v\": \"AKT1S1\"}, {\"v\": \"PRAS40_pT246\"}, {\"v\": \"pT246\"}, {\"v\": \"R\"}, {\"v\": \"V\"}]}, {\"c\": [{\"v\": \"AKT2\"}, {\"v\": \"Akt\"}, {\"v\": null}, {\"v\": \"R\"}, {\"v\": \"V\"}]}, {\"c\": [{\"v\": \"AKT2\"}, {\"v\": \"Akt_pS473\"}, {\"v\": \"pS473\"}, {\"v\": \"R\"}, {\"v\": \"V\"}]}, {\"c\": [{\"v\": \"AKT2\"}, {\"v\": \"Akt_pT308\"}, {\"v\": \"pT308\"}, {\"v\": \"R\"}, {\"v\": \"V\"}]}, {\"c\": [{\"v\": \"AKT3\"}, {\"v\": \"Akt\"}, {\"v\": null}, {\"v\": \"R\"}, {\"v\": \"V\"}]}, {\"c\": [{\"v\": \"AKT3\"}, {\"v\": \"Akt_pS473\"}, {\"v\": \"pS473\"}, {\"v\": \"R\"}, {\"v\": \"V\"}]}, {\"c\": [{\"v\": \"AKT3\"}, {\"v\": \"Akt_pT308\"}, {\"v\": \"pT308\"}, {\"v\": \"R\"}, {\"v\": \"V\"}]}], \"cols\": [{\"type\": \"string\", \"id\": \"Gene_Name\", \"label\": \"Gene_Name\"}, {\"type\": \"string\", \"id\": \"Protein_Name\", \"label\": \"Protein_Name\"}, {\"type\": \"string\", \"id\": \"Phospho\", \"label\": \"Phospho\"}, {\"type\": \"string\", \"id\": \"antibodySource\", \"label\": \"antibodySource\"}, {\"type\": \"string\", \"id\": \"validationStatus\", \"label\": \"validationStatus\"}]});\n",
       "        }\n",
       "      );\n",
       "    </script>\n",
       "  "
      ],
      "text/plain": [
       "QueryResultsTable job_sSWUGfgZ44oBjJkhwIFbNPxlyc0"
      ]
     },
     "execution_count": 8,
     "metadata": {},
     "output_type": "execute_result"
    }
   ],
   "source": [
    "%%sql\n",
    "\n",
    "SELECT\n",
    "  Gene_Name,\n",
    "  Protein_Name,\n",
    "  Phospho,\n",
    "  antibodySource,\n",
    "  validationStatus\n",
    "FROM\n",
    "  $rppa_BQtable\n",
    "WHERE\n",
    "  ( Gene_Name CONTAINS \"AKT\" )\n",
    "GROUP BY\n",
    "  Gene_Name,\n",
    "  Protein_Name,\n",
    "  Phospho,\n",
    "  antibodySource,\n",
    "  validationStatus\n",
    "ORDER BY\n",
    "  Gene_Name,\n",
    "  Protein_Name,\n",
    "  Phospho,\n",
    "  antibodySource,\n",
    "  validationStatus"
   ]
  },
  {
   "cell_type": "code",
   "execution_count": 9,
   "metadata": {
    "collapsed": false
   },
   "outputs": [
    {
     "data": {
      "text/html": [
       "\n",
       "    <div class=\"bqtv\" id=\"5_146379224073\"><table><tr><th>SampleBarcode</th><th>Study</th><th>Gene_Name</th><th>Protein_Name</th><th>Protein_Expression</th></tr><tr><td>TCGA-02-0003-01A</td><td>GBM</td><td>AKT1</td><td>Akt</td><td>-0.054002421</td></tr><tr><td>TCGA-02-0003-01A</td><td>GBM</td><td>AKT2</td><td>Akt</td><td>-0.054002421</td></tr><tr><td>TCGA-02-0003-01A</td><td>GBM</td><td>AKT3</td><td>Akt</td><td>-0.054002421</td></tr><tr><td>TCGA-02-0004-01A</td><td>GBM</td><td>AKT1</td><td>Akt</td><td>-1.159283912</td></tr><tr><td>TCGA-02-0004-01A</td><td>GBM</td><td>AKT2</td><td>Akt</td><td>-1.159283912</td></tr><tr><td>TCGA-02-0004-01A</td><td>GBM</td><td>AKT3</td><td>Akt</td><td>-1.159283912</td></tr><tr><td>TCGA-02-0011-01B</td><td>GBM</td><td>AKT1</td><td>Akt</td><td>-0.321083883</td></tr><tr><td>TCGA-02-0011-01B</td><td>GBM</td><td>AKT2</td><td>Akt</td><td>-0.321083883</td></tr><tr><td>TCGA-02-0011-01B</td><td>GBM</td><td>AKT3</td><td>Akt</td><td>-0.321083883</td></tr></table></div>\n",
       "    <br />(rows: 9, time: 1.7s,    78MB processed, job: job_pB0LSTzyT60AETc0CyVEVDkQBm8)<br />\n",
       "    <script>\n",
       "      require(['extensions/charting', 'element!5_146379224073', 'style!/static/extensions/charting.css'],\n",
       "        function(charts, dom) {\n",
       "          charts.render(dom,\n",
       "            {\n",
       "              chartStyle:\"table\",\n",
       "              dataName:\"3\",\n",
       "              fields:\"SampleBarcode,Study,Gene_Name,Protein_Name,Protein_Expression\",\n",
       "              totalRows:9,\n",
       "              rowsPerPage:25,\n",
       "            }, {}, {\"rows\": [{\"c\": [{\"v\": \"TCGA-02-0003-01A\"}, {\"v\": \"GBM\"}, {\"v\": \"AKT1\"}, {\"v\": \"Akt\"}, {\"v\": -0.0540024210000007}]}, {\"c\": [{\"v\": \"TCGA-02-0003-01A\"}, {\"v\": \"GBM\"}, {\"v\": \"AKT2\"}, {\"v\": \"Akt\"}, {\"v\": -0.0540024210000007}]}, {\"c\": [{\"v\": \"TCGA-02-0003-01A\"}, {\"v\": \"GBM\"}, {\"v\": \"AKT3\"}, {\"v\": \"Akt\"}, {\"v\": -0.0540024210000007}]}, {\"c\": [{\"v\": \"TCGA-02-0004-01A\"}, {\"v\": \"GBM\"}, {\"v\": \"AKT1\"}, {\"v\": \"Akt\"}, {\"v\": -1.159283912}]}, {\"c\": [{\"v\": \"TCGA-02-0004-01A\"}, {\"v\": \"GBM\"}, {\"v\": \"AKT2\"}, {\"v\": \"Akt\"}, {\"v\": -1.159283912}]}, {\"c\": [{\"v\": \"TCGA-02-0004-01A\"}, {\"v\": \"GBM\"}, {\"v\": \"AKT3\"}, {\"v\": \"Akt\"}, {\"v\": -1.159283912}]}, {\"c\": [{\"v\": \"TCGA-02-0011-01B\"}, {\"v\": \"GBM\"}, {\"v\": \"AKT1\"}, {\"v\": \"Akt\"}, {\"v\": -0.321083883}]}, {\"c\": [{\"v\": \"TCGA-02-0011-01B\"}, {\"v\": \"GBM\"}, {\"v\": \"AKT2\"}, {\"v\": \"Akt\"}, {\"v\": -0.321083883}]}, {\"c\": [{\"v\": \"TCGA-02-0011-01B\"}, {\"v\": \"GBM\"}, {\"v\": \"AKT3\"}, {\"v\": \"Akt\"}, {\"v\": -0.321083883}]}], \"cols\": [{\"type\": \"string\", \"id\": \"SampleBarcode\", \"label\": \"SampleBarcode\"}, {\"type\": \"string\", \"id\": \"Study\", \"label\": \"Study\"}, {\"type\": \"string\", \"id\": \"Gene_Name\", \"label\": \"Gene_Name\"}, {\"type\": \"string\", \"id\": \"Protein_Name\", \"label\": \"Protein_Name\"}, {\"type\": \"number\", \"id\": \"Protein_Expression\", \"label\": \"Protein_Expression\"}]});\n",
       "        }\n",
       "      );\n",
       "    </script>\n",
       "  "
      ],
      "text/plain": [
       "QueryResultsTable job_pB0LSTzyT60AETc0CyVEVDkQBm8"
      ]
     },
     "execution_count": 9,
     "metadata": {},
     "output_type": "execute_result"
    }
   ],
   "source": [
    "%%sql\n",
    "\n",
    "SELECT\n",
    "  SampleBarcode,\n",
    "  Study,\n",
    "  Gene_Name,\n",
    "  Protein_Name,\n",
    "  Protein_Expression\n",
    "FROM\n",
    "  $rppa_BQtable\n",
    "WHERE\n",
    "  ( Protein_Name=\"Akt\" )\n",
    "ORDER BY\n",
    "  SampleBarcode,\n",
    "  Gene_Name\n",
    "LIMIT\n",
    "  9"
   ]
  },
  {
   "cell_type": "code",
   "execution_count": null,
   "metadata": {
    "collapsed": true
   },
   "outputs": [],
   "source": []
  }
 ],
 "metadata": {
  "kernelspec": {
   "display_name": "Python 2",
   "language": "python",
   "name": "python2"
  },
  "language_info": {
   "codemirror_mode": {
    "name": "ipython",
    "version": 2
   },
   "file_extension": ".py",
   "mimetype": "text/x-python",
   "name": "python",
   "nbconvert_exporter": "python",
   "pygments_lexer": "ipython2",
   "version": "2.7.9"
  }
 },
 "nbformat": 4,
 "nbformat_minor": 0
}
