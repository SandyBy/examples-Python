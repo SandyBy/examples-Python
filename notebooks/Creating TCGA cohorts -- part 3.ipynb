{
 "cells": [
  {
   "cell_type": "markdown",
   "metadata": {},
   "source": [
    "# Creating TCGA cohorts  (part 3)\n",
    "\n",
    "This notebook will construct a cohort for a single tumor type based on data availability, while also taking into consideration annotations about the patients or samples.\n",
    "\n",
    "As you've seen already, in order to work with BigQuery, the first thing we need to do is import the bigquery module:"
   ]
  },
  {
   "cell_type": "code",
   "execution_count": 1,
   "metadata": {
    "collapsed": true
   },
   "outputs": [],
   "source": [
    "import gcp.bigquery as bq"
   ]
  },
  {
   "cell_type": "markdown",
   "metadata": {},
   "source": [
    "Just so that this doesn't get buried in the code below, we are going to specify our tumor-type of interest here.  In TCGA each tumor-type is also a separate *study* within the TCGA *project*.  The studies are referred to based on the 2-4 letter tumor-type abbreviation.  A complete list of all study abbreviations, with the full study name can be found in this [report](https://tcga-data.nci.nih.gov/datareports/codeTablesReport.htm?codeTable=Disease%20study).  For this particular exercise, we will look at the \"Breast invasive carcinoma\" study, abbreviated BRCA:"
   ]
  },
  {
   "cell_type": "code",
   "execution_count": 2,
   "metadata": {
    "collapsed": true
   },
   "outputs": [],
   "source": [
    "studyName = \"BRCA\""
   ]
  },
  {
   "cell_type": "markdown",
   "metadata": {},
   "source": [
    "In this notebook, we are going to wind up making use of all of the available data tables, so let's have a look at the entire **`tcga_201510_alpha`** dataset:"
   ]
  },
  {
   "cell_type": "code",
   "execution_count": 3,
   "metadata": {
    "collapsed": false
   },
   "outputs": [
    {
     "name": "stdout",
     "output_type": "stream",
     "text": [
      "     17519 rows       6072735 bytes   Annotations\n",
      "     23688 rows       6361090 bytes   Biospecimen_data\n",
      "     11152 rows       4215264 bytes   Clinical_data\n",
      "   2586033 rows     326181970 bytes   Copy_Number_segments\n",
      "3874187076 rows  437382491205 bytes   DNA_Methylation_betas\n",
      "   1618973 rows     180121639 bytes   Protein_RPPA_data\n",
      "   5813281 rows    6392929246 bytes   Somatic_Mutation_calls\n",
      "  38299138 rows    4459086535 bytes   mRNA_BCGSC_HiSeq_RPKM\n",
      " 212475319 rows   25083953060 bytes   mRNA_UNC_HiSeq_RSEM\n",
      "  13483548 rows    1644762154 bytes   miRNA_expression\n"
     ]
    }
   ],
   "source": [
    "d = bq.DataSet('isb-cgc:tcga_201510_alpha')\n",
    "for t in d.tables():\n",
    "  print '%10d rows  %12d bytes   %s' \\\n",
    "      % (t.metadata.rows, t.metadata.size, t.name.table_id)"
   ]
  },
  {
   "cell_type": "markdown",
   "metadata": {},
   "source": [
    "In this next code cell, we define an SQL query called **`get_DNU_patients`** which finds all patients in the Annotations table which have either been 'redacted' or had 'unacceptable prior treatment'."
   ]
  },
  {
   "cell_type": "code",
   "execution_count": 4,
   "metadata": {
    "collapsed": false
   },
   "outputs": [],
   "source": [
    "%%sql --module get_DNU_patients\n",
    "\n",
    "SELECT\n",
    "  ParticipantBarcode,\n",
    "  annotationCategoryName AS categoryName,\n",
    "  annotationClassification AS classificationName\n",
    "FROM\n",
    "  [isb-cgc:tcga_201510_alpha.Annotations]\n",
    "WHERE\n",
    "  ( itemTypeName=\"Patient\"\n",
    "    AND (annotationCategoryName=\"History of unacceptable prior treatment related to a prior/other malignancy\"\n",
    "      OR annotationClassification=\"Redaction\" ) )\n",
    "GROUP BY\n",
    "  ParticipantBarcode,\n",
    "  categoryName,\n",
    "  classificationName\n",
    "ORDER BY\n",
    "  ParticipantBarcode"
   ]
  },
  {
   "cell_type": "markdown",
   "metadata": {},
   "source": [
    "Now we'll use the query defined above to get the \"Do Not Use\" list of participants (aka patients):"
   ]
  },
  {
   "cell_type": "code",
   "execution_count": 5,
   "metadata": {
    "collapsed": false
   },
   "outputs": [
    {
     "data": {
      "text/html": [
       "<div>\n",
       "<table border=\"1\" class=\"dataframe\">\n",
       "  <thead>\n",
       "    <tr style=\"text-align: right;\">\n",
       "      <th></th>\n",
       "      <th>ParticipantBarcode</th>\n",
       "      <th>categoryName</th>\n",
       "      <th>classificationName</th>\n",
       "    </tr>\n",
       "  </thead>\n",
       "  <tbody>\n",
       "    <tr>\n",
       "      <th>count</th>\n",
       "      <td>212</td>\n",
       "      <td>212</td>\n",
       "      <td>212</td>\n",
       "    </tr>\n",
       "    <tr>\n",
       "      <th>unique</th>\n",
       "      <td>212</td>\n",
       "      <td>8</td>\n",
       "      <td>2</td>\n",
       "    </tr>\n",
       "    <tr>\n",
       "      <th>top</th>\n",
       "      <td>TCGA-BR-4284</td>\n",
       "      <td>History of unacceptable prior treatment relate...</td>\n",
       "      <td>Notification</td>\n",
       "    </tr>\n",
       "    <tr>\n",
       "      <th>freq</th>\n",
       "      <td>1</td>\n",
       "      <td>137</td>\n",
       "      <td>137</td>\n",
       "    </tr>\n",
       "  </tbody>\n",
       "</table>\n",
       "</div>"
      ],
      "text/plain": [
       "       ParticipantBarcode                                       categoryName  \\\n",
       "count                 212                                                212   \n",
       "unique                212                                                  8   \n",
       "top          TCGA-BR-4284  History of unacceptable prior treatment relate...   \n",
       "freq                    1                                                137   \n",
       "\n",
       "       classificationName  \n",
       "count                 212  \n",
       "unique                  2  \n",
       "top          Notification  \n",
       "freq                  137  "
      ]
     },
     "execution_count": 5,
     "metadata": {},
     "output_type": "execute_result"
    }
   ],
   "source": [
    "DNUpatients = bq.Query(get_DNU_patients).results().to_dataframe()\n",
    "DNUpatients.describe()"
   ]
  },
  {
   "cell_type": "markdown",
   "metadata": {},
   "source": [
    "In this next cell, we'll define a general-purpose query that we can use on each of the tables to get the unique list of barcodes (either patient- or sample-barcodes) that appear in that particular table."
   ]
  },
  {
   "cell_type": "code",
   "execution_count": 6,
   "metadata": {
    "collapsed": false
   },
   "outputs": [],
   "source": [
    "%%sql --module get_barcode_list\n",
    "\n",
    "# this is a very general-purpose query which will return all unique barcodes of a specified type,\n",
    "# from the specified study, and from the specified BigQuery table\n",
    "SELECT\n",
    "  $barcodeType,\n",
    "FROM\n",
    "  $tableName\n",
    "WHERE\n",
    "  ( Study=$studyName )\n",
    "GROUP BY\n",
    "  $barcodeType\n",
    "ORDER BY\n",
    "  $barcodeType"
   ]
  },
  {
   "cell_type": "markdown",
   "metadata": {},
   "source": [
    "Now we're gong to use the query defined previously in a function that builds a \"clean\" list of patients in the specified study, with available molecular data, and without any disqualifying annotations."
   ]
  },
  {
   "cell_type": "code",
   "execution_count": 7,
   "metadata": {
    "collapsed": false
   },
   "outputs": [],
   "source": [
    "def buildCleanBarcodeList ( studyName, bqDataset, DNUlist, barcodeType ):\n",
    "\n",
    "  print \" in buildCleanBarcodeList ... \", studyName\n",
    "\n",
    "  # we're going to loop over the input molecular data tables (ie all data tables\n",
    "  # except the annotations, clinical, and biospecimen tables), and assemble lists \n",
    "  # of unique barcodes -- at the end of the loop, Ulists will be a list of lists\n",
    "  Ulists = []\n",
    "  print \"     --> looping over data tables: \"\n",
    "  for t in bqDataset.tables():\n",
    "    if ( t.name.table_id not in [\"Annotations\", \n",
    "                                 \"Clinical_data\", \n",
    "                                 \"Biospecimen_data\"] ):\n",
    "      currTable = t\n",
    "      try:\n",
    "        barcodeField = t.schema[barcodeType]\n",
    "        q = bq.Query(get_barcode_list,\n",
    "                     barcodeType=barcodeField,\n",
    "                     tableName=currTable,\n",
    "                     studyName=studyName)\n",
    "      except:\n",
    "        print \"          the %s table does not have a field called %s \" % ( t.name.table_id, barcodeType )\n",
    "        if ( barcodeType == \"SampleBarcode\" ):\n",
    "          try:\n",
    "            barcodeField = t.schema['Tumor_SampleBarcode']\n",
    "            print \"              using Tumor_SampleBarcode instead \"\n",
    "          except:\n",
    "            continue\n",
    "      \n",
    "      aList = q.results().to_dataframe()\n",
    "      #print t.name.table_id\n",
    "      #print len(aList)\n",
    "      if ( len(aList) > 0 ):\n",
    "        print \"         \", t.name.table_id, \" --> \", len(aList[barcodeType]), \" unique barcodes\"\n",
    "        Ulists += [ aList ]\n",
    "      else:\n",
    "        print \"         \", t.name.table_id, \" -->  no data returned\"\n",
    "    \n",
    "  print \"     --> we have %d lists to merge \" % len(Ulists)\n",
    "  \n",
    "  # concatenate those separate lists into a single list of unique barcodes\n",
    "  masterList = []\n",
    "  for aList in Ulists:\n",
    "    for aBarcode in aList[barcodeType]:\n",
    "      if ( aBarcode not in masterList ):\n",
    "        masterList += [ aBarcode ]\n",
    "      \n",
    "  print \"     --> which results in a single list with %d barcodes \" % len(masterList)\n",
    "  \n",
    "  print \"     --> removing DNU barcodes: \"\n",
    "  # create a clean list by removing the DNU barcodes\n",
    "  cleanList = []\n",
    "  for aBarcode in masterList:\n",
    "    if ( aBarcode not in DNUlist[barcodeType].tolist() ):\n",
    "      cleanList += [ aBarcode ]\n",
    "    else:\n",
    "      print \"         excluding this barcode: \", aBarcode\n",
    "    \n",
    "  print \"     --> returning a clean list with %d barcodes \" % len(cleanList)\n",
    "  \n",
    "  # and return it\n",
    "  return (cleanList)"
   ]
  },
  {
   "cell_type": "code",
   "execution_count": 8,
   "metadata": {
    "collapsed": false
   },
   "outputs": [
    {
     "name": "stdout",
     "output_type": "stream",
     "text": [
      " in buildCleanBarcodeList ...  BRCA\n",
      "     --> looping over data tables: \n",
      "          Copy_Number_segments  -->  1086  unique barcodes\n",
      "          DNA_Methylation_betas  -->  1085  unique barcodes\n",
      "          Protein_RPPA_data  -->  877  unique barcodes\n",
      "          Somatic_Mutation_calls  -->  990  unique barcodes\n",
      "          mRNA_BCGSC_HiSeq_RPKM  -->  no data returned\n",
      "          mRNA_UNC_HiSeq_RSEM  -->  1084  unique barcodes\n",
      "          miRNA_expression  -->  1070  unique barcodes\n",
      "     --> we have 6 lists to merge \n",
      "     --> which results in a single list with 1097 barcodes \n",
      "     --> removing DNU barcodes: \n",
      "         excluding this barcode:  TCGA-A8-A084\n",
      "         excluding this barcode:  TCGA-A8-A08F\n",
      "         excluding this barcode:  TCGA-A8-A08S\n",
      "         excluding this barcode:  TCGA-A8-A09E\n",
      "         excluding this barcode:  TCGA-A8-A09K\n",
      "         excluding this barcode:  TCGA-AR-A2LL\n",
      "         excluding this barcode:  TCGA-AR-A2LR\n",
      "         excluding this barcode:  TCGA-BH-A0B6\n",
      "         excluding this barcode:  TCGA-BH-A1F5\n",
      "         excluding this barcode:  TCGA-D8-A146\n",
      "     --> returning a clean list with 1087 barcodes \n"
     ]
    }
   ],
   "source": [
    "barcodeType = \"ParticipantBarcode\"\n",
    "cleanPatientList = buildCleanBarcodeList ( studyName, d, DNUpatients, barcodeType )"
   ]
  },
  {
   "cell_type": "markdown",
   "metadata": {},
   "source": [
    "Now we are going to repeat the same process, but at the sample barcode level.  Most patients will have provided two samples, a \"primary tumor\" sample, and a \"normal blood\" sample, but in some cases additional or different types of samples may have been provided, and sample-level annotations may exist that should result in samples being excluded from most downstream analyses."
   ]
  },
  {
   "cell_type": "code",
   "execution_count": 9,
   "metadata": {
    "collapsed": true
   },
   "outputs": [],
   "source": [
    "%%sql --module get_DNU_samples\n",
    "\n",
    "# there are many different types of annotations that are at the \"sample\" level\n",
    "# in the Annotations table, and most of them seem like they should be \"disqualifying\"\n",
    "# annotations, so for now we will just return all sample barcodes with sample-level\n",
    "# annotations\n",
    "DEFINE QUERY select_on_annotations\n",
    "SELECT\n",
    "  SampleBarcode,\n",
    "FROM\n",
    "  [isb-cgc:tcga_201510_alpha.Annotations]\n",
    "WHERE\n",
    "  ( itemTypeName=\"Sample\" )\n",
    "GROUP BY\n",
    "  SampleBarcode,\n",
    "ORDER BY\n",
    "  SampleBarcode"
   ]
  },
  {
   "cell_type": "code",
   "execution_count": 10,
   "metadata": {
    "collapsed": false
   },
   "outputs": [
    {
     "data": {
      "text/html": [
       "<div>\n",
       "<table border=\"1\" class=\"dataframe\">\n",
       "  <thead>\n",
       "    <tr style=\"text-align: right;\">\n",
       "      <th></th>\n",
       "      <th>SampleBarcode</th>\n",
       "    </tr>\n",
       "  </thead>\n",
       "  <tbody>\n",
       "    <tr>\n",
       "      <th>count</th>\n",
       "      <td>113</td>\n",
       "    </tr>\n",
       "    <tr>\n",
       "      <th>unique</th>\n",
       "      <td>113</td>\n",
       "    </tr>\n",
       "    <tr>\n",
       "      <th>top</th>\n",
       "      <td>TCGA-67-3776-01A</td>\n",
       "    </tr>\n",
       "    <tr>\n",
       "      <th>freq</th>\n",
       "      <td>1</td>\n",
       "    </tr>\n",
       "  </tbody>\n",
       "</table>\n",
       "</div>"
      ],
      "text/plain": [
       "           SampleBarcode\n",
       "count                113\n",
       "unique               113\n",
       "top     TCGA-67-3776-01A\n",
       "freq                   1"
      ]
     },
     "execution_count": 10,
     "metadata": {},
     "output_type": "execute_result"
    }
   ],
   "source": [
    "DNUsamples = bq.Query(get_DNU_samples).results().to_dataframe()\n",
    "DNUsamples.describe()"
   ]
  },
  {
   "cell_type": "markdown",
   "metadata": {},
   "source": [
    "And now we can re-use the previously defined function get a clean list of sample-level barcodes:"
   ]
  },
  {
   "cell_type": "code",
   "execution_count": 11,
   "metadata": {
    "collapsed": false
   },
   "outputs": [
    {
     "name": "stdout",
     "output_type": "stream",
     "text": [
      " in buildCleanBarcodeList ...  BRCA\n",
      "     --> looping over data tables: \n",
      "          Copy_Number_segments  -->  2176  unique barcodes\n",
      "          DNA_Methylation_betas  -->  1216  unique barcodes\n",
      "          Protein_RPPA_data  -->  927  unique barcodes\n",
      "          the Somatic_Mutation_calls table does not have a field called SampleBarcode \n",
      "              using Tumor_SampleBarcode instead \n",
      "          Somatic_Mutation_calls  -->  927  unique barcodes\n",
      "          mRNA_BCGSC_HiSeq_RPKM  -->  no data returned\n",
      "          mRNA_UNC_HiSeq_RSEM  -->  1204  unique barcodes\n",
      "          miRNA_expression  -->  1180  unique barcodes\n",
      "     --> we have 6 lists to merge \n",
      "     --> which results in a single list with 2223 barcodes \n",
      "     --> removing DNU barcodes: \n",
      "         excluding this barcode:  TCGA-B6-A1KC-01A\n",
      "         excluding this barcode:  TCGA-BH-A0B2-11A\n",
      "     --> returning a clean list with 2221 barcodes \n"
     ]
    }
   ],
   "source": [
    "barcodeType = \"SampleBarcode\"\n",
    "cleanSampleList = buildCleanBarcodeList ( studyName, d, DNUsamples, barcodeType )"
   ]
  },
  {
   "cell_type": "markdown",
   "metadata": {},
   "source": [
    "Now we're going to double-check first that we keep only sample-level barcodes that correspond to patients in the \"clean\" list of patients, and then we'll also filter the list of patients in case there are patients with no samples remaining in the \"clean\" list of samples."
   ]
  },
  {
   "cell_type": "code",
   "execution_count": 12,
   "metadata": {
    "collapsed": false
   },
   "outputs": [
    {
     "name": "stdout",
     "output_type": "stream",
     "text": [
      " Length of final sample list: 2221 \n"
     ]
    }
   ],
   "source": [
    "finalSampleList = []\n",
    "for aSample in cleanSampleList:\n",
    "  aPatient = aSample[:12]\n",
    "  if ( aPatient not in cleanPatientList ):\n",
    "    print \"     excluding this sample in the final pass: \", aSample\n",
    "  else:\n",
    "    finalSampleList += [aSample]\n",
    "    \n",
    "print \" Length of final sample list: %d \" % len(finalSampleList)"
   ]
  },
  {
   "cell_type": "code",
   "execution_count": 13,
   "metadata": {
    "collapsed": false
   },
   "outputs": [
    {
     "name": "stdout",
     "output_type": "stream",
     "text": [
      " Lenth of final patient list: 1086 \n",
      "     --> patient removed in final pass:  TCGA-A7-A0DC\n"
     ]
    }
   ],
   "source": [
    "finalPatientList = []\n",
    "for aSample in finalSampleList:\n",
    "  aPatient = aSample[:12]\n",
    "  if ( aPatient not in finalPatientList ):\n",
    "    finalPatientList += [ aPatient ]\n",
    "    \n",
    "print \" Lenth of final patient list: %d \" % len(finalPatientList)\n",
    "\n",
    "for aPatient in cleanPatientList:\n",
    "  if ( aPatient not in finalPatientList ):\n",
    "    print \"     --> patient removed in final pass: \", aPatient"
   ]
  },
  {
   "cell_type": "markdown",
   "metadata": {},
   "source": [
    "We're also interested in knowing what *types* of samples we have.  The codes for the major types of samples are:\n",
    "- **01** : primary solid tumor\n",
    "- **02** : recurrent solid tumor\n",
    "- **03** : primary blood derived cancer\n",
    "- **06** : metastatic\n",
    "- **10** : blood derived normal\n",
    "- **11** : solid tissue normal\n",
    "\n",
    "and a complete list of all sample type codes and their definitions can be found in the [Sample type report](https://tcga-data.nci.nih.gov/datareports/codeTablesReport.htm?codeTable=Sample%20type)."
   ]
  },
  {
   "cell_type": "code",
   "execution_count": 14,
   "metadata": {
    "collapsed": false
   },
   "outputs": [
    {
     "name": "stdout",
     "output_type": "stream",
     "text": [
      "      1086 samples of type 01 \n",
      "         7 samples of type 06 \n",
      "       968 samples of type 10 \n",
      "       160 samples of type 11 \n"
     ]
    }
   ],
   "source": [
    "sampleCounts = {}\n",
    "for aSample in finalSampleList:\n",
    "  sType = str(aSample[13:15])\n",
    "  if ( sType not in sampleCounts ): sampleCounts[sType] = 0\n",
    "  sampleCounts[sType] += 1\n",
    "  \n",
    "for aKey in sorted(sampleCounts):\n",
    "  print \"     %5d samples of type %s \" % ( sampleCounts[aKey], aKey )"
   ]
  },
  {
   "cell_type": "markdown",
   "metadata": {},
   "source": [
    "Now we are going to create a simple dataframe with all of the sample barcodes and the associated patient (participant) barcodes so that we can write this to a BigQuery \"cohort\" table."
   ]
  },
  {
   "cell_type": "code",
   "execution_count": 15,
   "metadata": {
    "collapsed": false
   },
   "outputs": [
    {
     "data": {
      "text/html": [
       "<div>\n",
       "<table border=\"1\" class=\"dataframe\">\n",
       "  <thead>\n",
       "    <tr style=\"text-align: right;\">\n",
       "      <th></th>\n",
       "      <th>ParticipantBarcode</th>\n",
       "      <th>SampleBarcode</th>\n",
       "    </tr>\n",
       "  </thead>\n",
       "  <tbody>\n",
       "    <tr>\n",
       "      <th>count</th>\n",
       "      <td>2221</td>\n",
       "      <td>2221</td>\n",
       "    </tr>\n",
       "    <tr>\n",
       "      <th>unique</th>\n",
       "      <td>1086</td>\n",
       "      <td>2221</td>\n",
       "    </tr>\n",
       "    <tr>\n",
       "      <th>top</th>\n",
       "      <td>TCGA-E2-A15K</td>\n",
       "      <td>TCGA-BH-A42V-10A</td>\n",
       "    </tr>\n",
       "    <tr>\n",
       "      <th>freq</th>\n",
       "      <td>4</td>\n",
       "      <td>1</td>\n",
       "    </tr>\n",
       "  </tbody>\n",
       "</table>\n",
       "</div>"
      ],
      "text/plain": [
       "       ParticipantBarcode     SampleBarcode\n",
       "count                2221              2221\n",
       "unique               1086              2221\n",
       "top          TCGA-E2-A15K  TCGA-BH-A42V-10A\n",
       "freq                    4                 1"
      ]
     },
     "execution_count": 15,
     "metadata": {},
     "output_type": "execute_result"
    }
   ],
   "source": [
    "import pandas as pd\n",
    "\n",
    "patientBarcodes = []\n",
    "sampleBarcodes = []\n",
    "for aSample in finalSampleList:\n",
    "  sampleBarcodes += [aSample]\n",
    "  patientBarcodes += [aSample[:12]]\n",
    "df = pd.DataFrame ( { 'ParticipantBarcode': patientBarcodes,\n",
    "                      'SampleBarcode': sampleBarcodes } )\n",
    "df.describe()"
   ]
  },
  {
   "cell_type": "code",
   "execution_count": null,
   "metadata": {
    "collapsed": false
   },
   "outputs": [],
   "source": [
    "# we can define the schema directly from the dataframe\n",
    "schema = bq.Schema.from_dataframe(df)\n",
    "# and then we create the table and load the data\n",
    "# IMPORTANT: you will need to change the project / dataset / table name in order to be able\n",
    "# write to a BigQuery table in your *own* project\n",
    "d = bq.DataSet('isb-cgc:tcga_cohorts')\n",
    "t = bq.Table('isb-cgc:tcga_cohorts.'+studyName).create(schema=schema, overwrite=True)\n",
    "t.insert_data(df)\n",
    "# create a descriptionString and update the table\n",
    "dString = \"Curated cohort table for TCGA %s study:  %d unique patients and %d unique samples.\" % \\\n",
    "    ( studyName, len(finalPatientList), len(finalSampleList) )\n",
    "dString += \"\\nJOIN this table with the molecular data tables in the isb-cgc:tcga_201510_alpha\"\n",
    "dString += \" BigQuery dataset for additional analyses.\"\n",
    "t.update(description=dString)"
   ]
  },
  {
   "cell_type": "code",
   "execution_count": null,
   "metadata": {
    "collapsed": false
   },
   "outputs": [],
   "source": [
    "t"
   ]
  },
  {
   "cell_type": "code",
   "execution_count": null,
   "metadata": {
    "collapsed": false
   },
   "outputs": [],
   "source": [
    "cohorts_bucket_object = 'gs://isb-cgc-open/cohorts/' + studyName + '.tsv'\n",
    "\n",
    "## NOTE: the extract command should work to export this table to a CSV file, but seems to not be working\n",
    "## because the table thinks it has 0 rows at this point.\n",
    "## t.extract(destination=cohorts_bucket_object, format='csv', csv_delimiter='\\t')\n",
    "print \" The cohort table just created has %d rows.\" % ( t.metadata.rows )\n",
    "if ( t.metadata.rows == 0 ): print \" ??? \""
   ]
  },
  {
   "cell_type": "markdown",
   "metadata": {},
   "source": [
    "So instead we will write to a temporary CSV file, read it back in and write to cloud storage using the %storage magic."
   ]
  },
  {
   "cell_type": "code",
   "execution_count": null,
   "metadata": {
    "collapsed": true
   },
   "outputs": [],
   "source": [
    "t.to_file(destination='/tmp/test.csv', format='csv', csv_delimiter='\\t', csv_header=True)"
   ]
  },
  {
   "cell_type": "code",
   "execution_count": null,
   "metadata": {
    "collapsed": false
   },
   "outputs": [],
   "source": [
    "lines = None\n",
    "with open('/tmp/test.csv') as datafile:\n",
    "  lines = datafile.readlines()\n",
    "outFile = ''.join(lines)\n",
    "print outFile"
   ]
  },
  {
   "cell_type": "code",
   "execution_count": null,
   "metadata": {
    "collapsed": false
   },
   "outputs": [],
   "source": [
    "%storage  write -v outFile -o $cohorts_bucket_object"
   ]
  }
 ],
 "metadata": {
  "kernelspec": {
   "display_name": "Python 2",
   "language": "python",
   "name": "python2"
  },
  "language_info": {
   "codemirror_mode": {
    "name": "ipython",
    "version": 2
   },
   "file_extension": ".py",
   "mimetype": "text/x-python",
   "name": "python",
   "nbconvert_exporter": "python",
   "pygments_lexer": "ipython2",
   "version": "2.7.9"
  }
 },
 "nbformat": 4,
 "nbformat_minor": 0
}
