{
  "nbformat": 4,
  "nbformat_minor": 0,
  "metadata": {
    "colab": {
      "name": "ISB-CGC-Query_of_the_Month-November-2018.ipynb",
      "version": "0.3.2",
      "provenance": [],
      "collapsed_sections": []
    },
    "kernelspec": {
      "name": "python3",
      "display_name": "Python 3"
    }
  },
  "cells": [
    {
      "metadata": {
        "id": "V6hHrkja94oQ",
        "colab_type": "text"
      },
      "cell_type": "markdown",
      "source": [
        "# **ISB-CGC Query of the Month, November 2018**\n",
        "- Kawther Abdilleh, David L Gibbs\n",
        "\n",
        "For more Queries:  https://isb-cancer-genomics-cloud.readthedocs.io/en/latest/sections/QueryOfTheMonthClub.html\n",
        "\n",
        "Part of the ISB-CGC:  http://www.isb-cgc.org \n",
        " "
      ]
    },
    {
      "metadata": {
        "id": "n97tZmtc93Vf",
        "colab_type": "text"
      },
      "cell_type": "markdown",
      "source": [
        "### First we need to authenticate ourselves.  \n",
        "\n"
      ]
    },
    {
      "metadata": {
        "id": "FyrcP8Zs-VkB",
        "colab_type": "code",
        "outputId": "443f778b-24fb-4030-9a75-f333ef2f522a",
        "colab": {
          "base_uri": "https://localhost:8080/",
          "height": 34
        }
      },
      "cell_type": "code",
      "source": [
        "from google.colab import auth\n",
        "auth.authenticate_user()\n",
        "print('Authenticated')"
      ],
      "execution_count": 0,
      "outputs": [
        {
          "output_type": "stream",
          "text": [
            "Authenticated\n"
          ],
          "name": "stdout"
        }
      ]
    },
    {
      "metadata": {
        "id": "N9GQYflzapa9",
        "colab_type": "text"
      },
      "cell_type": "markdown",
      "source": [
        "### ** Let's begin by querying our newly transformed vcf table, containing variants for the human chromosome 21. **\n",
        "\n",
        "For instructions on the BigQuery transformation see: https://isb-cancer-genomics-cloud.readthedocs.io/en/latest/sections/QueryOfTheMonthClub.html"
      ]
    },
    {
      "metadata": {
        "id": "FhNcRp87-uMe",
        "colab_type": "code",
        "outputId": "efbed783-069f-4329-9c6b-d3ff16bfe05b",
        "colab": {
          "base_uri": "https://localhost:8080/",
          "height": 359
        }
      },
      "cell_type": "code",
      "source": [
        "%%bigquery --project MY-PROJECT-ID df\n",
        "select \n",
        "  reference_name,\n",
        "  start_position,\n",
        "  end_position\n",
        "from\n",
        "  `isb-cgc.QotM.1000genomes`\n",
        "limit \n",
        "  10"
      ],
      "execution_count": 0,
      "outputs": [
        {
          "output_type": "execute_result",
          "data": {
            "text/html": [
              "<div>\n",
              "<style scoped>\n",
              "    .dataframe tbody tr th:only-of-type {\n",
              "        vertical-align: middle;\n",
              "    }\n",
              "\n",
              "    .dataframe tbody tr th {\n",
              "        vertical-align: top;\n",
              "    }\n",
              "\n",
              "    .dataframe thead th {\n",
              "        text-align: right;\n",
              "    }\n",
              "</style>\n",
              "<table border=\"1\" class=\"dataframe\">\n",
              "  <thead>\n",
              "    <tr style=\"text-align: right;\">\n",
              "      <th></th>\n",
              "      <th>reference_name</th>\n",
              "      <th>start_position</th>\n",
              "      <th>end_position</th>\n",
              "    </tr>\n",
              "  </thead>\n",
              "  <tbody>\n",
              "    <tr>\n",
              "      <th>0</th>\n",
              "      <td>21</td>\n",
              "      <td>44061667</td>\n",
              "      <td>44105124</td>\n",
              "    </tr>\n",
              "    <tr>\n",
              "      <th>1</th>\n",
              "      <td>21</td>\n",
              "      <td>44061693</td>\n",
              "      <td>44104791</td>\n",
              "    </tr>\n",
              "    <tr>\n",
              "      <th>2</th>\n",
              "      <td>21</td>\n",
              "      <td>44075242</td>\n",
              "      <td>44076807</td>\n",
              "    </tr>\n",
              "    <tr>\n",
              "      <th>3</th>\n",
              "      <td>21</td>\n",
              "      <td>44063828</td>\n",
              "      <td>44063829</td>\n",
              "    </tr>\n",
              "    <tr>\n",
              "      <th>4</th>\n",
              "      <td>21</td>\n",
              "      <td>44081693</td>\n",
              "      <td>44081694</td>\n",
              "    </tr>\n",
              "    <tr>\n",
              "      <th>5</th>\n",
              "      <td>21</td>\n",
              "      <td>44076133</td>\n",
              "      <td>44076134</td>\n",
              "    </tr>\n",
              "    <tr>\n",
              "      <th>6</th>\n",
              "      <td>21</td>\n",
              "      <td>44095212</td>\n",
              "      <td>44095213</td>\n",
              "    </tr>\n",
              "    <tr>\n",
              "      <th>7</th>\n",
              "      <td>21</td>\n",
              "      <td>44059175</td>\n",
              "      <td>44059176</td>\n",
              "    </tr>\n",
              "    <tr>\n",
              "      <th>8</th>\n",
              "      <td>21</td>\n",
              "      <td>44097081</td>\n",
              "      <td>44097082</td>\n",
              "    </tr>\n",
              "    <tr>\n",
              "      <th>9</th>\n",
              "      <td>21</td>\n",
              "      <td>44080981</td>\n",
              "      <td>44080982</td>\n",
              "    </tr>\n",
              "  </tbody>\n",
              "</table>\n",
              "</div>"
            ],
            "text/plain": [
              "  reference_name  start_position  end_position\n",
              "0             21        44061667      44105124\n",
              "1             21        44061693      44104791\n",
              "2             21        44075242      44076807\n",
              "3             21        44063828      44063829\n",
              "4             21        44081693      44081694\n",
              "5             21        44076133      44076134\n",
              "6             21        44095212      44095213\n",
              "7             21        44059175      44059176\n",
              "8             21        44097081      44097082\n",
              "9             21        44080981      44080982"
            ]
          },
          "metadata": {
            "tags": []
          },
          "execution_count": 3
        }
      ]
    },
    {
      "metadata": {
        "id": "mIESR-bL_nsf",
        "colab_type": "text"
      },
      "cell_type": "markdown",
      "source": [
        "### **Colaboratory notebooks allow us to leverage the power of Python and use pandas to create & save queries to datatables. **"
      ]
    },
    {
      "metadata": {
        "id": "YJSoXuBFDxKX",
        "colab_type": "code",
        "colab": {}
      },
      "cell_type": "code",
      "source": [
        "import pandas as pd\n",
        "\n",
        "project_id = 'MY-PROJECT-ID'\n"
      ],
      "execution_count": 0,
      "outputs": []
    },
    {
      "metadata": {
        "id": "rF1p92ah_m6V",
        "colab_type": "code",
        "outputId": "544b0ecd-cf68-4c5d-e41d-338d1224169b",
        "colab": {
          "base_uri": "https://localhost:8080/",
          "height": 204
        }
      },
      "cell_type": "code",
      "source": [
        "\n",
        "df = pd.io.gbq.read_gbq('''\n",
        "select \n",
        "  reference_name as chr,\n",
        "  start_position,\n",
        "  end_position\n",
        "from\n",
        "  `isb-cgc.QotM.1000genomes`\n",
        "limit \n",
        "  10\n",
        "''', project_id=project_id, verbose=False, dialect='standard')\n",
        "\n",
        "df.head()"
      ],
      "execution_count": 0,
      "outputs": [
        {
          "output_type": "execute_result",
          "data": {
            "text/html": [
              "<div>\n",
              "<style scoped>\n",
              "    .dataframe tbody tr th:only-of-type {\n",
              "        vertical-align: middle;\n",
              "    }\n",
              "\n",
              "    .dataframe tbody tr th {\n",
              "        vertical-align: top;\n",
              "    }\n",
              "\n",
              "    .dataframe thead th {\n",
              "        text-align: right;\n",
              "    }\n",
              "</style>\n",
              "<table border=\"1\" class=\"dataframe\">\n",
              "  <thead>\n",
              "    <tr style=\"text-align: right;\">\n",
              "      <th></th>\n",
              "      <th>chr</th>\n",
              "      <th>start_position</th>\n",
              "      <th>end_position</th>\n",
              "    </tr>\n",
              "  </thead>\n",
              "  <tbody>\n",
              "    <tr>\n",
              "      <th>0</th>\n",
              "      <td>21</td>\n",
              "      <td>34466727</td>\n",
              "      <td>34466728</td>\n",
              "    </tr>\n",
              "    <tr>\n",
              "      <th>1</th>\n",
              "      <td>21</td>\n",
              "      <td>34472050</td>\n",
              "      <td>34472051</td>\n",
              "    </tr>\n",
              "    <tr>\n",
              "      <th>2</th>\n",
              "      <td>21</td>\n",
              "      <td>34434667</td>\n",
              "      <td>34434668</td>\n",
              "    </tr>\n",
              "    <tr>\n",
              "      <th>3</th>\n",
              "      <td>21</td>\n",
              "      <td>34425328</td>\n",
              "      <td>34425329</td>\n",
              "    </tr>\n",
              "    <tr>\n",
              "      <th>4</th>\n",
              "      <td>21</td>\n",
              "      <td>34455811</td>\n",
              "      <td>34455812</td>\n",
              "    </tr>\n",
              "  </tbody>\n",
              "</table>\n",
              "</div>"
            ],
            "text/plain": [
              "  chr  start_position  end_position\n",
              "0  21        34466727      34466728\n",
              "1  21        34472050      34472051\n",
              "2  21        34434667      34434668\n",
              "3  21        34425328      34425329\n",
              "4  21        34455811      34455812"
            ]
          },
          "metadata": {
            "tags": []
          },
          "execution_count": 5
        }
      ]
    },
    {
      "metadata": {
        "id": "b7s98d_UBQvx",
        "colab_type": "text"
      },
      "cell_type": "markdown",
      "source": [
        "### **We can filter variants so that we have variants with only a single alternate base.  The alternate base is a RECORD type, which means it could have a list of variants.  Here we use the ARRAY_LENGTH keyword**\n"
      ]
    },
    {
      "metadata": {
        "id": "ji9ODMVIBUIw",
        "colab_type": "code",
        "outputId": "46c9ff1f-500d-465e-982c-a803161f32e9",
        "colab": {
          "base_uri": "https://localhost:8080/",
          "height": 204
        }
      },
      "cell_type": "code",
      "source": [
        "\n",
        "df = pd.io.gbq.read_gbq('''\n",
        "#standardsql\n",
        "SELECT\n",
        "  start_position,\n",
        "  reference_name,\n",
        "  reference_bases AS original,\n",
        "  alternate_bases[ORDINAL(1)].alt AS alt\n",
        "FROM\n",
        "  `isb-cgc.QotM.1000genomes` AS v\n",
        "WHERE\n",
        "  ARRAY_LENGTH(alternate_bases) = 1\n",
        "LIMIT 10\n",
        "'''\n",
        ", project_id=project_id, verbose=False, dialect='standard')        \n",
        "   \n",
        "df.head()\n",
        "                        "
      ],
      "execution_count": 0,
      "outputs": [
        {
          "output_type": "execute_result",
          "data": {
            "text/html": [
              "<div>\n",
              "<style scoped>\n",
              "    .dataframe tbody tr th:only-of-type {\n",
              "        vertical-align: middle;\n",
              "    }\n",
              "\n",
              "    .dataframe tbody tr th {\n",
              "        vertical-align: top;\n",
              "    }\n",
              "\n",
              "    .dataframe thead th {\n",
              "        text-align: right;\n",
              "    }\n",
              "</style>\n",
              "<table border=\"1\" class=\"dataframe\">\n",
              "  <thead>\n",
              "    <tr style=\"text-align: right;\">\n",
              "      <th></th>\n",
              "      <th>start_position</th>\n",
              "      <th>reference_name</th>\n",
              "      <th>original</th>\n",
              "      <th>alt</th>\n",
              "    </tr>\n",
              "  </thead>\n",
              "  <tbody>\n",
              "    <tr>\n",
              "      <th>0</th>\n",
              "      <td>34452189</td>\n",
              "      <td>21</td>\n",
              "      <td>A</td>\n",
              "      <td>AT</td>\n",
              "    </tr>\n",
              "    <tr>\n",
              "      <th>1</th>\n",
              "      <td>34476092</td>\n",
              "      <td>21</td>\n",
              "      <td>A</td>\n",
              "      <td>AG</td>\n",
              "    </tr>\n",
              "    <tr>\n",
              "      <th>2</th>\n",
              "      <td>34484539</td>\n",
              "      <td>21</td>\n",
              "      <td>C</td>\n",
              "      <td>CTT</td>\n",
              "    </tr>\n",
              "    <tr>\n",
              "      <th>3</th>\n",
              "      <td>34483337</td>\n",
              "      <td>21</td>\n",
              "      <td>C</td>\n",
              "      <td>CG</td>\n",
              "    </tr>\n",
              "    <tr>\n",
              "      <th>4</th>\n",
              "      <td>34425328</td>\n",
              "      <td>21</td>\n",
              "      <td>G</td>\n",
              "      <td>GA</td>\n",
              "    </tr>\n",
              "  </tbody>\n",
              "</table>\n",
              "</div>"
            ],
            "text/plain": [
              "   start_position reference_name original  alt\n",
              "0        34452189             21        A   AT\n",
              "1        34476092             21        A   AG\n",
              "2        34484539             21        C  CTT\n",
              "3        34483337             21        C   CG\n",
              "4        34425328             21        G   GA"
            ]
          },
          "metadata": {
            "tags": []
          },
          "execution_count": 6
        }
      ]
    },
    {
      "metadata": {
        "id": "E_V-KnXaDRun",
        "colab_type": "text"
      },
      "cell_type": "markdown",
      "source": [
        "### **Then, further narrow it down to SNPs (a single nucleotide change).**"
      ]
    },
    {
      "metadata": {
        "id": "9fwuS1EhDLRw",
        "colab_type": "code",
        "outputId": "ecc7d143-c363-4e1d-ebde-c34cbb29089c",
        "colab": {
          "base_uri": "https://localhost:8080/",
          "height": 204
        }
      },
      "cell_type": "code",
      "source": [
        "df = pd.io.gbq.read_gbq('''\n",
        "SELECT\n",
        "  start_position,\n",
        "  reference_name,\n",
        "  reference_bases AS original,\n",
        "  alternate_bases[ORDINAL(1)].alt AS changed\n",
        "FROM\n",
        "  `isb-cgc.QotM.1000genomes` AS v\n",
        "WHERE\n",
        "  ARRAY_LENGTH(alternate_bases) = 1\n",
        "  AND alternate_bases[ORDINAL(1)].alt IN ('A','C','G','T')\n",
        "ORDER BY start_position \n",
        "LIMIT 10\n",
        "''', project_id=project_id, verbose=False, dialect='standard')        \n",
        "   \n",
        "df.head()\n"
      ],
      "execution_count": 0,
      "outputs": [
        {
          "output_type": "execute_result",
          "data": {
            "text/html": [
              "<div>\n",
              "<style scoped>\n",
              "    .dataframe tbody tr th:only-of-type {\n",
              "        vertical-align: middle;\n",
              "    }\n",
              "\n",
              "    .dataframe tbody tr th {\n",
              "        vertical-align: top;\n",
              "    }\n",
              "\n",
              "    .dataframe thead th {\n",
              "        text-align: right;\n",
              "    }\n",
              "</style>\n",
              "<table border=\"1\" class=\"dataframe\">\n",
              "  <thead>\n",
              "    <tr style=\"text-align: right;\">\n",
              "      <th></th>\n",
              "      <th>start_position</th>\n",
              "      <th>reference_name</th>\n",
              "      <th>original</th>\n",
              "      <th>changed</th>\n",
              "    </tr>\n",
              "  </thead>\n",
              "  <tbody>\n",
              "    <tr>\n",
              "      <th>0</th>\n",
              "      <td>9411238</td>\n",
              "      <td>21</td>\n",
              "      <td>G</td>\n",
              "      <td>A</td>\n",
              "    </tr>\n",
              "    <tr>\n",
              "      <th>1</th>\n",
              "      <td>9411244</td>\n",
              "      <td>21</td>\n",
              "      <td>C</td>\n",
              "      <td>A</td>\n",
              "    </tr>\n",
              "    <tr>\n",
              "      <th>2</th>\n",
              "      <td>9411263</td>\n",
              "      <td>21</td>\n",
              "      <td>A</td>\n",
              "      <td>C</td>\n",
              "    </tr>\n",
              "    <tr>\n",
              "      <th>3</th>\n",
              "      <td>9411266</td>\n",
              "      <td>21</td>\n",
              "      <td>G</td>\n",
              "      <td>T</td>\n",
              "    </tr>\n",
              "    <tr>\n",
              "      <th>4</th>\n",
              "      <td>9411301</td>\n",
              "      <td>21</td>\n",
              "      <td>G</td>\n",
              "      <td>T</td>\n",
              "    </tr>\n",
              "  </tbody>\n",
              "</table>\n",
              "</div>"
            ],
            "text/plain": [
              "   start_position reference_name original changed\n",
              "0         9411238             21        G       A\n",
              "1         9411244             21        C       A\n",
              "2         9411263             21        A       C\n",
              "3         9411266             21        G       T\n",
              "4         9411301             21        G       T"
            ]
          },
          "metadata": {
            "tags": []
          },
          "execution_count": 7
        }
      ]
    },
    {
      "metadata": {
        "id": "OBSIw8VVDiXZ",
        "colab_type": "text"
      },
      "cell_type": "markdown",
      "source": [
        "### **What are the five most frequent mutations on chromosome 21? **"
      ]
    },
    {
      "metadata": {
        "id": "xjTZi8kGuK4L",
        "colab_type": "code",
        "outputId": "cc88334e-c592-40c1-db24-de0bc59d2c91",
        "colab": {
          "base_uri": "https://localhost:8080/",
          "height": 204
        }
      },
      "cell_type": "code",
      "source": [
        "df = pd.io.gbq.read_gbq('''\n",
        "#standardsql\n",
        "WITH\n",
        "table1 AS (\n",
        "SELECT\n",
        "  start_position,\n",
        "  reference_name,\n",
        "  CONCAT( reference_bases, '->', alternate_bases[ORDINAL(1)].alt) AS mutation\n",
        "FROM\n",
        "  `isb-cgc.QotM.1000genomes` AS v\n",
        "WHERE\n",
        "  ARRAY_LENGTH(alternate_bases) = 1\n",
        "  AND alternate_bases[ORDINAL(1)].alt IN ('A','C','G','T')\n",
        ")\n",
        "\n",
        "SELECT\n",
        "  mutation,\n",
        "  COUNT(mutation) AS num_mutations\n",
        "FROM\n",
        "  table1\n",
        "GROUP BY mutation\n",
        "ORDER BY num_mutations DESC\n",
        "LIMIT 5\n",
        "\n",
        "''', project_id=project_id, verbose=False, dialect='standard')        \n",
        "   \n",
        "df.head()\n"
      ],
      "execution_count": 0,
      "outputs": [
        {
          "output_type": "execute_result",
          "data": {
            "text/html": [
              "<div>\n",
              "<style scoped>\n",
              "    .dataframe tbody tr th:only-of-type {\n",
              "        vertical-align: middle;\n",
              "    }\n",
              "\n",
              "    .dataframe tbody tr th {\n",
              "        vertical-align: top;\n",
              "    }\n",
              "\n",
              "    .dataframe thead th {\n",
              "        text-align: right;\n",
              "    }\n",
              "</style>\n",
              "<table border=\"1\" class=\"dataframe\">\n",
              "  <thead>\n",
              "    <tr style=\"text-align: right;\">\n",
              "      <th></th>\n",
              "      <th>mutation</th>\n",
              "      <th>num_mutations</th>\n",
              "    </tr>\n",
              "  </thead>\n",
              "  <tbody>\n",
              "    <tr>\n",
              "      <th>0</th>\n",
              "      <td>G-&gt;A</td>\n",
              "      <td>213081</td>\n",
              "    </tr>\n",
              "    <tr>\n",
              "      <th>1</th>\n",
              "      <td>C-&gt;T</td>\n",
              "      <td>212145</td>\n",
              "    </tr>\n",
              "    <tr>\n",
              "      <th>2</th>\n",
              "      <td>T-&gt;C</td>\n",
              "      <td>147252</td>\n",
              "    </tr>\n",
              "    <tr>\n",
              "      <th>3</th>\n",
              "      <td>A-&gt;G</td>\n",
              "      <td>141916</td>\n",
              "    </tr>\n",
              "    <tr>\n",
              "      <th>4</th>\n",
              "      <td>C-&gt;A</td>\n",
              "      <td>48410</td>\n",
              "    </tr>\n",
              "  </tbody>\n",
              "</table>\n",
              "</div>"
            ],
            "text/plain": [
              "  mutation  num_mutations\n",
              "0     G->A         213081\n",
              "1     C->T         212145\n",
              "2     T->C         147252\n",
              "3     A->G         141916\n",
              "4     C->A          48410"
            ]
          },
          "metadata": {
            "tags": []
          },
          "execution_count": 8
        }
      ]
    },
    {
      "metadata": {
        "id": "89AdnC0YEDCo",
        "colab_type": "text"
      },
      "cell_type": "markdown",
      "source": [
        "### **Now, let's jump into a specific example. The gene DYRK1A on chromosome 21 has been shown to contribute to the development of leukemia.  Researchers are studying it as a potential theraputic target. DYRK1A resides on chromosome 21 from position 37365790 to 37517450. Let's explore variants in this gene. **\n",
        "\n",
        "\n"
      ]
    },
    {
      "metadata": {
        "id": "7MEb7mADg-kI",
        "colab_type": "code",
        "outputId": "62811d69-4de0-41d1-d778-98d97adc7d08",
        "colab": {
          "base_uri": "https://localhost:8080/",
          "height": 80
        }
      },
      "cell_type": "code",
      "source": [
        "df = pd.io.gbq.read_gbq('''\n",
        "#standardsql\n",
        "SELECT\n",
        "  COUNT(reference_name) AS num_variants\n",
        "FROM\n",
        "  `isb-cgc.QotM.1000genomes` AS v\n",
        "WHERE\n",
        "  reference_name = '21'\n",
        "  AND start_position BETWEEN 37365790\n",
        "  AND 37517450\n",
        "  ''', project_id=project_id, verbose=False, dialect='standard')\n",
        "df.head()\n"
      ],
      "execution_count": 0,
      "outputs": [
        {
          "output_type": "execute_result",
          "data": {
            "text/html": [
              "<div>\n",
              "<style scoped>\n",
              "    .dataframe tbody tr th:only-of-type {\n",
              "        vertical-align: middle;\n",
              "    }\n",
              "\n",
              "    .dataframe tbody tr th {\n",
              "        vertical-align: top;\n",
              "    }\n",
              "\n",
              "    .dataframe thead th {\n",
              "        text-align: right;\n",
              "    }\n",
              "</style>\n",
              "<table border=\"1\" class=\"dataframe\">\n",
              "  <thead>\n",
              "    <tr style=\"text-align: right;\">\n",
              "      <th></th>\n",
              "      <th>num_variants</th>\n",
              "    </tr>\n",
              "  </thead>\n",
              "  <tbody>\n",
              "    <tr>\n",
              "      <th>0</th>\n",
              "      <td>4485</td>\n",
              "    </tr>\n",
              "  </tbody>\n",
              "</table>\n",
              "</div>"
            ],
            "text/plain": [
              "   num_variants\n",
              "0          4485"
            ]
          },
          "metadata": {
            "tags": []
          },
          "execution_count": 9
        }
      ]
    },
    {
      "metadata": {
        "id": "u7BlVrstc5Zi",
        "colab_type": "text"
      },
      "cell_type": "markdown",
      "source": [
        "### **And how many samples do we have?**"
      ]
    },
    {
      "metadata": {
        "id": "TTkWuwqec7jF",
        "colab_type": "code",
        "outputId": "49dc532b-92fd-4014-8617-2372aca2112c",
        "colab": {
          "base_uri": "https://localhost:8080/",
          "height": 80
        }
      },
      "cell_type": "code",
      "source": [
        "df = pd.io.gbq.read_gbq('''\n",
        "  SELECT\n",
        "    COUNT(DISTINCT(call.name)) as num_samples\n",
        "  FROM\n",
        "    `isb-cgc.QotM.1000genomes`\n",
        "  JOIN\n",
        "  UNNEST(call) AS call\n",
        "  WHERE\n",
        "    reference_name = '21'\n",
        "    AND (start_position BETWEEN 37365790 AND 37517450)\n",
        "   \n",
        "  ''', project_id=project_id, verbose=False, dialect='standard')\n",
        "df.head()\n",
        "\n",
        "  "
      ],
      "execution_count": 0,
      "outputs": [
        {
          "output_type": "execute_result",
          "data": {
            "text/html": [
              "<div>\n",
              "<style scoped>\n",
              "    .dataframe tbody tr th:only-of-type {\n",
              "        vertical-align: middle;\n",
              "    }\n",
              "\n",
              "    .dataframe tbody tr th {\n",
              "        vertical-align: top;\n",
              "    }\n",
              "\n",
              "    .dataframe thead th {\n",
              "        text-align: right;\n",
              "    }\n",
              "</style>\n",
              "<table border=\"1\" class=\"dataframe\">\n",
              "  <thead>\n",
              "    <tr style=\"text-align: right;\">\n",
              "      <th></th>\n",
              "      <th>num_samples</th>\n",
              "    </tr>\n",
              "  </thead>\n",
              "  <tbody>\n",
              "    <tr>\n",
              "      <th>0</th>\n",
              "      <td>2535</td>\n",
              "    </tr>\n",
              "  </tbody>\n",
              "</table>\n",
              "</div>"
            ],
            "text/plain": [
              "   num_samples\n",
              "0         2535"
            ]
          },
          "metadata": {
            "tags": []
          },
          "execution_count": 10
        }
      ]
    },
    {
      "metadata": {
        "id": "CiGEgi07j2x-",
        "colab_type": "text"
      },
      "cell_type": "markdown",
      "source": [
        "### We have 2,535 samples and the total number of genomic positions mapping to the DYRK1A gene is 4,485. How many variants are there in this gene per sample? \n",
        "\n",
        "To answer this question, we'll need to start working with records. To do that, we'll build up to answering this question through a series of queries.\n",
        "\n",
        "Our first query will flatten the call record into three columns, the call.name, and both genotype calls (one for each chromosome), where a zero is the reference call, and an alternate call otherwise.  You can see most of the listed entries are actually just homozygous refs. "
      ]
    },
    {
      "metadata": {
        "id": "wnvYVLlaZXR-",
        "colab_type": "code",
        "outputId": "1db02674-ebb9-45b6-a4ea-c7651b5e9c29",
        "colab": {
          "base_uri": "https://localhost:8080/",
          "height": 204
        }
      },
      "cell_type": "code",
      "source": [
        "df8 = pd.io.gbq.read_gbq('''\n",
        "  SELECT\n",
        "    call.name,\n",
        "    call.genotype[OFFSET(0)] g1,\n",
        "    call.genotype[OFFSET(1)] g2\n",
        "  FROM\n",
        "    `isb-cgc.QotM.1000genomes`\n",
        "  JOIN\n",
        "  UNNEST(call) AS call WITH OFFSET AS ci\n",
        "  WHERE\n",
        "    reference_name = '21'\n",
        "    AND start_position BETWEEN 37365790\n",
        "    AND 37517450\n",
        "  \n",
        " LIMIT 10''', project_id=project_id, verbose=False, dialect='standard')\n",
        "\n",
        "df8.head()\n"
      ],
      "execution_count": 0,
      "outputs": [
        {
          "output_type": "execute_result",
          "data": {
            "text/html": [
              "<div>\n",
              "<style scoped>\n",
              "    .dataframe tbody tr th:only-of-type {\n",
              "        vertical-align: middle;\n",
              "    }\n",
              "\n",
              "    .dataframe tbody tr th {\n",
              "        vertical-align: top;\n",
              "    }\n",
              "\n",
              "    .dataframe thead th {\n",
              "        text-align: right;\n",
              "    }\n",
              "</style>\n",
              "<table border=\"1\" class=\"dataframe\">\n",
              "  <thead>\n",
              "    <tr style=\"text-align: right;\">\n",
              "      <th></th>\n",
              "      <th>name</th>\n",
              "      <th>g1</th>\n",
              "      <th>g2</th>\n",
              "    </tr>\n",
              "  </thead>\n",
              "  <tbody>\n",
              "    <tr>\n",
              "      <th>0</th>\n",
              "      <td>HG00096</td>\n",
              "      <td>0</td>\n",
              "      <td>0</td>\n",
              "    </tr>\n",
              "    <tr>\n",
              "      <th>1</th>\n",
              "      <td>HG00097</td>\n",
              "      <td>0</td>\n",
              "      <td>0</td>\n",
              "    </tr>\n",
              "    <tr>\n",
              "      <th>2</th>\n",
              "      <td>HG00099</td>\n",
              "      <td>0</td>\n",
              "      <td>0</td>\n",
              "    </tr>\n",
              "    <tr>\n",
              "      <th>3</th>\n",
              "      <td>HG00100</td>\n",
              "      <td>0</td>\n",
              "      <td>0</td>\n",
              "    </tr>\n",
              "    <tr>\n",
              "      <th>4</th>\n",
              "      <td>HG00101</td>\n",
              "      <td>0</td>\n",
              "      <td>0</td>\n",
              "    </tr>\n",
              "  </tbody>\n",
              "</table>\n",
              "</div>"
            ],
            "text/plain": [
              "      name  g1  g2\n",
              "0  HG00096   0   0\n",
              "1  HG00097   0   0\n",
              "2  HG00099   0   0\n",
              "3  HG00100   0   0\n",
              "4  HG00101   0   0"
            ]
          },
          "metadata": {
            "tags": []
          },
          "execution_count": 17
        }
      ]
    },
    {
      "metadata": {
        "id": "ThlsxJacZpbb",
        "colab_type": "text"
      },
      "cell_type": "markdown",
      "source": [
        "**In the above result, we have 11369475 rows, which (as hoped for) is the product of 2535 * 4485!**\n",
        "\n",
        "What we need now, is to match up the sample IDs, and genomic positions.\n",
        "\n",
        "Here's an example of what we're looking for:\n",
        "\n",
        "\n",
        "\n",
        "```\n",
        "  sample chr      pos   mut  g1 g2  \n",
        "HG00096  21 37424669  C->A   0  1 \n",
        "```\n",
        "\n",
        "See:  http://www.internationalgenome.org/data-portal/sample/HG00096\n",
        "\n",
        "\n",
        "Let's write a query to find it."
      ]
    },
    {
      "metadata": {
        "id": "MqJveC6PawQv",
        "colab_type": "code",
        "outputId": "6216a3ef-db41-4a60-b916-83b69e4ed633",
        "colab": {
          "base_uri": "https://localhost:8080/",
          "height": 97
        }
      },
      "cell_type": "code",
      "source": [
        "df9 = pd.io.gbq.read_gbq('''\n",
        "WITH\n",
        "t1 as (\n",
        "SELECT\n",
        "    reference_name,\n",
        "    start_position,\n",
        "    call.name,\n",
        "    call.genotype[OFFSET(0)] g1,\n",
        "    call.genotype[OFFSET(1)] g2\n",
        "  FROM\n",
        "    `isb-cgc.QotM.1000genomes`\n",
        "  JOIN\n",
        "  UNNEST(call) AS call WITH OFFSET AS ci\n",
        "  WHERE\n",
        "    reference_name = '21'\n",
        "    AND start_position BETWEEN 37365790\n",
        "    AND 37517450\n",
        ")\n",
        "\n",
        "select * from t1 where name = 'HG00096' and start_position = 37424669\n",
        "\n",
        "''', project_id=project_id, verbose=False, dialect='standard')\n",
        "\n",
        "df9.head()\n",
        "\n"
      ],
      "execution_count": 0,
      "outputs": [
        {
          "output_type": "stream",
          "text": [
            "WARNING:google.auth._default:No project ID could be determined. Consider running `gcloud config set project` or setting the GOOGLE_CLOUD_PROJECT environment variable\n"
          ],
          "name": "stderr"
        },
        {
          "output_type": "execute_result",
          "data": {
            "text/html": [
              "<div>\n",
              "<style scoped>\n",
              "    .dataframe tbody tr th:only-of-type {\n",
              "        vertical-align: middle;\n",
              "    }\n",
              "\n",
              "    .dataframe tbody tr th {\n",
              "        vertical-align: top;\n",
              "    }\n",
              "\n",
              "    .dataframe thead th {\n",
              "        text-align: right;\n",
              "    }\n",
              "</style>\n",
              "<table border=\"1\" class=\"dataframe\">\n",
              "  <thead>\n",
              "    <tr style=\"text-align: right;\">\n",
              "      <th></th>\n",
              "      <th>reference_name</th>\n",
              "      <th>start_position</th>\n",
              "      <th>name</th>\n",
              "      <th>g1</th>\n",
              "      <th>g2</th>\n",
              "    </tr>\n",
              "  </thead>\n",
              "  <tbody>\n",
              "    <tr>\n",
              "      <th>0</th>\n",
              "      <td>21</td>\n",
              "      <td>37424669</td>\n",
              "      <td>HG00096</td>\n",
              "      <td>0</td>\n",
              "      <td>1</td>\n",
              "    </tr>\n",
              "  </tbody>\n",
              "</table>\n",
              "</div>"
            ],
            "text/plain": [
              "  reference_name  start_position     name  g1  g2\n",
              "0             21        37424669  HG00096   0   1"
            ]
          },
          "metadata": {
            "tags": []
          },
          "execution_count": 18
        }
      ]
    },
    {
      "metadata": {
        "id": "VHhn2PzcZppO",
        "colab_type": "text"
      },
      "cell_type": "markdown",
      "source": [
        "###**OK we should ready to answer the question: How many variants per sample in this gene?** \n",
        "\n"
      ]
    },
    {
      "metadata": {
        "id": "i67HZWvBj1wm",
        "colab_type": "code",
        "outputId": "82a38bae-af4b-42dd-8433-e930eb32dd6d",
        "colab": {
          "base_uri": "https://localhost:8080/",
          "height": 204
        }
      },
      "cell_type": "code",
      "source": [
        "df10 = pd.io.gbq.read_gbq('''\n",
        "WITH\n",
        "t1 AS (\n",
        "SELECT\n",
        "    reference_name,\n",
        "    start_position,\n",
        "    call.name as sample,\n",
        "    call.genotype[OFFSET(0)] g1,\n",
        "    call.genotype[OFFSET(1)] g2\n",
        "  FROM\n",
        "    `isb-cgc.QotM.1000genomes`\n",
        "  JOIN\n",
        "  UNNEST(call) AS call WITH OFFSET AS ci\n",
        "  WHERE\n",
        "    reference_name = '21'\n",
        "    AND (start_position BETWEEN 37365790 AND 37517450)\n",
        "),\n",
        "\n",
        "t2 AS (\n",
        "  SELECT\n",
        "    sample,\n",
        "    COUNT(sample) as N\n",
        "  FROM\n",
        "    t1\n",
        "  WHERE\n",
        "    g1 = 1 OR g2 = 1\n",
        "  GROUP BY\n",
        "    sample\n",
        "  )\n",
        "\n",
        "select * from t2 GROUP BY N, sample ORDER BY N\n",
        "\n",
        "''', project_id=project_id, verbose=False, dialect='standard')\n",
        "\n",
        "df10.head()\n",
        "\n"
      ],
      "execution_count": 0,
      "outputs": [
        {
          "output_type": "execute_result",
          "data": {
            "text/html": [
              "<div>\n",
              "<style scoped>\n",
              "    .dataframe tbody tr th:only-of-type {\n",
              "        vertical-align: middle;\n",
              "    }\n",
              "\n",
              "    .dataframe tbody tr th {\n",
              "        vertical-align: top;\n",
              "    }\n",
              "\n",
              "    .dataframe thead th {\n",
              "        text-align: right;\n",
              "    }\n",
              "</style>\n",
              "<table border=\"1\" class=\"dataframe\">\n",
              "  <thead>\n",
              "    <tr style=\"text-align: right;\">\n",
              "      <th></th>\n",
              "      <th>sample</th>\n",
              "      <th>N</th>\n",
              "    </tr>\n",
              "  </thead>\n",
              "  <tbody>\n",
              "    <tr>\n",
              "      <th>0</th>\n",
              "      <td>HG03836</td>\n",
              "      <td>42</td>\n",
              "    </tr>\n",
              "    <tr>\n",
              "      <th>1</th>\n",
              "      <td>NA19669</td>\n",
              "      <td>75</td>\n",
              "    </tr>\n",
              "    <tr>\n",
              "      <th>2</th>\n",
              "      <td>HG00717</td>\n",
              "      <td>80</td>\n",
              "    </tr>\n",
              "    <tr>\n",
              "      <th>3</th>\n",
              "      <td>HG02655</td>\n",
              "      <td>85</td>\n",
              "    </tr>\n",
              "    <tr>\n",
              "      <th>4</th>\n",
              "      <td>HG02820</td>\n",
              "      <td>89</td>\n",
              "    </tr>\n",
              "  </tbody>\n",
              "</table>\n",
              "</div>"
            ],
            "text/plain": [
              "    sample   N\n",
              "0  HG03836  42\n",
              "1  NA19669  75\n",
              "2  HG00717  80\n",
              "3  HG02655  85\n",
              "4  HG02820  89"
            ]
          },
          "metadata": {
            "tags": []
          },
          "execution_count": 19
        }
      ]
    },
    {
      "metadata": {
        "id": "awWUoYVQZpxQ",
        "colab_type": "text"
      },
      "cell_type": "markdown",
      "source": [
        "**In the above result, we have the expected 2,535 number of rows (for each sample).  The number of variants per sample ranges from 42 to 401.  Let's make a histogram.**"
      ]
    },
    {
      "metadata": {
        "id": "A4P0KXrZmi6M",
        "colab_type": "code",
        "outputId": "7376a2cf-dd07-4f44-856c-921a5cd62f27",
        "colab": {
          "base_uri": "https://localhost:8080/",
          "height": 396
        }
      },
      "cell_type": "code",
      "source": [
        "df10.hist()"
      ],
      "execution_count": 0,
      "outputs": [
        {
          "output_type": "execute_result",
          "data": {
            "text/plain": [
              "array([[<matplotlib.axes._subplots.AxesSubplot object at 0x7f0588c982b0>]],\n",
              "      dtype=object)"
            ]
          },
          "metadata": {
            "tags": []
          },
          "execution_count": 20
        },
        {
          "output_type": "display_data",
          "data": {
            "image/png": "[encoded data removed]",
            "text/plain": [
              "<matplotlib.figure.Figure at 0x7f0588cb50b8>"
            ]
          },
          "metadata": {
            "tags": []
          }
        }
      ]
    },
    {
      "metadata": {
        "id": "i-5KgIf1Zp3S",
        "colab_type": "text"
      },
      "cell_type": "markdown",
      "source": [
        "### **So we can see most samples have around 300 variants in this gene.**\n",
        "\n",
        "\n"
      ]
    },
    {
      "metadata": {
        "id": "814Jb5DGUvqY",
        "colab_type": "text"
      },
      "cell_type": "markdown",
      "source": [
        "### **How many variants within DYRK1A gene for a particular sample that are shared by no other samples. These variants are called private variants.**\n",
        "\n",
        "One way to do this would be to filter out variant positions that have a single sample ID associated with it."
      ]
    },
    {
      "metadata": {
        "id": "v_eAFZ9DU6f5",
        "colab_type": "code",
        "outputId": "59b5a709-a870-4a09-f700-f7b67a79aa8b",
        "colab": {
          "base_uri": "https://localhost:8080/",
          "height": 80
        }
      },
      "cell_type": "code",
      "source": [
        "df10z = pd.io.gbq.read_gbq('''\n",
        "\n",
        "WITH\n",
        "t1 AS (\n",
        "SELECT\n",
        "    reference_name,\n",
        "    start_position,\n",
        "    call.name,\n",
        "    call.genotype[OFFSET(0)] g1,\n",
        "    call.genotype[OFFSET(1)] g2\n",
        "  FROM\n",
        "    `isb-cgc.QotM.1000genomes`\n",
        "  JOIN\n",
        "  UNNEST(call) AS call WITH OFFSET AS ci\n",
        "  WHERE\n",
        "    reference_name = '21'\n",
        "    AND (start_position BETWEEN 37365790 AND 37517450)\n",
        "),\n",
        "\n",
        "t2 AS (\n",
        "SELECT\n",
        "  start_position,\n",
        "  COUNT(start_position) as N\n",
        "FROM\n",
        "  t1\n",
        "WHERE\n",
        "  (g1 = 1 OR g2 = 1)\n",
        "GROUP BY\n",
        "  start_position \n",
        ")\n",
        "\n",
        "select COUNT(*) private_vars from t2 WHERE N = 1\n",
        "\n",
        "''', project_id=project_id, verbose=False, dialect='standard')\n",
        "\n",
        "df10z.head()\n"
      ],
      "execution_count": 0,
      "outputs": [
        {
          "output_type": "execute_result",
          "data": {
            "text/html": [
              "<div>\n",
              "<style scoped>\n",
              "    .dataframe tbody tr th:only-of-type {\n",
              "        vertical-align: middle;\n",
              "    }\n",
              "\n",
              "    .dataframe tbody tr th {\n",
              "        vertical-align: top;\n",
              "    }\n",
              "\n",
              "    .dataframe thead th {\n",
              "        text-align: right;\n",
              "    }\n",
              "</style>\n",
              "<table border=\"1\" class=\"dataframe\">\n",
              "  <thead>\n",
              "    <tr style=\"text-align: right;\">\n",
              "      <th></th>\n",
              "      <th>private_vars</th>\n",
              "    </tr>\n",
              "  </thead>\n",
              "  <tbody>\n",
              "    <tr>\n",
              "      <th>0</th>\n",
              "      <td>1852</td>\n",
              "    </tr>\n",
              "  </tbody>\n",
              "</table>\n",
              "</div>"
            ],
            "text/plain": [
              "   private_vars\n",
              "0          1852"
            ]
          },
          "metadata": {
            "tags": []
          },
          "execution_count": 23
        }
      ]
    },
    {
      "metadata": {
        "id": "xT3pvBCbW-Ls",
        "colab_type": "text"
      },
      "cell_type": "markdown",
      "source": [
        "### **OK! The above result shows 1852 private variants out of 11,369,475 variants in our table.**"
      ]
    },
    {
      "metadata": {
        "id": "mkTI-bsjqOc9",
        "colab_type": "text"
      },
      "cell_type": "markdown",
      "source": [
        "### **Finally, let's do some statistics!  Let's do Z-scores. Now we could just work with the pandas table we already have, but for the example, let's do it in BigQuery.**"
      ]
    },
    {
      "metadata": {
        "id": "ormLk6thqTE0",
        "colab_type": "code",
        "outputId": "8dd15854-0bc6-4649-e153-115a38916f86",
        "colab": {
          "base_uri": "https://localhost:8080/",
          "height": 204
        }
      },
      "cell_type": "code",
      "source": [
        "df11 = pd.io.gbq.read_gbq('''\n",
        "WITH\n",
        "t1 AS (\n",
        "SELECT\n",
        "    reference_name,\n",
        "    start_position,\n",
        "    call.name as sample,\n",
        "    call.genotype[OFFSET(0)] g1,\n",
        "    call.genotype[OFFSET(1)] g2\n",
        "  FROM\n",
        "    `isb-cgc.QotM.1000genomes`\n",
        "  JOIN\n",
        "  UNNEST(call) AS call WITH OFFSET AS ci\n",
        "  WHERE\n",
        "    reference_name = '21'\n",
        "    AND (start_position BETWEEN 37365790 AND 37517450)\n",
        "),\n",
        "\n",
        "t2 AS (\n",
        "  SELECT\n",
        "    sample,\n",
        "    COUNT(sample) as N\n",
        "  FROM\n",
        "    t1\n",
        "  WHERE\n",
        "    g1 = 1 OR g2 = 1\n",
        "  GROUP BY\n",
        "    sample\n",
        "  ),\n",
        "\n",
        "t3 AS (\n",
        "SELECT\n",
        "  AVG(N) avgn, \n",
        "  STDDEV(N) stddevn\n",
        "FROM\n",
        "  t2\n",
        "), \n",
        "\n",
        "t4 AS (\n",
        "  SELECT\n",
        "    sample,\n",
        "    N,\n",
        "    avgn,\n",
        "    stddevn,\n",
        "    (N - avgn) / stddevn as Z_score\n",
        "  FROM\n",
        "    t2 CROSS JOIN t3\n",
        ")\n",
        "\n",
        "select * from t4\n",
        "''', project_id=project_id, verbose=False, dialect='standard')\n",
        "\n",
        "df11.head()"
      ],
      "execution_count": 0,
      "outputs": [
        {
          "output_type": "execute_result",
          "data": {
            "text/html": [
              "<div>\n",
              "<style scoped>\n",
              "    .dataframe tbody tr th:only-of-type {\n",
              "        vertical-align: middle;\n",
              "    }\n",
              "\n",
              "    .dataframe tbody tr th {\n",
              "        vertical-align: top;\n",
              "    }\n",
              "\n",
              "    .dataframe thead th {\n",
              "        text-align: right;\n",
              "    }\n",
              "</style>\n",
              "<table border=\"1\" class=\"dataframe\">\n",
              "  <thead>\n",
              "    <tr style=\"text-align: right;\">\n",
              "      <th></th>\n",
              "      <th>sample</th>\n",
              "      <th>N</th>\n",
              "      <th>avgn</th>\n",
              "      <th>stddevn</th>\n",
              "      <th>Z_score</th>\n",
              "    </tr>\n",
              "  </thead>\n",
              "  <tbody>\n",
              "    <tr>\n",
              "      <th>0</th>\n",
              "      <td>HG01086</td>\n",
              "      <td>256</td>\n",
              "      <td>275.190533</td>\n",
              "      <td>58.873981</td>\n",
              "      <td>-0.325959</td>\n",
              "    </tr>\n",
              "    <tr>\n",
              "      <th>1</th>\n",
              "      <td>HG03342</td>\n",
              "      <td>256</td>\n",
              "      <td>275.190533</td>\n",
              "      <td>58.873981</td>\n",
              "      <td>-0.325959</td>\n",
              "    </tr>\n",
              "    <tr>\n",
              "      <th>2</th>\n",
              "      <td>HG03694</td>\n",
              "      <td>256</td>\n",
              "      <td>275.190533</td>\n",
              "      <td>58.873981</td>\n",
              "      <td>-0.325959</td>\n",
              "    </tr>\n",
              "    <tr>\n",
              "      <th>3</th>\n",
              "      <td>HG00110</td>\n",
              "      <td>256</td>\n",
              "      <td>275.190533</td>\n",
              "      <td>58.873981</td>\n",
              "      <td>-0.325959</td>\n",
              "    </tr>\n",
              "    <tr>\n",
              "      <th>4</th>\n",
              "      <td>HG00116</td>\n",
              "      <td>256</td>\n",
              "      <td>275.190533</td>\n",
              "      <td>58.873981</td>\n",
              "      <td>-0.325959</td>\n",
              "    </tr>\n",
              "  </tbody>\n",
              "</table>\n",
              "</div>"
            ],
            "text/plain": [
              "    sample    N        avgn    stddevn   Z_score\n",
              "0  HG01086  256  275.190533  58.873981 -0.325959\n",
              "1  HG03342  256  275.190533  58.873981 -0.325959\n",
              "2  HG03694  256  275.190533  58.873981 -0.325959\n",
              "3  HG00110  256  275.190533  58.873981 -0.325959\n",
              "4  HG00116  256  275.190533  58.873981 -0.325959"
            ]
          },
          "metadata": {
            "tags": []
          },
          "execution_count": 24
        }
      ]
    },
    {
      "metadata": {
        "id": "pSOCbwAjsXE1",
        "colab_type": "code",
        "outputId": "13891d7b-8212-4b1b-ec36-2996dee2db3c",
        "colab": {
          "base_uri": "https://localhost:8080/",
          "height": 447
        }
      },
      "cell_type": "code",
      "source": [
        "df11.hist()"
      ],
      "execution_count": 0,
      "outputs": [
        {
          "output_type": "execute_result",
          "data": {
            "text/plain": [
              "array([[<matplotlib.axes._subplots.AxesSubplot object at 0x7f0585da1a20>,\n",
              "        <matplotlib.axes._subplots.AxesSubplot object at 0x7f05860f14a8>],\n",
              "       [<matplotlib.axes._subplots.AxesSubplot object at 0x7f058606ab38>,\n",
              "        <matplotlib.axes._subplots.AxesSubplot object at 0x7f0585f50898>]],\n",
              "      dtype=object)"
            ]
          },
          "metadata": {
            "tags": []
          },
          "execution_count": 26
        },
        {
          "output_type": "display_data",
          "data": {
            "image/png": "[encoded data removed]",
            "text/plain": [
              "<matplotlib.figure.Figure at 0x7f0588b67c18>"
            ]
          },
          "metadata": {
            "tags": []
          }
        }
      ]
    },
    {
      "metadata": {
        "id": "Kg78Hz_8w95E",
        "colab_type": "text"
      },
      "cell_type": "markdown",
      "source": [
        "IS THIS RIGHT??"
      ]
    },
    {
      "metadata": {
        "id": "SbVMcj9EG8le",
        "colab_type": "text"
      },
      "cell_type": "markdown",
      "source": [
        "### **So, the above query calculated Z-scores for a single gene. Let's make another query where we construct a series of bins, one bin per million bases, and compute a Z-score per sample, per bin.**\n",
        "\n",
        "This is adapted from the Google tutorial (https://codelabs.developers.google.com/codelabs/genomics-vcfbq/index.html?index=..%2F..index#0\n",
        ")."
      ]
    },
    {
      "metadata": {
        "id": "t1b_AIWRA4QZ",
        "colab_type": "code",
        "outputId": "3098cd2e-af82-4bd7-c4c2-66e2ce8802e5",
        "colab": {
          "base_uri": "https://localhost:8080/",
          "height": 204
        }
      },
      "cell_type": "code",
      "source": [
        "\n",
        "df13 = pd.io.gbq.read_gbq('''\n",
        "\n",
        "#standardsql\n",
        "WITH ind AS (\n",
        "  -- count variants for each sample/ref/bin\n",
        "  SELECT\n",
        "    call.name AS sample, \n",
        "    reference_name AS ref, \n",
        "    FLOOR(start_position/1000000) AS bin, \n",
        "    COUNT(call.name) AS n\n",
        "  FROM `isb-cgc.QotM.1000genomes` \n",
        "  JOIN UNNEST(call) AS call\n",
        "  JOIN UNNEST(alternate_bases) AS alt\n",
        "  WHERE alt.alt != '<*>'\n",
        "    AND (call.genotype[OFFSET(0)] = 1 OR call.genotype[OFFSET(1)] = 1)\n",
        "  GROUP BY sample, ref, bin\n",
        "),\n",
        "\n",
        "pop AS (\n",
        "  -- overall all samples in ref/bin\n",
        "  SELECT \n",
        "    ref, \n",
        "    bin, \n",
        "    AVG(n) AS pop_mu, \n",
        "    STDDEV(n) AS pop_sigma\n",
        "  FROM ind\n",
        "  GROUP BY ref, bin\n",
        "),\n",
        "\n",
        "zscore AS (\n",
        "  SELECT \n",
        "    ind.sample, \n",
        "    ind.n AS ind_n,\n",
        "    (ind.n-pop.pop_mu)/pop.pop_sigma AS z, \n",
        "    pop.ref, \n",
        "    pop.bin, \n",
        "    pop.pop_mu, \n",
        "    pop.pop_sigma\n",
        "  FROM pop, ind\n",
        "  WHERE ind.ref = pop.ref AND ind.bin = pop.bin\n",
        ")\n",
        "\n",
        "SELECT * from zscore\n",
        "ORDER BY ABS(Z) DESC\n",
        "\n",
        "''', project_id=project_id, verbose=False, dialect='standard')        \n",
        "   \n",
        "df13.head()\n",
        "\n",
        "\n"
      ],
      "execution_count": 0,
      "outputs": [
        {
          "output_type": "execute_result",
          "data": {
            "text/html": [
              "<div>\n",
              "<style scoped>\n",
              "    .dataframe tbody tr th:only-of-type {\n",
              "        vertical-align: middle;\n",
              "    }\n",
              "\n",
              "    .dataframe tbody tr th {\n",
              "        vertical-align: top;\n",
              "    }\n",
              "\n",
              "    .dataframe thead th {\n",
              "        text-align: right;\n",
              "    }\n",
              "</style>\n",
              "<table border=\"1\" class=\"dataframe\">\n",
              "  <thead>\n",
              "    <tr style=\"text-align: right;\">\n",
              "      <th></th>\n",
              "      <th>sample</th>\n",
              "      <th>ind_n</th>\n",
              "      <th>z</th>\n",
              "      <th>ref</th>\n",
              "      <th>bin</th>\n",
              "      <th>pop_mu</th>\n",
              "      <th>pop_sigma</th>\n",
              "    </tr>\n",
              "  </thead>\n",
              "  <tbody>\n",
              "    <tr>\n",
              "      <th>0</th>\n",
              "      <td>HG02623</td>\n",
              "      <td>665</td>\n",
              "      <td>5.591835</td>\n",
              "      <td>21</td>\n",
              "      <td>10.0</td>\n",
              "      <td>515.824458</td>\n",
              "      <td>26.677389</td>\n",
              "    </tr>\n",
              "    <tr>\n",
              "      <th>1</th>\n",
              "      <td>HG02574</td>\n",
              "      <td>663</td>\n",
              "      <td>5.516865</td>\n",
              "      <td>21</td>\n",
              "      <td>10.0</td>\n",
              "      <td>515.824458</td>\n",
              "      <td>26.677389</td>\n",
              "    </tr>\n",
              "    <tr>\n",
              "      <th>2</th>\n",
              "      <td>HG02645</td>\n",
              "      <td>647</td>\n",
              "      <td>4.917106</td>\n",
              "      <td>21</td>\n",
              "      <td>10.0</td>\n",
              "      <td>515.824458</td>\n",
              "      <td>26.677389</td>\n",
              "    </tr>\n",
              "    <tr>\n",
              "      <th>3</th>\n",
              "      <td>HG01384</td>\n",
              "      <td>840</td>\n",
              "      <td>-4.729486</td>\n",
              "      <td>21</td>\n",
              "      <td>39.0</td>\n",
              "      <td>1712.270611</td>\n",
              "      <td>184.432426</td>\n",
              "    </tr>\n",
              "    <tr>\n",
              "      <th>4</th>\n",
              "      <td>HG03867</td>\n",
              "      <td>992</td>\n",
              "      <td>-4.715188</td>\n",
              "      <td>21</td>\n",
              "      <td>15.0</td>\n",
              "      <td>1923.495069</td>\n",
              "      <td>197.552059</td>\n",
              "    </tr>\n",
              "  </tbody>\n",
              "</table>\n",
              "</div>"
            ],
            "text/plain": [
              "    sample  ind_n         z ref   bin       pop_mu   pop_sigma\n",
              "0  HG02623    665  5.591835  21  10.0   515.824458   26.677389\n",
              "1  HG02574    663  5.516865  21  10.0   515.824458   26.677389\n",
              "2  HG02645    647  4.917106  21  10.0   515.824458   26.677389\n",
              "3  HG01384    840 -4.729486  21  39.0  1712.270611  184.432426\n",
              "4  HG03867    992 -4.715188  21  15.0  1923.495069  197.552059"
            ]
          },
          "metadata": {
            "tags": []
          },
          "execution_count": 6
        }
      ]
    },
    {
      "metadata": {
        "id": "zVJu5ojlCxfK",
        "colab_type": "code",
        "outputId": "09e40cd2-c104-49b0-aaf6-7d274729b4ad",
        "colab": {
          "base_uri": "https://localhost:8080/",
          "height": 617
        }
      },
      "cell_type": "code",
      "source": [
        "import matplotlib\n",
        "matplotlib.rcParams['figure.figsize'] = [6, 8]\n",
        "\n",
        "df13.hist()"
      ],
      "execution_count": 0,
      "outputs": [
        {
          "output_type": "execute_result",
          "data": {
            "text/plain": [
              "array([[<matplotlib.axes._subplots.AxesSubplot object at 0x7ff06e966390>,\n",
              "        <matplotlib.axes._subplots.AxesSubplot object at 0x7ff06e496e10>],\n",
              "       [<matplotlib.axes._subplots.AxesSubplot object at 0x7ff06e363710>,\n",
              "        <matplotlib.axes._subplots.AxesSubplot object at 0x7ff06e1bb550>],\n",
              "       [<matplotlib.axes._subplots.AxesSubplot object at 0x7ff06e07ee10>,\n",
              "        <matplotlib.axes._subplots.AxesSubplot object at 0x7ff06e07eef0>]],\n",
              "      dtype=object)"
            ]
          },
          "metadata": {
            "tags": []
          },
          "execution_count": 10
        },
        {
          "output_type": "display_data",
          "data": {
            "image/png": "[encoded data removed]",
            "text/plain": [
              "<matplotlib.figure.Figure at 0x7ff06e676d30>"
            ]
          },
          "metadata": {
            "tags": []
          }
        }
      ]
    },
    {
      "metadata": {
        "id": "ocOT6GkbmVUi",
        "colab_type": "text"
      },
      "cell_type": "markdown",
      "source": [
        "### **But what about the case when you have mulple alleles?**\n",
        "\n",
        "\n",
        "\n",
        "\n",
        "\n",
        "To work with that, we need to select the right alternate allele using the genotype calls.\n",
        "\n"
      ]
    },
    {
      "metadata": {
        "id": "lC00C1RYCyzs",
        "colab_type": "code",
        "outputId": "556230a1-5135-48fd-858f-914c1bab367f",
        "colab": {
          "base_uri": "https://localhost:8080/",
          "height": 80
        }
      },
      "cell_type": "code",
      "source": [
        "df14 = pd.io.gbq.read_gbq('''\n",
        "\n",
        "SELECT\n",
        "reference_name as chr,\n",
        "start_position,\n",
        "reference_bases ,\n",
        "--\n",
        "--  if the genotype is 0, it's a ref call\n",
        "--  else use the genotype call to index the alternative base\n",
        "--\n",
        "IF( (call.genotype[OFFSET(0)] = 0), \n",
        "     reference_bases, \n",
        "     alternate_bases[OFFSET(call.genotype[OFFSET(0)] - 1)].alt ) as alt1,\n",
        "--\n",
        "--\n",
        "IF( (call.genotype[OFFSET(1)] = 0), \n",
        "     reference_bases, \n",
        "     alternate_bases[OFFSET(call.genotype[OFFSET(1)] - 1)].alt ) AS alt2,\n",
        "--\n",
        "--  then we're still unnesting a single column.\n",
        "--\n",
        "call.name,\n",
        "call.genotype[OFFSET(0)] AS g1,\n",
        "call.genotype[OFFSET(1)] AS g2\n",
        "FROM\n",
        "  `isb-cgc.QotM.1000genomes`\n",
        "JOIN\n",
        "  UNNEST(call) as call\n",
        "WHERE\n",
        "  reference_name = '21'\n",
        "  AND call.name = 'HG00119'\n",
        "  AND start_position = 34434667\n",
        "\n",
        "''', project_id=project_id, verbose=False, dialect='standard'\n",
        ")\n",
        "\n",
        "df14.head()\n",
        "\n"
      ],
      "execution_count": 0,
      "outputs": [
        {
          "output_type": "execute_result",
          "data": {
            "text/html": [
              "<div>\n",
              "<style scoped>\n",
              "    .dataframe tbody tr th:only-of-type {\n",
              "        vertical-align: middle;\n",
              "    }\n",
              "\n",
              "    .dataframe tbody tr th {\n",
              "        vertical-align: top;\n",
              "    }\n",
              "\n",
              "    .dataframe thead th {\n",
              "        text-align: right;\n",
              "    }\n",
              "</style>\n",
              "<table border=\"1\" class=\"dataframe\">\n",
              "  <thead>\n",
              "    <tr style=\"text-align: right;\">\n",
              "      <th></th>\n",
              "      <th>reference_name</th>\n",
              "      <th>start_position</th>\n",
              "      <th>reference_bases</th>\n",
              "      <th>alt1</th>\n",
              "      <th>alt2</th>\n",
              "      <th>name</th>\n",
              "      <th>g1</th>\n",
              "      <th>g2</th>\n",
              "    </tr>\n",
              "  </thead>\n",
              "  <tbody>\n",
              "    <tr>\n",
              "      <th>0</th>\n",
              "      <td>21</td>\n",
              "      <td>34434667</td>\n",
              "      <td>G</td>\n",
              "      <td>T</td>\n",
              "      <td>G</td>\n",
              "      <td>HG00119</td>\n",
              "      <td>2</td>\n",
              "      <td>0</td>\n",
              "    </tr>\n",
              "  </tbody>\n",
              "</table>\n",
              "</div>"
            ],
            "text/plain": [
              "  reference_name  start_position reference_bases alt1 alt2     name  g1  g2\n",
              "0             21        34434667               G    T    G  HG00119   2   0"
            ]
          },
          "metadata": {
            "tags": []
          },
          "execution_count": 11
        }
      ]
    }
  ]
}