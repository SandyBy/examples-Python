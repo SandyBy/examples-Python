{
 "cells": [
  {
   "cell_type": "markdown",
   "metadata": {},
   "source": [
    "# DNA Methylation (JHU-USC beta values)\n",
    "\n",
    "The goal of this notebook is to introduce you to the DNA methylation BigQuery table.\n",
    "\n",
    "This table contains all available TCGA Level-3 DNA methylation data produced by the JHU-USC methylation pipeline using the Illumina Infinium Human Methylation 27k and 450k platforms, as of October 2015.  (Actual archive dates range from October 2012 to August 2015.)  The most recent archives (*eg* ``jhu-usc.edu_HNSC.HumanMethylation450.Level_3.18.8.0``) for each of the 33 tumor types were downloaded from the DCC, and data extracted from all files matching the pattern ``jhu-usc.edu_%.HumanMethylation%.lvl-3.%.txt``. Each of these text files has five columns.  The first two columns contain the CpG probe id and the methylation beta value.  The additional columns contain annotation information (gene symbol(s), and chromosome and genomic coordinate for the CpG probe).  Only the CpG probe id and the beta value were extracted during ETL and stored in this BigQuery table, along with the aliquot ID (which can be found both in the text filename, and in the SDRF file in the mage-tab archive).\n",
    "\n",
    "** WARNING**: This BigQuery table contains almost **4 billion** rows of data and is over 400 GB in size.  When experimenting with new queries, be sure to put a \"LIMIT\" on the results to avoid accidentally launching a query that might either take a very very long time or produce a very large results table! \n",
    "\n",
    "In order to work with BigQuery, you need to import the python bigquery module (`gcp.bigquery`) and you need to know the name(s) of the table(s) you are going to be working with:"
   ]
  },
  {
   "cell_type": "code",
   "execution_count": 1,
   "metadata": {
    "collapsed": true
   },
   "outputs": [],
   "source": [
    "import gcp.bigquery as bq\n",
    "meth_BQtable = bq.Table('isb-cgc:tcga_201510_alpha.DNA_Methylation_betas')"
   ]
  },
  {
   "cell_type": "markdown",
   "metadata": {},
   "source": [
    "From now on, we will refer to this table using this variable ($meth_BQtable), but we could just as well explicitly give the table name each time.\n",
    "\n",
    "Let's start by taking a look at the table schema:"
   ]
  },
  {
   "cell_type": "code",
   "execution_count": 2,
   "metadata": {
    "collapsed": false
   },
   "outputs": [
    {
     "data": {
      "text/html": [
       "\n",
       "    <div class=\"bqsv\" id=\"1_146379201456\"></div>\n",
       "    <script>\n",
       "      require(['extensions/bigquery', 'element!1_146379201456', 'style!/static/extensions/bigquery.css'],\n",
       "        function(bq, dom) {\n",
       "          bq.renderSchema(dom, [{\"type\": \"STRING\", \"name\": \"ParticipantBarcode\"}, {\"type\": \"STRING\", \"name\": \"SampleBarcode\"}, {\"type\": \"STRING\", \"name\": \"SampleTypeLetterCode\", \"description\": \"Refer: https://tcga-data.nci.nih.gov/datareports/codeTablesReport.htm\"}, {\"type\": \"STRING\", \"name\": \"AliquotBarcode\", \"description\": \"The Aliquot ID is an identifier/barcode of TCGA data. Refer: https://wiki.nci.nih.gov/display/TCGA/TCGA+barcode\"}, {\"type\": \"STRING\", \"name\": \"Platform\", \"description\": \"Refer: https://tcga-data.nci.nih.gov/datareports/codeTablesReport.htm\"}, {\"type\": \"STRING\", \"name\": \"Study\", \"description\": \"TCGA disease type\"}, {\"type\": \"STRING\", \"name\": \"Probe_Id\", \"description\": \"Illumina's CpG loci IDs. Refer: http://www.illumina.com/content/dam/illumina-marketing/documents/products/technotes/technote_cpg_loci_identification.pdf\"}, {\"type\": \"FLOAT\", \"name\": \"Beta_Value\", \"description\": \"The beta value (\\u03b2) is used to estimate the methylation level of the CpG locus using the ratio of intensities between methylated and unmethylated alleles\"}]);\n",
       "        }\n",
       "      );\n",
       "    </script>\n",
       "    "
      ],
      "text/plain": [
       "<IPython.core.display.HTML object>"
      ]
     },
     "execution_count": 2,
     "metadata": {},
     "output_type": "execute_result"
    }
   ],
   "source": [
    "%bigquery schema --table $meth_BQtable"
   ]
  },
  {
   "cell_type": "markdown",
   "metadata": {},
   "source": [
    "Let's count up the number of unique patients, samples and aliquots mentioned in this table.  Using the same approach, we can count up the number of unique CpG probes.  We will do this by defining a very simple parameterized query.  (Note that when using a variable for the table name in the FROM clause, you should not also use the square brackets that you usually would if you were specifying the table name as a string.)"
   ]
  },
  {
   "cell_type": "code",
   "execution_count": 3,
   "metadata": {
    "collapsed": true
   },
   "outputs": [],
   "source": [
    "%%sql --module count_unique\n",
    "\n",
    "DEFINE QUERY q1\n",
    "SELECT COUNT (DISTINCT $f, 500000) AS n\n",
    "FROM $t"
   ]
  },
  {
   "cell_type": "code",
   "execution_count": 4,
   "metadata": {
    "collapsed": false
   },
   "outputs": [
    {
     "name": "stdout",
     "output_type": "stream",
     "text": [
      " There are  10852 unique values in the field ParticipantBarcode. \n",
      " There are  12024 unique values in the field SampleBarcode. \n",
      " There are  12069 unique values in the field AliquotBarcode. \n",
      " There are 397665 unique values in the field Probe_Id. \n"
     ]
    }
   ],
   "source": [
    "fieldList = ['ParticipantBarcode', 'SampleBarcode', 'AliquotBarcode', 'Probe_Id']\n",
    "for aField in fieldList:\n",
    "  field = meth_BQtable.schema[aField]\n",
    "  rdf = bq.Query(count_unique.q1,t=meth_BQtable,f=field).results().to_dataframe()\n",
    "  print \" There are %6d unique values in the field %s. \" % ( rdf.iloc[0]['n'], aField)"
   ]
  },
  {
   "cell_type": "markdown",
   "metadata": {},
   "source": [
    "As mentioned above, two different platforms were used to measure DNA methylation.  The annotations from Illumina are also available in a BigQuery table:"
   ]
  },
  {
   "cell_type": "code",
   "execution_count": 5,
   "metadata": {
    "collapsed": true
   },
   "outputs": [],
   "source": [
    "methAnnot = bq.Table('isb-cgc:platform_reference.methylation_annotation')"
   ]
  },
  {
   "cell_type": "code",
   "execution_count": 6,
   "metadata": {
    "collapsed": false
   },
   "outputs": [
    {
     "data": {
      "text/html": [
       "\n",
       "    <div class=\"bqsv\" id=\"2_146379210898\"></div>\n",
       "    <script>\n",
       "      require(['extensions/bigquery', 'element!2_146379210898', 'style!/static/extensions/bigquery.css'],\n",
       "        function(bq, dom) {\n",
       "          bq.renderSchema(dom, [{\"type\": \"INTEGER\", \"name\": \"AddressA_ID\", \"description\": \"Address of probe A\"}, {\"type\": \"INTEGER\", \"name\": \"AddressB_ID\", \"description\": \"Address of probe  B\"}, {\"type\": \"STRING\", \"name\": \"AlleleA_ProbeSeq\", \"description\": \"Sequence for probe A\"}, {\"type\": \"STRING\", \"name\": \"AlleleB_ProbeSeq\", \"description\": \"Sequence for probe B\"}, {\"type\": \"STRING\", \"name\": \"CHR\", \"description\": \"Chromosome - genome build 37\"}, {\"type\": \"STRING\", \"name\": \"Chromosome_36\", \"description\": \"Chromosome - genome build 36\"}, {\"type\": \"STRING\", \"name\": \"Color_Channel\", \"description\": \"Color of the incorporated base (Red or Green) - Infinium I assays only\"}, {\"type\": \"STRING\", \"name\": \"Coordinate_36\", \"description\": \"Coordinates - genome build 36\"}, {\"type\": \"STRING\", \"name\": \"DHS\", \"description\": \"DNAse hypersensitive site (experimentally determined)\"}, {\"type\": \"STRING\", \"name\": \"DMR\", \"description\": \"Differentially methylated region (experimentally determined)\"}, {\"type\": \"STRING\", \"name\": \"Enhancer\", \"description\": \"Enhancer element (informatically-determined)\"}, {\"type\": \"STRING\", \"name\": \"Forward_Sequence\", \"description\": \"Sequence (in 5'-3' orientation) flanking query site\"}, {\"type\": \"INTEGER\", \"name\": \"Genome_Build\", \"description\": \"Genome build on which forward sequence is based\"}, {\"type\": \"STRING\", \"name\": \"HMM_Island\", \"description\": \"Hidden Markov Model Island\"}, {\"type\": \"STRING\", \"name\": \"IlmnID\", \"description\": \"Unique CpG locus identifier from the Illumina CG database\"}, {\"type\": \"STRING\", \"name\": \"Infinium_Design_Type\", \"description\": \"Defines Assay type - Infinium I or Infinium II\"}, {\"type\": \"INTEGER\", \"name\": \"MAPINFO\", \"description\": \"Coordinates - genome build 37\"}, {\"type\": \"STRING\", \"name\": \"Methyl27_Loci\", \"description\": \"Present or absent on HumanMethylation27 array\"}, {\"type\": \"STRING\", \"name\": \"Name\", \"description\": \"Unique CpG locus identifier from the Illumina CG database\"}, {\"type\": \"STRING\", \"name\": \"Next_Base\", \"description\": \"Base added at SBE step - Infinium I assays only\"}, {\"type\": \"STRING\", \"name\": \"Phantom\", \"description\": \"FANTOM-derived promoter\"}, {\"type\": \"STRING\", \"name\": \"Probe_SNPs\", \"description\": \"Assays with SNPs present within probe >10bp from query site\"}, {\"type\": \"STRING\", \"name\": \"Probe_SNPs_10\", \"description\": \"Assays with SNPs present within probe ?10bp from query site (HM27 carryover or recently discovered)\"}, {\"type\": \"STRING\", \"name\": \"Random_Loci\", \"description\": \"Loci which were chosen randomly in the design proccess\"}, {\"type\": \"STRING\", \"name\": \"Regulatory_Feature_Group\", \"description\": \"Regulatory feature category\"}, {\"type\": \"STRING\", \"name\": \"Regulatory_Feature_Name\", \"description\": \"Regulatory feature (informatically determined)\"}, {\"type\": \"STRING\", \"name\": \"Relation_to_UCSC_CpG_Island\", \"description\": \"Relationship to Canonical CpG Island: Shores - 0-2 kb from CpG island; Shelves - 2-4 kb from CpG island.\"}, {\"type\": \"STRING\", \"name\": \"SourceSeq\", \"description\": \"Unconverted design sequence\"}, {\"type\": \"STRING\", \"name\": \"Strand\", \"description\": \"Design strand\"}, {\"type\": \"STRING\", \"name\": \"UCSC_CpG_Islands_Name\", \"description\": \"CpG island name (UCSC)\"}, {\"fields\": [{\"type\": \"STRING\", \"name\": \"RefGene_Group\", \"description\": \"Gene region feature category (UCSC)\"}, {\"type\": \"STRING\", \"name\": \"RefGene_Accession\", \"description\": \"Accession number (UCSC)\"}, {\"type\": \"STRING\", \"name\": \"RefGene_Name\", \"description\": \"Gene name (UCSC)\"}], \"description\": \"UCSC\", \"type\": \"RECORD\", \"name\": \"UCSC\", \"mode\": \"REPEATED\"}]);\n",
       "        }\n",
       "      );\n",
       "    </script>\n",
       "    "
      ],
      "text/plain": [
       "<IPython.core.display.HTML object>"
      ]
     },
     "execution_count": 6,
     "metadata": {},
     "output_type": "execute_result"
    }
   ],
   "source": [
    "%bigquery schema --table $methAnnot"
   ]
  },
  {
   "cell_type": "markdown",
   "metadata": {},
   "source": [
    "Given the coordinates for a gene of interest, we can find the associated methylation probes."
   ]
  },
  {
   "cell_type": "code",
   "execution_count": 7,
   "metadata": {
    "collapsed": true
   },
   "outputs": [],
   "source": [
    "%%sql --module getGeneProbes\n",
    "\n",
    "SELECT\n",
    "  IlmnID, Methyl27_Loci, CHR, MAPINFO\n",
    "FROM\n",
    "  $t\n",
    "WHERE\n",
    "  ( CHR=$geneChr\n",
    "    AND ( MAPINFO>$geneStart AND MAPINFO<$geneStop ) )\n",
    "ORDER BY\n",
    "  Methyl27_Loci DESC, \n",
    "  MAPINFO ASC"
   ]
  },
  {
   "cell_type": "code",
   "execution_count": 8,
   "metadata": {
    "collapsed": true
   },
   "outputs": [],
   "source": [
    "# MLH1 gene coordinates (+/- 2500 bp)\n",
    "geneChr = \"3\"\n",
    "geneStart = 37034841 - 2500\n",
    "geneStop  = 37092337 + 2500\n",
    "mlh1Probes = bq.Query(getGeneProbes,t=methAnnot,geneChr=geneChr,geneStart=geneStart,geneStop=geneStop).results()"
   ]
  },
  {
   "cell_type": "markdown",
   "metadata": {},
   "source": [
    "There are a total of 50 methlyation probes in and near the MLH1 gene, although only 6 of them are on both the 27k and the 450k versions of the platform."
   ]
  },
  {
   "cell_type": "code",
   "execution_count": 9,
   "metadata": {
    "collapsed": false
   },
   "outputs": [
    {
     "data": {
      "text/html": [
       "\n",
       "    <div class=\"bqtv\" id=\"3_146379211045\"><table><tr><th>IlmnID</th><th>Methyl27_Loci</th><th>CHR</th><th>MAPINFO</th></tr><tr><td>cg24607398</td><td>TRUE</td><td>3</td><td>37033625</td></tr><tr><td>cg10990993</td><td>TRUE</td><td>3</td><td>37033632</td></tr><tr><td>cg18320188</td><td>TRUE</td><td>3</td><td>37033980</td></tr><tr><td>cg02279071</td><td>TRUE</td><td>3</td><td>37034154</td></tr><tr><td>cg00893636</td><td>TRUE</td><td>3</td><td>37034840</td></tr><tr><td>cg13846866</td><td>TRUE</td><td>3</td><td>37035399</td></tr><tr><td>cg02103401</td><td>FALSE</td><td>3</td><td>37033373</td></tr><tr><td>cg04726821</td><td>FALSE</td><td>3</td><td>37033791</td></tr><tr><td>cg11291081</td><td>FALSE</td><td>3</td><td>37033894</td></tr><tr><td>cg05670953</td><td>FALSE</td><td>3</td><td>37033903</td></tr><tr><td>cg04841293</td><td>FALSE</td><td>3</td><td>37034028</td></tr><tr><td>cg05845319</td><td>FALSE</td><td>3</td><td>37034066</td></tr><tr><td>cg21109167</td><td>FALSE</td><td>3</td><td>37034084</td></tr><tr><td>cg03901257</td><td>FALSE</td><td>3</td><td>37034142</td></tr><tr><td>cg14751544</td><td>FALSE</td><td>3</td><td>37034166</td></tr><tr><td>cg16764580</td><td>FALSE</td><td>3</td><td>37034346</td></tr><tr><td>cg01302270</td><td>FALSE</td><td>3</td><td>37034441</td></tr><tr><td>cg17641046</td><td>FALSE</td><td>3</td><td>37034473</td></tr><tr><td>cg07101782</td><td>FALSE</td><td>3</td><td>37034495</td></tr><tr><td>cg03497419</td><td>FALSE</td><td>3</td><td>37034654</td></tr><tr><td>cg27586588</td><td>FALSE</td><td>3</td><td>37034661</td></tr><tr><td>cg16433211</td><td>FALSE</td><td>3</td><td>37034693</td></tr><tr><td>cg10769891</td><td>FALSE</td><td>3</td><td>37034730</td></tr><tr><td>cg19132762</td><td>FALSE</td><td>3</td><td>37034739</td></tr><tr><td>cg23658326</td><td>FALSE</td><td>3</td><td>37034787</td></tr></table></div>\n",
       "    <br />(rows: 51, time: 1.0s,    14MB processed, job: job_t9WVdIqdgFTyEQXShwoGtziFcjQ)<br />\n",
       "    <script>\n",
       "      require(['extensions/charting', 'element!3_146379211045', 'style!/static/extensions/charting.css'],\n",
       "        function(charts, dom) {\n",
       "          charts.render(dom,\n",
       "            {\n",
       "              chartStyle:\"paged_table\",\n",
       "              dataName:\"0\",\n",
       "              fields:\"IlmnID,Methyl27_Loci,CHR,MAPINFO\",\n",
       "              totalRows:51,\n",
       "              rowsPerPage:25,\n",
       "            }, {}, {\"rows\": [{\"c\": [{\"v\": \"cg24607398\"}, {\"v\": \"TRUE\"}, {\"v\": \"3\"}, {\"v\": 37033625}]}, {\"c\": [{\"v\": \"cg10990993\"}, {\"v\": \"TRUE\"}, {\"v\": \"3\"}, {\"v\": 37033632}]}, {\"c\": [{\"v\": \"cg18320188\"}, {\"v\": \"TRUE\"}, {\"v\": \"3\"}, {\"v\": 37033980}]}, {\"c\": [{\"v\": \"cg02279071\"}, {\"v\": \"TRUE\"}, {\"v\": \"3\"}, {\"v\": 37034154}]}, {\"c\": [{\"v\": \"cg00893636\"}, {\"v\": \"TRUE\"}, {\"v\": \"3\"}, {\"v\": 37034840}]}, {\"c\": [{\"v\": \"cg13846866\"}, {\"v\": \"TRUE\"}, {\"v\": \"3\"}, {\"v\": 37035399}]}, {\"c\": [{\"v\": \"cg02103401\"}, {\"v\": \"FALSE\"}, {\"v\": \"3\"}, {\"v\": 37033373}]}, {\"c\": [{\"v\": \"cg04726821\"}, {\"v\": \"FALSE\"}, {\"v\": \"3\"}, {\"v\": 37033791}]}, {\"c\": [{\"v\": \"cg11291081\"}, {\"v\": \"FALSE\"}, {\"v\": \"3\"}, {\"v\": 37033894}]}, {\"c\": [{\"v\": \"cg05670953\"}, {\"v\": \"FALSE\"}, {\"v\": \"3\"}, {\"v\": 37033903}]}, {\"c\": [{\"v\": \"cg04841293\"}, {\"v\": \"FALSE\"}, {\"v\": \"3\"}, {\"v\": 37034028}]}, {\"c\": [{\"v\": \"cg05845319\"}, {\"v\": \"FALSE\"}, {\"v\": \"3\"}, {\"v\": 37034066}]}, {\"c\": [{\"v\": \"cg21109167\"}, {\"v\": \"FALSE\"}, {\"v\": \"3\"}, {\"v\": 37034084}]}, {\"c\": [{\"v\": \"cg03901257\"}, {\"v\": \"FALSE\"}, {\"v\": \"3\"}, {\"v\": 37034142}]}, {\"c\": [{\"v\": \"cg14751544\"}, {\"v\": \"FALSE\"}, {\"v\": \"3\"}, {\"v\": 37034166}]}, {\"c\": [{\"v\": \"cg16764580\"}, {\"v\": \"FALSE\"}, {\"v\": \"3\"}, {\"v\": 37034346}]}, {\"c\": [{\"v\": \"cg01302270\"}, {\"v\": \"FALSE\"}, {\"v\": \"3\"}, {\"v\": 37034441}]}, {\"c\": [{\"v\": \"cg17641046\"}, {\"v\": \"FALSE\"}, {\"v\": \"3\"}, {\"v\": 37034473}]}, {\"c\": [{\"v\": \"cg07101782\"}, {\"v\": \"FALSE\"}, {\"v\": \"3\"}, {\"v\": 37034495}]}, {\"c\": [{\"v\": \"cg03497419\"}, {\"v\": \"FALSE\"}, {\"v\": \"3\"}, {\"v\": 37034654}]}, {\"c\": [{\"v\": \"cg27586588\"}, {\"v\": \"FALSE\"}, {\"v\": \"3\"}, {\"v\": 37034661}]}, {\"c\": [{\"v\": \"cg16433211\"}, {\"v\": \"FALSE\"}, {\"v\": \"3\"}, {\"v\": 37034693}]}, {\"c\": [{\"v\": \"cg10769891\"}, {\"v\": \"FALSE\"}, {\"v\": \"3\"}, {\"v\": 37034730}]}, {\"c\": [{\"v\": \"cg19132762\"}, {\"v\": \"FALSE\"}, {\"v\": \"3\"}, {\"v\": 37034739}]}, {\"c\": [{\"v\": \"cg23658326\"}, {\"v\": \"FALSE\"}, {\"v\": \"3\"}, {\"v\": 37034787}]}], \"cols\": [{\"type\": \"string\", \"id\": \"IlmnID\", \"label\": \"IlmnID\"}, {\"type\": \"string\", \"id\": \"Methyl27_Loci\", \"label\": \"Methyl27_Loci\"}, {\"type\": \"string\", \"id\": \"CHR\", \"label\": \"CHR\"}, {\"type\": \"number\", \"id\": \"MAPINFO\", \"label\": \"MAPINFO\"}]});\n",
       "        }\n",
       "      );\n",
       "    </script>\n",
       "  "
      ],
      "text/plain": [
       "QueryResultsTable job_t9WVdIqdgFTyEQXShwoGtziFcjQ"
      ]
     },
     "execution_count": 9,
     "metadata": {},
     "output_type": "execute_result"
    }
   ],
   "source": [
    "mlh1Probes"
   ]
  },
  {
   "cell_type": "markdown",
   "metadata": {},
   "source": [
    "We can now use this list of CpG probes as a filter on the data table to extract all of the methylation data across all tumor types for MLH1:"
   ]
  },
  {
   "cell_type": "code",
   "execution_count": 10,
   "metadata": {
    "collapsed": false
   },
   "outputs": [],
   "source": [
    "%%sql --module getMLH1methStats\n",
    "\n",
    "SELECT \n",
    "  cpg.IlmnID AS Probe_Id,\n",
    "  cpg.Methyl27_Loci AS Methyl27_Loci,\n",
    "  cpg.CHR AS Chr,\n",
    "  cpg.MAPINFO AS Position,\n",
    "  data.beta_stdev AS beta_stdev,\n",
    "  data.beta_mean AS beta_mean,\n",
    "  data.beta_min AS beta_min,\n",
    "  data.beta_max AS beta_max\n",
    "FROM (\n",
    "  SELECT *\n",
    "  FROM $mlh1Probes \n",
    ") AS cpg\n",
    "JOIN (\n",
    "  SELECT \n",
    "    Probe_Id,\n",
    "    STDDEV(beta_value) beta_stdev,\n",
    "    AVG(beta_value) beta_mean,\n",
    "    MIN(beta_value) beta_min,\n",
    "    MAX(beta_value) beta_max\n",
    "    FROM $meth_BQtable\n",
    "    WHERE ( SampleTypeLetterCode=$sampleType )\n",
    "    GROUP BY Probe_Id\n",
    ") AS data\n",
    "ON \n",
    "  cpg.IlmnID = data.Probe_Id\n",
    "ORDER BY\n",
    "  Position ASC"
   ]
  },
  {
   "cell_type": "code",
   "execution_count": 11,
   "metadata": {
    "collapsed": false
   },
   "outputs": [
    {
     "data": {
      "text/html": [
       "<div>\n",
       "<table border=\"1\" class=\"dataframe\">\n",
       "  <thead>\n",
       "    <tr style=\"text-align: right;\">\n",
       "      <th></th>\n",
       "      <th>Position</th>\n",
       "      <th>beta_stdev</th>\n",
       "      <th>beta_mean</th>\n",
       "      <th>beta_min</th>\n",
       "      <th>beta_max</th>\n",
       "    </tr>\n",
       "  </thead>\n",
       "  <tbody>\n",
       "    <tr>\n",
       "      <th>count</th>\n",
       "      <td>4.700000e+01</td>\n",
       "      <td>47.000000</td>\n",
       "      <td>47.000000</td>\n",
       "      <td>47.00000</td>\n",
       "      <td>47.00000</td>\n",
       "    </tr>\n",
       "    <tr>\n",
       "      <th>mean</th>\n",
       "      <td>3.703835e+07</td>\n",
       "      <td>0.116821</td>\n",
       "      <td>0.162631</td>\n",
       "      <td>0.02617</td>\n",
       "      <td>0.92766</td>\n",
       "    </tr>\n",
       "    <tr>\n",
       "      <th>std</th>\n",
       "      <td>1.290713e+04</td>\n",
       "      <td>0.054475</td>\n",
       "      <td>0.252902</td>\n",
       "      <td>0.04897</td>\n",
       "      <td>0.04478</td>\n",
       "    </tr>\n",
       "    <tr>\n",
       "      <th>min</th>\n",
       "      <td>3.703337e+07</td>\n",
       "      <td>0.042269</td>\n",
       "      <td>0.021503</td>\n",
       "      <td>0.00000</td>\n",
       "      <td>0.76000</td>\n",
       "    </tr>\n",
       "    <tr>\n",
       "      <th>25%</th>\n",
       "      <td>3.703416e+07</td>\n",
       "      <td>0.087500</td>\n",
       "      <td>0.039817</td>\n",
       "      <td>0.01000</td>\n",
       "      <td>0.91000</td>\n",
       "    </tr>\n",
       "    <tr>\n",
       "      <th>50%</th>\n",
       "      <td>3.703482e+07</td>\n",
       "      <td>0.096954</td>\n",
       "      <td>0.058256</td>\n",
       "      <td>0.01000</td>\n",
       "      <td>0.94000</td>\n",
       "    </tr>\n",
       "    <tr>\n",
       "      <th>75%</th>\n",
       "      <td>3.703521e+07</td>\n",
       "      <td>0.127428</td>\n",
       "      <td>0.138307</td>\n",
       "      <td>0.02000</td>\n",
       "      <td>0.96000</td>\n",
       "    </tr>\n",
       "    <tr>\n",
       "      <th>max</th>\n",
       "      <td>3.709219e+07</td>\n",
       "      <td>0.265505</td>\n",
       "      <td>0.937792</td>\n",
       "      <td>0.20000</td>\n",
       "      <td>1.00000</td>\n",
       "    </tr>\n",
       "  </tbody>\n",
       "</table>\n",
       "</div>"
      ],
      "text/plain": [
       "           Position  beta_stdev  beta_mean  beta_min  beta_max\n",
       "count  4.700000e+01   47.000000  47.000000  47.00000  47.00000\n",
       "mean   3.703835e+07    0.116821   0.162631   0.02617   0.92766\n",
       "std    1.290713e+04    0.054475   0.252902   0.04897   0.04478\n",
       "min    3.703337e+07    0.042269   0.021503   0.00000   0.76000\n",
       "25%    3.703416e+07    0.087500   0.039817   0.01000   0.91000\n",
       "50%    3.703482e+07    0.096954   0.058256   0.01000   0.94000\n",
       "75%    3.703521e+07    0.127428   0.138307   0.02000   0.96000\n",
       "max    3.709219e+07    0.265505   0.937792   0.20000   1.00000"
      ]
     },
     "execution_count": 11,
     "metadata": {},
     "output_type": "execute_result"
    }
   ],
   "source": [
    "qTP = bq.Query(getMLH1methStats,mlh1Probes=mlh1Probes,meth_BQtable=meth_BQtable,sampleType=\"TP\")\n",
    "rTP = qTP.results().to_dataframe()\n",
    "rTP.describe()"
   ]
  },
  {
   "cell_type": "code",
   "execution_count": 12,
   "metadata": {
    "collapsed": false
   },
   "outputs": [
    {
     "data": {
      "text/html": [
       "<div>\n",
       "<table border=\"1\" class=\"dataframe\">\n",
       "  <thead>\n",
       "    <tr style=\"text-align: right;\">\n",
       "      <th></th>\n",
       "      <th>Position</th>\n",
       "      <th>beta_stdev</th>\n",
       "      <th>beta_mean</th>\n",
       "      <th>beta_min</th>\n",
       "      <th>beta_max</th>\n",
       "    </tr>\n",
       "  </thead>\n",
       "  <tbody>\n",
       "    <tr>\n",
       "      <th>count</th>\n",
       "      <td>4.700000e+01</td>\n",
       "      <td>47.000000</td>\n",
       "      <td>47.000000</td>\n",
       "      <td>47.000000</td>\n",
       "      <td>47.000000</td>\n",
       "    </tr>\n",
       "    <tr>\n",
       "      <th>mean</th>\n",
       "      <td>3.703835e+07</td>\n",
       "      <td>0.041195</td>\n",
       "      <td>0.141036</td>\n",
       "      <td>0.080426</td>\n",
       "      <td>0.406170</td>\n",
       "    </tr>\n",
       "    <tr>\n",
       "      <th>std</th>\n",
       "      <td>1.290713e+04</td>\n",
       "      <td>0.049158</td>\n",
       "      <td>0.257328</td>\n",
       "      <td>0.204939</td>\n",
       "      <td>0.305048</td>\n",
       "    </tr>\n",
       "    <tr>\n",
       "      <th>min</th>\n",
       "      <td>3.703337e+07</td>\n",
       "      <td>0.004846</td>\n",
       "      <td>0.011066</td>\n",
       "      <td>0.000000</td>\n",
       "      <td>0.060000</td>\n",
       "    </tr>\n",
       "    <tr>\n",
       "      <th>25%</th>\n",
       "      <td>3.703416e+07</td>\n",
       "      <td>0.012186</td>\n",
       "      <td>0.022814</td>\n",
       "      <td>0.010000</td>\n",
       "      <td>0.180000</td>\n",
       "    </tr>\n",
       "    <tr>\n",
       "      <th>50%</th>\n",
       "      <td>3.703482e+07</td>\n",
       "      <td>0.018248</td>\n",
       "      <td>0.037923</td>\n",
       "      <td>0.010000</td>\n",
       "      <td>0.230000</td>\n",
       "    </tr>\n",
       "    <tr>\n",
       "      <th>75%</th>\n",
       "      <td>3.703521e+07</td>\n",
       "      <td>0.031752</td>\n",
       "      <td>0.098183</td>\n",
       "      <td>0.030000</td>\n",
       "      <td>0.665000</td>\n",
       "    </tr>\n",
       "    <tr>\n",
       "      <th>max</th>\n",
       "      <td>3.709219e+07</td>\n",
       "      <td>0.177093</td>\n",
       "      <td>0.947664</td>\n",
       "      <td>0.860000</td>\n",
       "      <td>0.970000</td>\n",
       "    </tr>\n",
       "  </tbody>\n",
       "</table>\n",
       "</div>"
      ],
      "text/plain": [
       "           Position  beta_stdev  beta_mean   beta_min   beta_max\n",
       "count  4.700000e+01   47.000000  47.000000  47.000000  47.000000\n",
       "mean   3.703835e+07    0.041195   0.141036   0.080426   0.406170\n",
       "std    1.290713e+04    0.049158   0.257328   0.204939   0.305048\n",
       "min    3.703337e+07    0.004846   0.011066   0.000000   0.060000\n",
       "25%    3.703416e+07    0.012186   0.022814   0.010000   0.180000\n",
       "50%    3.703482e+07    0.018248   0.037923   0.010000   0.230000\n",
       "75%    3.703521e+07    0.031752   0.098183   0.030000   0.665000\n",
       "max    3.709219e+07    0.177093   0.947664   0.860000   0.970000"
      ]
     },
     "execution_count": 12,
     "metadata": {},
     "output_type": "execute_result"
    }
   ],
   "source": [
    "qNT = bq.Query(getMLH1methStats,mlh1Probes=mlh1Probes,meth_BQtable=meth_BQtable,sampleType=\"NT\")\n",
    "rNT = qNT.results().to_dataframe()\n",
    "rNT.describe()"
   ]
  },
  {
   "cell_type": "code",
   "execution_count": 13,
   "metadata": {
    "collapsed": true
   },
   "outputs": [],
   "source": [
    "import numpy as np\n",
    "import matplotlib.pyplot as plt"
   ]
  },
  {
   "cell_type": "code",
   "execution_count": 14,
   "metadata": {
    "collapsed": false
   },
   "outputs": [
    {
     "data": {
      "image/png": "[encoded data removed]",
      "text/plain": [
       "<matplotlib.figure.Figure at 0x7fa169dcfed0>"
      ]
     },
     "metadata": {},
     "output_type": "display_data"
    }
   ],
   "source": [
    "bins=range(1,len(rTP)+1)\n",
    "#print bins\n",
    "plt.bar(bins,rTP['beta_mean'],color='red',alpha=0.8,label='Primary Tumor');\n",
    "plt.bar(bins,rNT['beta_mean'],color='blue',alpha=0.4,label='Normal Tissue');\n",
    "plt.legend(loc='upper left');\n",
    "plt.title('MLH1 DNA methylation: average');"
   ]
  },
  {
   "cell_type": "code",
   "execution_count": 15,
   "metadata": {
    "collapsed": false
   },
   "outputs": [
    {
     "data": {
      "image/png": "[encoded data removed]",
      "text/plain": [
       "<matplotlib.figure.Figure at 0x7fa16957d3d0>"
      ]
     },
     "metadata": {},
     "output_type": "display_data"
    }
   ],
   "source": [
    "plt.bar(bins,rTP['beta_stdev'],color='red',alpha=0.8,label='Primary Tumor');\n",
    "plt.bar(bins,rNT['beta_stdev'],color='blue',alpha=0.4,label='Normal Tissue');\n",
    "plt.legend(loc='upper right');\n",
    "plt.title('MLH1 DNA methylation: standard deviation');"
   ]
  },
  {
   "cell_type": "markdown",
   "metadata": {},
   "source": [
    "From the figures above, we can see that, with the exception of the CpG probes near the 3' end of MLH1, the primary tumor samples have a slightly higher average methylation, with significantly greater variability."
   ]
  }
 ],
 "metadata": {
  "kernelspec": {
   "display_name": "Python 2",
   "language": "python",
   "name": "python2"
  },
  "language_info": {
   "codemirror_mode": {
    "name": "ipython",
    "version": 2
   },
   "file_extension": ".py",
   "mimetype": "text/x-python",
   "name": "python",
   "nbconvert_exporter": "python",
   "pygments_lexer": "ipython2",
   "version": "2.7.9"
  }
 },
 "nbformat": 4,
 "nbformat_minor": 0
}
