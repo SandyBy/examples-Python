{
 "cells": [
  {
   "cell_type": "markdown",
   "metadata": {},
   "source": [
    "# Somatic Mutations\n",
    "\n",
    "The goal of this notebook is to introduce you to the Somatic Mutations BigQuery table.\n",
    "\n",
    "This table is based on the open-access somatic mutation calls available in [MAF files](https://wiki.nci.nih.gov/display/TCGA/TCGA+MAF+Files) at the DCC.  In addition to uploading all current MAF files from the DCC, the mutations were also annotated using [Oncotator](https://www.broadinstitute.org/cancer/cga/oncotator).  A subset of the columns in the underlying MAF files and a subset of the Oncotator outputs were then assembled in this table.  \n",
    "\n",
    "In addition, the ETL process includes several data-cleaning steps because many tumor types actually have multiple current MAF files and therefore potentially duplicate mutation calls.  In some cases, a tumor sample may have had mutations called relative to both a blood-normal and an adjacent-tissue sample, and in other cases MAF files may contain mutations called on more than one aliquot from the same sample.  Every effort was made to include all of the available data at the DCC while avoiding having multiple rows in the mutation table describing the same somatic mutation.  Note, however, that if the *same* mutation was called by *multiple* centers and appeared in different MAF files, it may be described on muliple rows (as you will see later in this notebook).  Furthermore, in some cases, the underlying MAF file may have been based on a multi-center mutationa-calling exercise, in which case you may see a list of centers in the `Center` field, *eg* \"bcgsc.ca;broad.mit.edu;hgsc.bcm.edu;mdanderson.org;ucsc.edu\". \n",
    "\n",
    "In conclusion, if you are counting up the number of mutations observed in a sample or a patient or a tumor-type, be sure to include the necessary GROUP BY clause(s) in order to avoid double-counting!\n",
    "\n",
    "As usual, in order to work with BigQuery, you need to import the bigquery module (gcp.bigquery) and you need to know the name(s) of the table(s) you are going to be working with:"
   ]
  },
  {
   "cell_type": "code",
   "execution_count": 1,
   "metadata": {
    "collapsed": true
   },
   "outputs": [],
   "source": [
    "import gcp.bigquery as bq\n",
    "somatic_mutations_BQtable = bq.Table('isb-cgc:tcga_201607_beta.Somatic_Mutation_calls')"
   ]
  },
  {
   "cell_type": "markdown",
   "metadata": {},
   "source": [
    "Let's start by taking a look at the table schema:"
   ]
  },
  {
   "cell_type": "code",
   "execution_count": 2,
   "metadata": {
    "collapsed": false
   },
   "outputs": [
    {
     "data": {
      "text/html": [
       "\n",
       "    <div class=\"bqsv\" id=\"1_146982885528\"></div>\n",
       "    <script>\n",
       "      require(['extensions/bigquery', 'element!1_146982885528', 'style!/static/extensions/bigquery.css'],\n",
       "        function(bq, dom) {\n",
       "          bq.renderSchema(dom, [{\"type\": \"STRING\", \"name\": \"ParticipantBarcode\"}, {\"type\": \"STRING\", \"name\": \"Tumor_SampleBarcode\"}, {\"type\": \"STRING\", \"name\": \"Tumor_AliquotBarcode\"}, {\"type\": \"STRING\", \"name\": \"Tumor_SampleTypeLetterCode\"}, {\"type\": \"STRING\", \"name\": \"Normal_SampleBarcode\"}, {\"type\": \"STRING\", \"name\": \"Normal_AliquotBarcode\"}, {\"type\": \"STRING\", \"name\": \"Normal_SampleTypeLetterCode\"}, {\"type\": \"STRING\", \"name\": \"Study\"}, {\"type\": \"STRING\", \"name\": \"Annotation_Transcript\"}, {\"type\": \"INTEGER\", \"name\": \"CCLE_ONCOMAP_Total_Mutations_In_Gene\"}, {\"type\": \"INTEGER\", \"name\": \"COSMIC_Total_Alterations_In_Gene\"}, {\"type\": \"STRING\", \"name\": \"Center\"}, {\"type\": \"STRING\", \"name\": \"Chromosome\"}, {\"type\": \"STRING\", \"name\": \"DNARepairGenes_Role\"}, {\"type\": \"STRING\", \"name\": \"DbSNP_RS\"}, {\"type\": \"STRING\", \"name\": \"DbSNP_Val_Status\"}, {\"type\": \"STRING\", \"name\": \"DrugBank\"}, {\"type\": \"INTEGER\", \"name\": \"End_Position\"}, {\"type\": \"INTEGER\", \"name\": \"Entrez_Gene_Id\"}, {\"type\": \"FLOAT\", \"name\": \"GC_Content\"}, {\"type\": \"STRING\", \"name\": \"GENCODE_Transcript_Name\"}, {\"type\": \"STRING\", \"name\": \"GENCODE_Transcript_Status\"}, {\"type\": \"STRING\", \"name\": \"GENCODE_Transcript_Type\"}, {\"type\": \"STRING\", \"name\": \"GO_Biological_Process\"}, {\"type\": \"STRING\", \"name\": \"GO_Cellular_Component\"}, {\"type\": \"STRING\", \"name\": \"GO_Molecular_Function\"}, {\"type\": \"STRING\", \"name\": \"Gene_Type\"}, {\"type\": \"STRING\", \"name\": \"Genome_Change\"}, {\"type\": \"STRING\", \"name\": \"HGNC_Accession_Numbers\"}, {\"type\": \"STRING\", \"name\": \"HGNC_CCDS_IDs\"}, {\"type\": \"STRING\", \"name\": \"HGNC_Ensembl_ID_Supplied_By_Ensembl\"}, {\"type\": \"INTEGER\", \"name\": \"HGNC_HGNC_ID\"}, {\"type\": \"STRING\", \"name\": \"HGNC_Locus_Group\"}, {\"type\": \"STRING\", \"name\": \"HGNC_Locus_Type\"}, {\"type\": \"STRING\", \"name\": \"HGNC_OMIM_ID_Supplied_By_NCBI\"}, {\"type\": \"STRING\", \"name\": \"HGNC_RefSeq_Supplied_By_NCBI\"}, {\"type\": \"STRING\", \"name\": \"HGNC_UCSC_ID_Supplied_By_UCSC\"}, {\"type\": \"STRING\", \"name\": \"HGNC_UniProt_ID_Supplied_By_UniProt\"}, {\"type\": \"STRING\", \"name\": \"Hugo_Symbol\"}, {\"type\": \"STRING\", \"name\": \"Mutation_Status\"}, {\"type\": \"STRING\", \"name\": \"NCBI_Build\"}, {\"type\": \"STRING\", \"name\": \"Normal_Seq_Allele1\"}, {\"type\": \"STRING\", \"name\": \"Normal_Seq_Allele2\"}, {\"type\": \"STRING\", \"name\": \"Normal_Validation_Allele1\"}, {\"type\": \"STRING\", \"name\": \"Normal_Validation_Allele2\"}, {\"type\": \"STRING\", \"name\": \"OREGANNO_ID\"}, {\"type\": \"STRING\", \"name\": \"Protein_Change\"}, {\"type\": \"STRING\", \"name\": \"Ref_Context\"}, {\"type\": \"STRING\", \"name\": \"Reference_Allele\"}, {\"type\": \"STRING\", \"name\": \"Refseq_Prot_Id\"}, {\"type\": \"STRING\", \"name\": \"Secondary_Variant_Classification\"}, {\"type\": \"STRING\", \"name\": \"Sequence_Source\"}, {\"type\": \"STRING\", \"name\": \"Sequencer\"}, {\"type\": \"INTEGER\", \"name\": \"Start_Position\"}, {\"type\": \"STRING\", \"name\": \"SwissProt_Acc_Id\"}, {\"type\": \"STRING\", \"name\": \"SwissProt_Entry_Id\"}, {\"type\": \"INTEGER\", \"name\": \"Transcript_Exon\"}, {\"type\": \"STRING\", \"name\": \"Transcript_Position\"}, {\"type\": \"STRING\", \"name\": \"Transcript_Strand\"}, {\"type\": \"STRING\", \"name\": \"Tumor_Seq_Allele1\"}, {\"type\": \"STRING\", \"name\": \"Tumor_Seq_Allele2\"}, {\"type\": \"STRING\", \"name\": \"Tumor_Validation_Allele1\"}, {\"type\": \"STRING\", \"name\": \"Tumor_Validation_Allele2\"}, {\"type\": \"INTEGER\", \"name\": \"UniProt_AApos\"}, {\"type\": \"STRING\", \"name\": \"UniProt_Region\"}, {\"type\": \"STRING\", \"name\": \"Validation_Method\"}, {\"type\": \"STRING\", \"name\": \"Variant_Classification\"}, {\"type\": \"STRING\", \"name\": \"Variant_Type\"}, {\"type\": \"STRING\", \"name\": \"cDNA_Change\"}]);\n",
       "        }\n",
       "      );\n",
       "    </script>\n",
       "    "
      ],
      "text/plain": [
       "<IPython.core.display.HTML object>"
      ]
     },
     "execution_count": 2,
     "metadata": {},
     "output_type": "execute_result"
    }
   ],
   "source": [
    "%bigquery schema --table $somatic_mutations_BQtable"
   ]
  },
  {
   "cell_type": "markdown",
   "metadata": {},
   "source": [
    "That's a lot of fields!  Let's dig in a bit further to see what is included in this table.  For example let's count up the number of unique patients, tumor-samples, and normal-samples based on barcode identifiers:"
   ]
  },
  {
   "cell_type": "code",
   "execution_count": 3,
   "metadata": {
    "collapsed": true
   },
   "outputs": [],
   "source": [
    "%%sql --module count_unique\n",
    "\n",
    "SELECT COUNT(DISTINCT $f,25000) AS n\n",
    "FROM $t"
   ]
  },
  {
   "cell_type": "code",
   "execution_count": 4,
   "metadata": {
    "collapsed": false
   },
   "outputs": [
    {
     "name": "stdout",
     "output_type": "stream",
     "text": [
      " There are  10581 unique values in the field ParticipantBarcode. \n",
      " There are  10698 unique values in the field Tumor_SampleBarcode. \n",
      " There are  10581 unique values in the field Normal_SampleBarcode. \n"
     ]
    }
   ],
   "source": [
    "fieldList = ['ParticipantBarcode', 'Tumor_SampleBarcode', 'Normal_SampleBarcode' ]\n",
    "for aField in fieldList:\n",
    "  field = somatic_mutations_BQtable.schema[aField]\n",
    "  rdf = bq.Query(count_unique,t=somatic_mutations_BQtable,f=field).to_dataframe()\n",
    "  print \" There are %6d unique values in the field %s. \" % ( rdf.iloc[0]['n'], aField)"
   ]
  },
  {
   "cell_type": "markdown",
   "metadata": {},
   "source": [
    "Now let's look at a few key fields and find the top-5 most frequent values in each field:"
   ]
  },
  {
   "cell_type": "code",
   "execution_count": 5,
   "metadata": {
    "collapsed": true
   },
   "outputs": [],
   "source": [
    "%%sql --module top_5_values\n",
    "\n",
    "SELECT $f, COUNT(*) AS n\n",
    "FROM $t\n",
    "WHERE ( $f IS NOT NULL )\n",
    "GROUP BY $f\n",
    "ORDER BY n DESC\n",
    "LIMIT 5"
   ]
  },
  {
   "cell_type": "markdown",
   "metadata": {},
   "source": [
    "You can use the parameterized query defined above to find the top-5 most frequently occurring values for any field of interest, for example:"
   ]
  },
  {
   "cell_type": "code",
   "execution_count": 6,
   "metadata": {
    "collapsed": false
   },
   "outputs": [
    {
     "data": {
      "text/html": [
       "<div>\n",
       "<table border=\"1\" class=\"dataframe\">\n",
       "  <thead>\n",
       "    <tr style=\"text-align: right;\">\n",
       "      <th></th>\n",
       "      <th>Hugo_Symbol</th>\n",
       "      <th>n</th>\n",
       "    </tr>\n",
       "  </thead>\n",
       "  <tbody>\n",
       "    <tr>\n",
       "      <th>0</th>\n",
       "      <td>Unknown</td>\n",
       "      <td>63962</td>\n",
       "    </tr>\n",
       "    <tr>\n",
       "      <th>1</th>\n",
       "      <td>TTN</td>\n",
       "      <td>20183</td>\n",
       "    </tr>\n",
       "    <tr>\n",
       "      <th>2</th>\n",
       "      <td>MUC16</td>\n",
       "      <td>11742</td>\n",
       "    </tr>\n",
       "    <tr>\n",
       "      <th>3</th>\n",
       "      <td>FLG</td>\n",
       "      <td>11039</td>\n",
       "    </tr>\n",
       "    <tr>\n",
       "      <th>4</th>\n",
       "      <td>OBSCN</td>\n",
       "      <td>6967</td>\n",
       "    </tr>\n",
       "  </tbody>\n",
       "</table>\n",
       "</div>"
      ],
      "text/plain": [
       "  Hugo_Symbol      n\n",
       "0     Unknown  63962\n",
       "1         TTN  20183\n",
       "2       MUC16  11742\n",
       "3         FLG  11039\n",
       "4       OBSCN   6967"
      ]
     },
     "execution_count": 6,
     "metadata": {},
     "output_type": "execute_result"
    }
   ],
   "source": [
    "bq.Query(top_5_values,t=somatic_mutations_BQtable,f=somatic_mutations_BQtable.schema['Hugo_Symbol']).results().to_dataframe()"
   ]
  },
  {
   "cell_type": "code",
   "execution_count": 7,
   "metadata": {
    "collapsed": false
   },
   "outputs": [
    {
     "data": {
      "text/html": [
       "<div>\n",
       "<table border=\"1\" class=\"dataframe\">\n",
       "  <thead>\n",
       "    <tr style=\"text-align: right;\">\n",
       "      <th></th>\n",
       "      <th>Center</th>\n",
       "      <th>n</th>\n",
       "    </tr>\n",
       "  </thead>\n",
       "  <tbody>\n",
       "    <tr>\n",
       "      <th>0</th>\n",
       "      <td>broad.mit.edu</td>\n",
       "      <td>3798074</td>\n",
       "    </tr>\n",
       "    <tr>\n",
       "      <th>1</th>\n",
       "      <td>broad.mit.edu;hgsc.bcm.edu</td>\n",
       "      <td>346100</td>\n",
       "    </tr>\n",
       "    <tr>\n",
       "      <th>2</th>\n",
       "      <td>broad.mit.edu;genome.wustl.edu</td>\n",
       "      <td>253889</td>\n",
       "    </tr>\n",
       "    <tr>\n",
       "      <th>3</th>\n",
       "      <td>bcgsc.ca</td>\n",
       "      <td>219239</td>\n",
       "    </tr>\n",
       "    <tr>\n",
       "      <th>4</th>\n",
       "      <td>bcgsc.ca;broad.mit.edu</td>\n",
       "      <td>218444</td>\n",
       "    </tr>\n",
       "  </tbody>\n",
       "</table>\n",
       "</div>"
      ],
      "text/plain": [
       "                           Center        n\n",
       "0                   broad.mit.edu  3798074\n",
       "1      broad.mit.edu;hgsc.bcm.edu   346100\n",
       "2  broad.mit.edu;genome.wustl.edu   253889\n",
       "3                        bcgsc.ca   219239\n",
       "4          bcgsc.ca;broad.mit.edu   218444"
      ]
     },
     "execution_count": 7,
     "metadata": {},
     "output_type": "execute_result"
    }
   ],
   "source": [
    "bq.Query(top_5_values,t=somatic_mutations_BQtable,f=somatic_mutations_BQtable.schema['Center']).results().to_dataframe()"
   ]
  },
  {
   "cell_type": "code",
   "execution_count": 8,
   "metadata": {
    "collapsed": false
   },
   "outputs": [
    {
     "data": {
      "text/html": [
       "<div>\n",
       "<table border=\"1\" class=\"dataframe\">\n",
       "  <thead>\n",
       "    <tr style=\"text-align: right;\">\n",
       "      <th></th>\n",
       "      <th>Mutation_Status</th>\n",
       "      <th>n</th>\n",
       "    </tr>\n",
       "  </thead>\n",
       "  <tbody>\n",
       "    <tr>\n",
       "      <th>0</th>\n",
       "      <td>Somatic</td>\n",
       "      <td>5355991</td>\n",
       "    </tr>\n",
       "  </tbody>\n",
       "</table>\n",
       "</div>"
      ],
      "text/plain": [
       "  Mutation_Status        n\n",
       "0         Somatic  5355991"
      ]
     },
     "execution_count": 8,
     "metadata": {},
     "output_type": "execute_result"
    }
   ],
   "source": [
    "bq.Query(top_5_values,t=somatic_mutations_BQtable,f=somatic_mutations_BQtable.schema['Mutation_Status']).results().to_dataframe()"
   ]
  },
  {
   "cell_type": "code",
   "execution_count": 9,
   "metadata": {
    "collapsed": false
   },
   "outputs": [
    {
     "data": {
      "text/html": [
       "<div>\n",
       "<table border=\"1\" class=\"dataframe\">\n",
       "  <thead>\n",
       "    <tr style=\"text-align: right;\">\n",
       "      <th></th>\n",
       "      <th>Protein_Change</th>\n",
       "      <th>n</th>\n",
       "    </tr>\n",
       "  </thead>\n",
       "  <tbody>\n",
       "    <tr>\n",
       "      <th>0</th>\n",
       "      <td>p.M1I</td>\n",
       "      <td>1679</td>\n",
       "    </tr>\n",
       "    <tr>\n",
       "      <th>1</th>\n",
       "      <td>p.V600E</td>\n",
       "      <td>588</td>\n",
       "    </tr>\n",
       "    <tr>\n",
       "      <th>2</th>\n",
       "      <td>p.R132H</td>\n",
       "      <td>533</td>\n",
       "    </tr>\n",
       "    <tr>\n",
       "      <th>3</th>\n",
       "      <td>p.M1V</td>\n",
       "      <td>463</td>\n",
       "    </tr>\n",
       "    <tr>\n",
       "      <th>4</th>\n",
       "      <td>p.Q269Q</td>\n",
       "      <td>398</td>\n",
       "    </tr>\n",
       "  </tbody>\n",
       "</table>\n",
       "</div>"
      ],
      "text/plain": [
       "  Protein_Change     n\n",
       "0          p.M1I  1679\n",
       "1        p.V600E   588\n",
       "2        p.R132H   533\n",
       "3          p.M1V   463\n",
       "4        p.Q269Q   398"
      ]
     },
     "execution_count": 9,
     "metadata": {},
     "output_type": "execute_result"
    }
   ],
   "source": [
    "bq.Query(top_5_values,t=somatic_mutations_BQtable,f=somatic_mutations_BQtable.schema['Protein_Change']).results().to_dataframe()"
   ]
  },
  {
   "cell_type": "markdown",
   "metadata": {},
   "source": [
    "Everyone probably recognizes the **V600E** mutation in the previous result, so let's use that well-known BRAF mutation as a way to explore what other information is available in this table."
   ]
  },
  {
   "cell_type": "code",
   "execution_count": 10,
   "metadata": {
    "collapsed": false
   },
   "outputs": [],
   "source": [
    "%%sql --module find_BRAF_V600E\n",
    "\n",
    "SELECT\n",
    "  Tumor_SampleBarcode,\n",
    "  Study,\n",
    "  Hugo_Symbol,\n",
    "  Genome_Change,\n",
    "  Protein_Change\n",
    "FROM\n",
    "  $t\n",
    "WHERE\n",
    "  ( Hugo_Symbol=\"BRAF\"\n",
    "    AND Protein_Change=\"p.V600E\" )\n",
    "GROUP BY\n",
    "  Tumor_SampleBarcode,\n",
    "  Study,\n",
    "  Hugo_Symbol,\n",
    "  Genome_Change,\n",
    "  Protein_Change\n",
    "ORDER BY\n",
    "  Study,\n",
    "  Tumor_SampleBarcode"
   ]
  },
  {
   "cell_type": "code",
   "execution_count": 11,
   "metadata": {
    "collapsed": false
   },
   "outputs": [
    {
     "data": {
      "text/html": [
       "<div>\n",
       "<table border=\"1\" class=\"dataframe\">\n",
       "  <thead>\n",
       "    <tr style=\"text-align: right;\">\n",
       "      <th></th>\n",
       "      <th>Tumor_SampleBarcode</th>\n",
       "      <th>Study</th>\n",
       "      <th>Hugo_Symbol</th>\n",
       "      <th>Genome_Change</th>\n",
       "      <th>Protein_Change</th>\n",
       "    </tr>\n",
       "  </thead>\n",
       "  <tbody>\n",
       "    <tr>\n",
       "      <th>0</th>\n",
       "      <td>TCGA-YF-AA3L-01A</td>\n",
       "      <td>BLCA</td>\n",
       "      <td>BRAF</td>\n",
       "      <td>g.chr7:140453136A&gt;T</td>\n",
       "      <td>p.V600E</td>\n",
       "    </tr>\n",
       "    <tr>\n",
       "      <th>1</th>\n",
       "      <td>TCGA-ZU-A8S4-01A</td>\n",
       "      <td>CHOL</td>\n",
       "      <td>BRAF</td>\n",
       "      <td>g.chr7:140453136A&gt;T</td>\n",
       "      <td>p.V600E</td>\n",
       "    </tr>\n",
       "    <tr>\n",
       "      <th>2</th>\n",
       "      <td>TCGA-A6-2686-01A</td>\n",
       "      <td>COAD</td>\n",
       "      <td>BRAF</td>\n",
       "      <td>g.chr7:140453136A&gt;T</td>\n",
       "      <td>p.V600E</td>\n",
       "    </tr>\n",
       "    <tr>\n",
       "      <th>3</th>\n",
       "      <td>TCGA-A6-3809-01A</td>\n",
       "      <td>COAD</td>\n",
       "      <td>BRAF</td>\n",
       "      <td>g.chr7:140453136A&gt;T</td>\n",
       "      <td>p.V600E</td>\n",
       "    </tr>\n",
       "    <tr>\n",
       "      <th>4</th>\n",
       "      <td>TCGA-A6-5661-01A</td>\n",
       "      <td>COAD</td>\n",
       "      <td>BRAF</td>\n",
       "      <td>g.chr7:140453136A&gt;T</td>\n",
       "      <td>p.V600E</td>\n",
       "    </tr>\n",
       "    <tr>\n",
       "      <th>5</th>\n",
       "      <td>TCGA-A6-5665-01A</td>\n",
       "      <td>COAD</td>\n",
       "      <td>BRAF</td>\n",
       "      <td>g.chr7:140453136A&gt;T</td>\n",
       "      <td>p.V600E</td>\n",
       "    </tr>\n",
       "    <tr>\n",
       "      <th>6</th>\n",
       "      <td>TCGA-A6-6649-01A</td>\n",
       "      <td>COAD</td>\n",
       "      <td>BRAF</td>\n",
       "      <td>g.chr7:140453136A&gt;T</td>\n",
       "      <td>p.V600E</td>\n",
       "    </tr>\n",
       "    <tr>\n",
       "      <th>7</th>\n",
       "      <td>TCGA-A6-6653-01A</td>\n",
       "      <td>COAD</td>\n",
       "      <td>BRAF</td>\n",
       "      <td>g.chr7:140453136A&gt;T</td>\n",
       "      <td>p.V600E</td>\n",
       "    </tr>\n",
       "    <tr>\n",
       "      <th>8</th>\n",
       "      <td>TCGA-AA-3492-01A</td>\n",
       "      <td>COAD</td>\n",
       "      <td>BRAF</td>\n",
       "      <td>g.chr7:140453136A&gt;T</td>\n",
       "      <td>p.V600E</td>\n",
       "    </tr>\n",
       "    <tr>\n",
       "      <th>9</th>\n",
       "      <td>TCGA-AA-3664-01A</td>\n",
       "      <td>COAD</td>\n",
       "      <td>BRAF</td>\n",
       "      <td>g.chr7:140453136A&gt;T</td>\n",
       "      <td>p.V600E</td>\n",
       "    </tr>\n",
       "    <tr>\n",
       "      <th>10</th>\n",
       "      <td>TCGA-AA-3684-01A</td>\n",
       "      <td>COAD</td>\n",
       "      <td>BRAF</td>\n",
       "      <td>g.chr7:140453136A&gt;T</td>\n",
       "      <td>p.V600E</td>\n",
       "    </tr>\n",
       "    <tr>\n",
       "      <th>11</th>\n",
       "      <td>TCGA-AA-3713-01A</td>\n",
       "      <td>COAD</td>\n",
       "      <td>BRAF</td>\n",
       "      <td>g.chr7:140453136A&gt;T</td>\n",
       "      <td>p.V600E</td>\n",
       "    </tr>\n",
       "    <tr>\n",
       "      <th>12</th>\n",
       "      <td>TCGA-AA-3715-01A</td>\n",
       "      <td>COAD</td>\n",
       "      <td>BRAF</td>\n",
       "      <td>g.chr7:140453136A&gt;T</td>\n",
       "      <td>p.V600E</td>\n",
       "    </tr>\n",
       "    <tr>\n",
       "      <th>13</th>\n",
       "      <td>TCGA-AA-3815-01A</td>\n",
       "      <td>COAD</td>\n",
       "      <td>BRAF</td>\n",
       "      <td>g.chr7:140453136A&gt;T</td>\n",
       "      <td>p.V600E</td>\n",
       "    </tr>\n",
       "    <tr>\n",
       "      <th>14</th>\n",
       "      <td>TCGA-AA-3821-01A</td>\n",
       "      <td>COAD</td>\n",
       "      <td>BRAF</td>\n",
       "      <td>g.chr7:140453136A&gt;T</td>\n",
       "      <td>p.V600E</td>\n",
       "    </tr>\n",
       "    <tr>\n",
       "      <th>15</th>\n",
       "      <td>TCGA-AA-3833-01A</td>\n",
       "      <td>COAD</td>\n",
       "      <td>BRAF</td>\n",
       "      <td>g.chr7:140453136A&gt;T</td>\n",
       "      <td>p.V600E</td>\n",
       "    </tr>\n",
       "    <tr>\n",
       "      <th>16</th>\n",
       "      <td>TCGA-AA-3877-01A</td>\n",
       "      <td>COAD</td>\n",
       "      <td>BRAF</td>\n",
       "      <td>g.chr7:140453136A&gt;T</td>\n",
       "      <td>p.V600E</td>\n",
       "    </tr>\n",
       "    <tr>\n",
       "      <th>17</th>\n",
       "      <td>TCGA-AA-3947-01A</td>\n",
       "      <td>COAD</td>\n",
       "      <td>BRAF</td>\n",
       "      <td>g.chr7:140453136A&gt;T</td>\n",
       "      <td>p.V600E</td>\n",
       "    </tr>\n",
       "    <tr>\n",
       "      <th>18</th>\n",
       "      <td>TCGA-AA-3949-01A</td>\n",
       "      <td>COAD</td>\n",
       "      <td>BRAF</td>\n",
       "      <td>g.chr7:140453136A&gt;T</td>\n",
       "      <td>p.V600E</td>\n",
       "    </tr>\n",
       "    <tr>\n",
       "      <th>19</th>\n",
       "      <td>TCGA-AA-3966-01A</td>\n",
       "      <td>COAD</td>\n",
       "      <td>BRAF</td>\n",
       "      <td>g.chr7:140453136A&gt;T</td>\n",
       "      <td>p.V600E</td>\n",
       "    </tr>\n",
       "    <tr>\n",
       "      <th>20</th>\n",
       "      <td>TCGA-AA-A01D-01A</td>\n",
       "      <td>COAD</td>\n",
       "      <td>BRAF</td>\n",
       "      <td>g.chr7:140453136A&gt;T</td>\n",
       "      <td>p.V600E</td>\n",
       "    </tr>\n",
       "    <tr>\n",
       "      <th>21</th>\n",
       "      <td>TCGA-AA-A01P-01A</td>\n",
       "      <td>COAD</td>\n",
       "      <td>BRAF</td>\n",
       "      <td>g.chr7:140453136A&gt;T</td>\n",
       "      <td>p.V600E</td>\n",
       "    </tr>\n",
       "    <tr>\n",
       "      <th>22</th>\n",
       "      <td>TCGA-AA-A022-01A</td>\n",
       "      <td>COAD</td>\n",
       "      <td>BRAF</td>\n",
       "      <td>g.chr7:140453136A&gt;T</td>\n",
       "      <td>p.V600E</td>\n",
       "    </tr>\n",
       "    <tr>\n",
       "      <th>23</th>\n",
       "      <td>TCGA-AA-A02R-01A</td>\n",
       "      <td>COAD</td>\n",
       "      <td>BRAF</td>\n",
       "      <td>g.chr7:140453136A&gt;T</td>\n",
       "      <td>p.V600E</td>\n",
       "    </tr>\n",
       "    <tr>\n",
       "      <th>24</th>\n",
       "      <td>TCGA-AD-5900-01A</td>\n",
       "      <td>COAD</td>\n",
       "      <td>BRAF</td>\n",
       "      <td>g.chr7:140453136A&gt;T</td>\n",
       "      <td>p.V600E</td>\n",
       "    </tr>\n",
       "    <tr>\n",
       "      <th>25</th>\n",
       "      <td>TCGA-AD-6889-01A</td>\n",
       "      <td>COAD</td>\n",
       "      <td>BRAF</td>\n",
       "      <td>g.chr7:140453136A&gt;T</td>\n",
       "      <td>p.V600E</td>\n",
       "    </tr>\n",
       "    <tr>\n",
       "      <th>26</th>\n",
       "      <td>TCGA-AD-A5EJ-01A</td>\n",
       "      <td>COAD</td>\n",
       "      <td>BRAF</td>\n",
       "      <td>g.chr7:140453136A&gt;T</td>\n",
       "      <td>p.V600E</td>\n",
       "    </tr>\n",
       "    <tr>\n",
       "      <th>27</th>\n",
       "      <td>TCGA-AM-5820-01A</td>\n",
       "      <td>COAD</td>\n",
       "      <td>BRAF</td>\n",
       "      <td>g.chr7:140453136A&gt;T</td>\n",
       "      <td>p.V600E</td>\n",
       "    </tr>\n",
       "    <tr>\n",
       "      <th>28</th>\n",
       "      <td>TCGA-AM-5821-01A</td>\n",
       "      <td>COAD</td>\n",
       "      <td>BRAF</td>\n",
       "      <td>g.chr7:140453136A&gt;T</td>\n",
       "      <td>p.V600E</td>\n",
       "    </tr>\n",
       "    <tr>\n",
       "      <th>29</th>\n",
       "      <td>TCGA-AU-6004-01A</td>\n",
       "      <td>COAD</td>\n",
       "      <td>BRAF</td>\n",
       "      <td>g.chr7:140453136A&gt;T</td>\n",
       "      <td>p.V600E</td>\n",
       "    </tr>\n",
       "    <tr>\n",
       "      <th>...</th>\n",
       "      <td>...</td>\n",
       "      <td>...</td>\n",
       "      <td>...</td>\n",
       "      <td>...</td>\n",
       "      <td>...</td>\n",
       "    </tr>\n",
       "    <tr>\n",
       "      <th>557</th>\n",
       "      <td>TCGA-IM-A41Y-01A</td>\n",
       "      <td>THCA</td>\n",
       "      <td>BRAF</td>\n",
       "      <td>g.chr7:140453136A&gt;T</td>\n",
       "      <td>p.V600E</td>\n",
       "    </tr>\n",
       "    <tr>\n",
       "      <th>558</th>\n",
       "      <td>TCGA-IM-A420-01A</td>\n",
       "      <td>THCA</td>\n",
       "      <td>BRAF</td>\n",
       "      <td>g.chr7:140453136A&gt;T</td>\n",
       "      <td>p.V600E</td>\n",
       "    </tr>\n",
       "    <tr>\n",
       "      <th>559</th>\n",
       "      <td>TCGA-IM-A4EB-01A</td>\n",
       "      <td>THCA</td>\n",
       "      <td>BRAF</td>\n",
       "      <td>g.chr7:140453136A&gt;T</td>\n",
       "      <td>p.V600E</td>\n",
       "    </tr>\n",
       "    <tr>\n",
       "      <th>560</th>\n",
       "      <td>TCGA-J8-A3NZ-01A</td>\n",
       "      <td>THCA</td>\n",
       "      <td>BRAF</td>\n",
       "      <td>g.chr7:140453136A&gt;T</td>\n",
       "      <td>p.V600E</td>\n",
       "    </tr>\n",
       "    <tr>\n",
       "      <th>561</th>\n",
       "      <td>TCGA-J8-A3O2-01A</td>\n",
       "      <td>THCA</td>\n",
       "      <td>BRAF</td>\n",
       "      <td>g.chr7:140453136A&gt;T</td>\n",
       "      <td>p.V600E</td>\n",
       "    </tr>\n",
       "    <tr>\n",
       "      <th>562</th>\n",
       "      <td>TCGA-J8-A3O2-06A</td>\n",
       "      <td>THCA</td>\n",
       "      <td>BRAF</td>\n",
       "      <td>g.chr7:140453136A&gt;T</td>\n",
       "      <td>p.V600E</td>\n",
       "    </tr>\n",
       "    <tr>\n",
       "      <th>563</th>\n",
       "      <td>TCGA-J8-A3YD-01A</td>\n",
       "      <td>THCA</td>\n",
       "      <td>BRAF</td>\n",
       "      <td>g.chr7:140453136A&gt;T</td>\n",
       "      <td>p.V600E</td>\n",
       "    </tr>\n",
       "    <tr>\n",
       "      <th>564</th>\n",
       "      <td>TCGA-J8-A3YE-01A</td>\n",
       "      <td>THCA</td>\n",
       "      <td>BRAF</td>\n",
       "      <td>g.chr7:140453136A&gt;T</td>\n",
       "      <td>p.V600E</td>\n",
       "    </tr>\n",
       "    <tr>\n",
       "      <th>565</th>\n",
       "      <td>TCGA-J8-A3YF-01A</td>\n",
       "      <td>THCA</td>\n",
       "      <td>BRAF</td>\n",
       "      <td>g.chr7:140453136A&gt;T</td>\n",
       "      <td>p.V600E</td>\n",
       "    </tr>\n",
       "    <tr>\n",
       "      <th>566</th>\n",
       "      <td>TCGA-J8-A3YG-01A</td>\n",
       "      <td>THCA</td>\n",
       "      <td>BRAF</td>\n",
       "      <td>g.chr7:140453136A&gt;T</td>\n",
       "      <td>p.V600E</td>\n",
       "    </tr>\n",
       "    <tr>\n",
       "      <th>567</th>\n",
       "      <td>TCGA-J8-A3YH-01A</td>\n",
       "      <td>THCA</td>\n",
       "      <td>BRAF</td>\n",
       "      <td>g.chr7:140453136A&gt;T</td>\n",
       "      <td>p.V600E</td>\n",
       "    </tr>\n",
       "    <tr>\n",
       "      <th>568</th>\n",
       "      <td>TCGA-J8-A3YH-06A</td>\n",
       "      <td>THCA</td>\n",
       "      <td>BRAF</td>\n",
       "      <td>g.chr7:140453136A&gt;T</td>\n",
       "      <td>p.V600E</td>\n",
       "    </tr>\n",
       "    <tr>\n",
       "      <th>569</th>\n",
       "      <td>TCGA-J8-A42S-01A</td>\n",
       "      <td>THCA</td>\n",
       "      <td>BRAF</td>\n",
       "      <td>g.chr7:140453136A&gt;T</td>\n",
       "      <td>p.V600E</td>\n",
       "    </tr>\n",
       "    <tr>\n",
       "      <th>570</th>\n",
       "      <td>TCGA-J8-A4HY-01A</td>\n",
       "      <td>THCA</td>\n",
       "      <td>BRAF</td>\n",
       "      <td>g.chr7:140453136A&gt;T</td>\n",
       "      <td>p.V600E</td>\n",
       "    </tr>\n",
       "    <tr>\n",
       "      <th>571</th>\n",
       "      <td>TCGA-KS-A41F-01A</td>\n",
       "      <td>THCA</td>\n",
       "      <td>BRAF</td>\n",
       "      <td>g.chr7:140453136A&gt;T</td>\n",
       "      <td>p.V600E</td>\n",
       "    </tr>\n",
       "    <tr>\n",
       "      <th>572</th>\n",
       "      <td>TCGA-KS-A41J-01A</td>\n",
       "      <td>THCA</td>\n",
       "      <td>BRAF</td>\n",
       "      <td>g.chr7:140453136A&gt;T</td>\n",
       "      <td>p.V600E</td>\n",
       "    </tr>\n",
       "    <tr>\n",
       "      <th>573</th>\n",
       "      <td>TCGA-KS-A4I1-01A</td>\n",
       "      <td>THCA</td>\n",
       "      <td>BRAF</td>\n",
       "      <td>g.chr7:140453136A&gt;T</td>\n",
       "      <td>p.V600E</td>\n",
       "    </tr>\n",
       "    <tr>\n",
       "      <th>574</th>\n",
       "      <td>TCGA-KS-A4I3-01A</td>\n",
       "      <td>THCA</td>\n",
       "      <td>BRAF</td>\n",
       "      <td>g.chr7:140453136A&gt;T</td>\n",
       "      <td>p.V600E</td>\n",
       "    </tr>\n",
       "    <tr>\n",
       "      <th>575</th>\n",
       "      <td>TCGA-KS-A4I5-01A</td>\n",
       "      <td>THCA</td>\n",
       "      <td>BRAF</td>\n",
       "      <td>g.chr7:140453136A&gt;T</td>\n",
       "      <td>p.V600E</td>\n",
       "    </tr>\n",
       "    <tr>\n",
       "      <th>576</th>\n",
       "      <td>TCGA-KS-A4I7-01A</td>\n",
       "      <td>THCA</td>\n",
       "      <td>BRAF</td>\n",
       "      <td>g.chr7:140453136A&gt;T</td>\n",
       "      <td>p.V600E</td>\n",
       "    </tr>\n",
       "    <tr>\n",
       "      <th>577</th>\n",
       "      <td>TCGA-KS-A4I9-01A</td>\n",
       "      <td>THCA</td>\n",
       "      <td>BRAF</td>\n",
       "      <td>g.chr7:140453136A&gt;T</td>\n",
       "      <td>p.V600E</td>\n",
       "    </tr>\n",
       "    <tr>\n",
       "      <th>578</th>\n",
       "      <td>TCGA-KS-A4IB-01A</td>\n",
       "      <td>THCA</td>\n",
       "      <td>BRAF</td>\n",
       "      <td>g.chr7:140453136A&gt;T</td>\n",
       "      <td>p.V600E</td>\n",
       "    </tr>\n",
       "    <tr>\n",
       "      <th>579</th>\n",
       "      <td>TCGA-KS-A4IC-01A</td>\n",
       "      <td>THCA</td>\n",
       "      <td>BRAF</td>\n",
       "      <td>g.chr7:140453136A&gt;T</td>\n",
       "      <td>p.V600E</td>\n",
       "    </tr>\n",
       "    <tr>\n",
       "      <th>580</th>\n",
       "      <td>TCGA-L6-A4EP-01A</td>\n",
       "      <td>THCA</td>\n",
       "      <td>BRAF</td>\n",
       "      <td>g.chr7:140453136A&gt;T</td>\n",
       "      <td>p.V600E</td>\n",
       "    </tr>\n",
       "    <tr>\n",
       "      <th>581</th>\n",
       "      <td>TCGA-L6-A4EQ-01A</td>\n",
       "      <td>THCA</td>\n",
       "      <td>BRAF</td>\n",
       "      <td>g.chr7:140453136A&gt;T</td>\n",
       "      <td>p.V600E</td>\n",
       "    </tr>\n",
       "    <tr>\n",
       "      <th>582</th>\n",
       "      <td>TCGA-L6-A4ET-01A</td>\n",
       "      <td>THCA</td>\n",
       "      <td>BRAF</td>\n",
       "      <td>g.chr7:140453136A&gt;T</td>\n",
       "      <td>p.V600E</td>\n",
       "    </tr>\n",
       "    <tr>\n",
       "      <th>583</th>\n",
       "      <td>TCGA-L6-A4EU-01A</td>\n",
       "      <td>THCA</td>\n",
       "      <td>BRAF</td>\n",
       "      <td>g.chr7:140453136A&gt;T</td>\n",
       "      <td>p.V600E</td>\n",
       "    </tr>\n",
       "    <tr>\n",
       "      <th>584</th>\n",
       "      <td>TCGA-MK-A4N6-01A</td>\n",
       "      <td>THCA</td>\n",
       "      <td>BRAF</td>\n",
       "      <td>g.chr7:140453136A&gt;T</td>\n",
       "      <td>p.V600E</td>\n",
       "    </tr>\n",
       "    <tr>\n",
       "      <th>585</th>\n",
       "      <td>TCGA-MK-A4N7-01A</td>\n",
       "      <td>THCA</td>\n",
       "      <td>BRAF</td>\n",
       "      <td>g.chr7:140453136A&gt;T</td>\n",
       "      <td>p.V600E</td>\n",
       "    </tr>\n",
       "    <tr>\n",
       "      <th>586</th>\n",
       "      <td>TCGA-MK-A4N9-01A</td>\n",
       "      <td>THCA</td>\n",
       "      <td>BRAF</td>\n",
       "      <td>g.chr7:140453136A&gt;T</td>\n",
       "      <td>p.V600E</td>\n",
       "    </tr>\n",
       "  </tbody>\n",
       "</table>\n",
       "<p>587 rows × 5 columns</p>\n",
       "</div>"
      ],
      "text/plain": [
       "    Tumor_SampleBarcode Study Hugo_Symbol        Genome_Change Protein_Change\n",
       "0      TCGA-YF-AA3L-01A  BLCA        BRAF  g.chr7:140453136A>T        p.V600E\n",
       "1      TCGA-ZU-A8S4-01A  CHOL        BRAF  g.chr7:140453136A>T        p.V600E\n",
       "2      TCGA-A6-2686-01A  COAD        BRAF  g.chr7:140453136A>T        p.V600E\n",
       "3      TCGA-A6-3809-01A  COAD        BRAF  g.chr7:140453136A>T        p.V600E\n",
       "4      TCGA-A6-5661-01A  COAD        BRAF  g.chr7:140453136A>T        p.V600E\n",
       "5      TCGA-A6-5665-01A  COAD        BRAF  g.chr7:140453136A>T        p.V600E\n",
       "6      TCGA-A6-6649-01A  COAD        BRAF  g.chr7:140453136A>T        p.V600E\n",
       "7      TCGA-A6-6653-01A  COAD        BRAF  g.chr7:140453136A>T        p.V600E\n",
       "8      TCGA-AA-3492-01A  COAD        BRAF  g.chr7:140453136A>T        p.V600E\n",
       "9      TCGA-AA-3664-01A  COAD        BRAF  g.chr7:140453136A>T        p.V600E\n",
       "10     TCGA-AA-3684-01A  COAD        BRAF  g.chr7:140453136A>T        p.V600E\n",
       "11     TCGA-AA-3713-01A  COAD        BRAF  g.chr7:140453136A>T        p.V600E\n",
       "12     TCGA-AA-3715-01A  COAD        BRAF  g.chr7:140453136A>T        p.V600E\n",
       "13     TCGA-AA-3815-01A  COAD        BRAF  g.chr7:140453136A>T        p.V600E\n",
       "14     TCGA-AA-3821-01A  COAD        BRAF  g.chr7:140453136A>T        p.V600E\n",
       "15     TCGA-AA-3833-01A  COAD        BRAF  g.chr7:140453136A>T        p.V600E\n",
       "16     TCGA-AA-3877-01A  COAD        BRAF  g.chr7:140453136A>T        p.V600E\n",
       "17     TCGA-AA-3947-01A  COAD        BRAF  g.chr7:140453136A>T        p.V600E\n",
       "18     TCGA-AA-3949-01A  COAD        BRAF  g.chr7:140453136A>T        p.V600E\n",
       "19     TCGA-AA-3966-01A  COAD        BRAF  g.chr7:140453136A>T        p.V600E\n",
       "20     TCGA-AA-A01D-01A  COAD        BRAF  g.chr7:140453136A>T        p.V600E\n",
       "21     TCGA-AA-A01P-01A  COAD        BRAF  g.chr7:140453136A>T        p.V600E\n",
       "22     TCGA-AA-A022-01A  COAD        BRAF  g.chr7:140453136A>T        p.V600E\n",
       "23     TCGA-AA-A02R-01A  COAD        BRAF  g.chr7:140453136A>T        p.V600E\n",
       "24     TCGA-AD-5900-01A  COAD        BRAF  g.chr7:140453136A>T        p.V600E\n",
       "25     TCGA-AD-6889-01A  COAD        BRAF  g.chr7:140453136A>T        p.V600E\n",
       "26     TCGA-AD-A5EJ-01A  COAD        BRAF  g.chr7:140453136A>T        p.V600E\n",
       "27     TCGA-AM-5820-01A  COAD        BRAF  g.chr7:140453136A>T        p.V600E\n",
       "28     TCGA-AM-5821-01A  COAD        BRAF  g.chr7:140453136A>T        p.V600E\n",
       "29     TCGA-AU-6004-01A  COAD        BRAF  g.chr7:140453136A>T        p.V600E\n",
       "..                  ...   ...         ...                  ...            ...\n",
       "557    TCGA-IM-A41Y-01A  THCA        BRAF  g.chr7:140453136A>T        p.V600E\n",
       "558    TCGA-IM-A420-01A  THCA        BRAF  g.chr7:140453136A>T        p.V600E\n",
       "559    TCGA-IM-A4EB-01A  THCA        BRAF  g.chr7:140453136A>T        p.V600E\n",
       "560    TCGA-J8-A3NZ-01A  THCA        BRAF  g.chr7:140453136A>T        p.V600E\n",
       "561    TCGA-J8-A3O2-01A  THCA        BRAF  g.chr7:140453136A>T        p.V600E\n",
       "562    TCGA-J8-A3O2-06A  THCA        BRAF  g.chr7:140453136A>T        p.V600E\n",
       "563    TCGA-J8-A3YD-01A  THCA        BRAF  g.chr7:140453136A>T        p.V600E\n",
       "564    TCGA-J8-A3YE-01A  THCA        BRAF  g.chr7:140453136A>T        p.V600E\n",
       "565    TCGA-J8-A3YF-01A  THCA        BRAF  g.chr7:140453136A>T        p.V600E\n",
       "566    TCGA-J8-A3YG-01A  THCA        BRAF  g.chr7:140453136A>T        p.V600E\n",
       "567    TCGA-J8-A3YH-01A  THCA        BRAF  g.chr7:140453136A>T        p.V600E\n",
       "568    TCGA-J8-A3YH-06A  THCA        BRAF  g.chr7:140453136A>T        p.V600E\n",
       "569    TCGA-J8-A42S-01A  THCA        BRAF  g.chr7:140453136A>T        p.V600E\n",
       "570    TCGA-J8-A4HY-01A  THCA        BRAF  g.chr7:140453136A>T        p.V600E\n",
       "571    TCGA-KS-A41F-01A  THCA        BRAF  g.chr7:140453136A>T        p.V600E\n",
       "572    TCGA-KS-A41J-01A  THCA        BRAF  g.chr7:140453136A>T        p.V600E\n",
       "573    TCGA-KS-A4I1-01A  THCA        BRAF  g.chr7:140453136A>T        p.V600E\n",
       "574    TCGA-KS-A4I3-01A  THCA        BRAF  g.chr7:140453136A>T        p.V600E\n",
       "575    TCGA-KS-A4I5-01A  THCA        BRAF  g.chr7:140453136A>T        p.V600E\n",
       "576    TCGA-KS-A4I7-01A  THCA        BRAF  g.chr7:140453136A>T        p.V600E\n",
       "577    TCGA-KS-A4I9-01A  THCA        BRAF  g.chr7:140453136A>T        p.V600E\n",
       "578    TCGA-KS-A4IB-01A  THCA        BRAF  g.chr7:140453136A>T        p.V600E\n",
       "579    TCGA-KS-A4IC-01A  THCA        BRAF  g.chr7:140453136A>T        p.V600E\n",
       "580    TCGA-L6-A4EP-01A  THCA        BRAF  g.chr7:140453136A>T        p.V600E\n",
       "581    TCGA-L6-A4EQ-01A  THCA        BRAF  g.chr7:140453136A>T        p.V600E\n",
       "582    TCGA-L6-A4ET-01A  THCA        BRAF  g.chr7:140453136A>T        p.V600E\n",
       "583    TCGA-L6-A4EU-01A  THCA        BRAF  g.chr7:140453136A>T        p.V600E\n",
       "584    TCGA-MK-A4N6-01A  THCA        BRAF  g.chr7:140453136A>T        p.V600E\n",
       "585    TCGA-MK-A4N7-01A  THCA        BRAF  g.chr7:140453136A>T        p.V600E\n",
       "586    TCGA-MK-A4N9-01A  THCA        BRAF  g.chr7:140453136A>T        p.V600E\n",
       "\n",
       "[587 rows x 5 columns]"
      ]
     },
     "execution_count": 11,
     "metadata": {},
     "output_type": "execute_result"
    }
   ],
   "source": [
    "r = bq.Query(find_BRAF_V600E,t=somatic_mutations_BQtable).results()\n",
    "r.to_dataframe()"
   ]
  },
  {
   "cell_type": "markdown",
   "metadata": {},
   "source": [
    "Let's count these mutations up by study (tumor-type):"
   ]
  },
  {
   "cell_type": "code",
   "execution_count": 12,
   "metadata": {
    "collapsed": false
   },
   "outputs": [
    {
     "data": {
      "text/html": [
       "\n",
       "    <div class=\"bqtv\" id=\"2_146982886763\"><table><tr><th>Study</th><th>n</th></tr><tr><td>THCA</td><td>300</td></tr><tr><td>SKCM</td><td>212</td></tr><tr><td>COAD</td><td>50</td></tr><tr><td>LUAD</td><td>10</td></tr><tr><td>GBM</td><td>6</td></tr><tr><td>KIRP</td><td>2</td></tr><tr><td>LGG</td><td>2</td></tr></table></div>\n",
       "    <br />(rows: 7, time: 0.8s,     3KB processed, job: job_EhSIiJqwnPY5ciQgmSyhTsTvNWU)<br />\n",
       "    <script>\n",
       "      require(['extensions/charting', 'element!2_146982886763', 'style!/static/extensions/charting.css'],\n",
       "        function(charts, dom) {\n",
       "          charts.render(dom,\n",
       "            {\n",
       "              chartStyle:\"table\",\n",
       "              dataName:\"0\",\n",
       "              fields:\"Study,n\",\n",
       "              totalRows:7,\n",
       "              rowsPerPage:25,\n",
       "            }, {}, {\"rows\": [{\"c\": [{\"v\": \"THCA\"}, {\"v\": 300}]}, {\"c\": [{\"v\": \"SKCM\"}, {\"v\": 212}]}, {\"c\": [{\"v\": \"COAD\"}, {\"v\": 50}]}, {\"c\": [{\"v\": \"LUAD\"}, {\"v\": 10}]}, {\"c\": [{\"v\": \"GBM\"}, {\"v\": 6}]}, {\"c\": [{\"v\": \"KIRP\"}, {\"v\": 2}]}, {\"c\": [{\"v\": \"LGG\"}, {\"v\": 2}]}], \"cols\": [{\"type\": \"string\", \"id\": \"Study\", \"label\": \"Study\"}, {\"type\": \"number\", \"id\": \"n\", \"label\": \"n\"}]});\n",
       "        }\n",
       "      );\n",
       "    </script>\n",
       "  "
      ],
      "text/plain": [
       "QueryResultsTable job_EhSIiJqwnPY5ciQgmSyhTsTvNWU"
      ]
     },
     "execution_count": 12,
     "metadata": {},
     "output_type": "execute_result"
    }
   ],
   "source": [
    "%%sql\n",
    "\n",
    "SELECT Study, COUNT(*) AS n\n",
    "FROM $r\n",
    "GROUP BY Study\n",
    "HAVING n > 1\n",
    "ORDER BY n DESC"
   ]
  },
  {
   "cell_type": "markdown",
   "metadata": {},
   "source": [
    "You may have noticed that in our earlier query, we did a GROUP BY to make sure that we didn't count the same mutation called on the same sample more than once.  We might want to GROUP BY patient instead to see if that changes our counts -- we may have multiple samples from some patients."
   ]
  },
  {
   "cell_type": "code",
   "execution_count": 13,
   "metadata": {
    "collapsed": true
   },
   "outputs": [],
   "source": [
    "%%sql --module find_BRAF_V600E_by_patient\n",
    "\n",
    "SELECT\n",
    "  ParticipantBarcode,\n",
    "  Study,\n",
    "  Hugo_Symbol,\n",
    "  Genome_Change,\n",
    "  Protein_Change\n",
    "FROM\n",
    "  $t\n",
    "WHERE\n",
    "  ( Hugo_Symbol=\"BRAF\"\n",
    "    AND Protein_Change=\"p.V600E\" )\n",
    "GROUP BY\n",
    "  ParticipantBarcode,\n",
    "  Study,\n",
    "  Hugo_Symbol,\n",
    "  Genome_Change,\n",
    "  Protein_Change\n",
    "ORDER BY\n",
    "  Study,\n",
    "  ParticipantBarcode"
   ]
  },
  {
   "cell_type": "code",
   "execution_count": 14,
   "metadata": {
    "collapsed": false
   },
   "outputs": [],
   "source": [
    "r = bq.Query(find_BRAF_V600E_by_patient,t=somatic_mutations_BQtable).results()"
   ]
  },
  {
   "cell_type": "code",
   "execution_count": 15,
   "metadata": {
    "collapsed": false
   },
   "outputs": [
    {
     "data": {
      "text/html": [
       "\n",
       "    <div class=\"bqtv\" id=\"3_146982886974\"><table><tr><th>Study</th><th>n</th></tr><tr><td>THCA</td><td>294</td></tr><tr><td>SKCM</td><td>211</td></tr><tr><td>COAD</td><td>50</td></tr><tr><td>LUAD</td><td>9</td></tr><tr><td>GBM</td><td>6</td></tr><tr><td>KIRP</td><td>2</td></tr><tr><td>LGG</td><td>2</td></tr></table></div>\n",
       "    <br />(rows: 7, time: 0.8s,     3KB processed, job: job_wEBpxuzXwUPQ4A919iDBpYN7Zo4)<br />\n",
       "    <script>\n",
       "      require(['extensions/charting', 'element!3_146982886974', 'style!/static/extensions/charting.css'],\n",
       "        function(charts, dom) {\n",
       "          charts.render(dom,\n",
       "            {\n",
       "              chartStyle:\"table\",\n",
       "              dataName:\"1\",\n",
       "              fields:\"Study,n\",\n",
       "              totalRows:7,\n",
       "              rowsPerPage:25,\n",
       "            }, {}, {\"rows\": [{\"c\": [{\"v\": \"THCA\"}, {\"v\": 294}]}, {\"c\": [{\"v\": \"SKCM\"}, {\"v\": 211}]}, {\"c\": [{\"v\": \"COAD\"}, {\"v\": 50}]}, {\"c\": [{\"v\": \"LUAD\"}, {\"v\": 9}]}, {\"c\": [{\"v\": \"GBM\"}, {\"v\": 6}]}, {\"c\": [{\"v\": \"KIRP\"}, {\"v\": 2}]}, {\"c\": [{\"v\": \"LGG\"}, {\"v\": 2}]}], \"cols\": [{\"type\": \"string\", \"id\": \"Study\", \"label\": \"Study\"}, {\"type\": \"number\", \"id\": \"n\", \"label\": \"n\"}]});\n",
       "        }\n",
       "      );\n",
       "    </script>\n",
       "  "
      ],
      "text/plain": [
       "QueryResultsTable job_wEBpxuzXwUPQ4A919iDBpYN7Zo4"
      ]
     },
     "execution_count": 15,
     "metadata": {},
     "output_type": "execute_result"
    }
   ],
   "source": [
    "%%sql\n",
    "\n",
    "SELECT Study, COUNT(*) AS n\n",
    "FROM $r\n",
    "GROUP BY Study\n",
    "HAVING n > 1\n",
    "ORDER BY n DESC"
   ]
  },
  {
   "cell_type": "markdown",
   "metadata": {},
   "source": [
    "When we counted the number of mutated samples, we found 261 THCA samples, but when we counted the number of patients, we found 258 THCA patients, so let's see what's going on there."
   ]
  },
  {
   "cell_type": "code",
   "execution_count": 16,
   "metadata": {
    "collapsed": false
   },
   "outputs": [
    {
     "data": {
      "text/html": [
       "\n",
       "    <div class=\"bqtv\" id=\"4_146982887100\"><table><tr><th>ParticipantBarcode</th><th>m</th></tr><tr><td>TCGA-J8-A3YH</td><td>2</td></tr><tr><td>TCGA-EM-A2P1</td><td>2</td></tr><tr><td>TCGA-EM-A3SU</td><td>2</td></tr><tr><td>TCGA-J8-A3O2</td><td>2</td></tr><tr><td>TCGA-EM-A2CS</td><td>2</td></tr><tr><td>TCGA-DE-A4MD</td><td>2</td></tr></table></div>\n",
       "    <br />(rows: 6, time: 1.0s,   286MB processed, job: job_77CJKLhHZId2oTUdPcV9wfrAeoA)<br />\n",
       "    <script>\n",
       "      require(['extensions/charting', 'element!4_146982887100', 'style!/static/extensions/charting.css'],\n",
       "        function(charts, dom) {\n",
       "          charts.render(dom,\n",
       "            {\n",
       "              chartStyle:\"table\",\n",
       "              dataName:\"2\",\n",
       "              fields:\"ParticipantBarcode,m\",\n",
       "              totalRows:6,\n",
       "              rowsPerPage:25,\n",
       "            }, {}, {\"rows\": [{\"c\": [{\"v\": \"TCGA-J8-A3YH\"}, {\"v\": 2}]}, {\"c\": [{\"v\": \"TCGA-EM-A2P1\"}, {\"v\": 2}]}, {\"c\": [{\"v\": \"TCGA-EM-A3SU\"}, {\"v\": 2}]}, {\"c\": [{\"v\": \"TCGA-J8-A3O2\"}, {\"v\": 2}]}, {\"c\": [{\"v\": \"TCGA-EM-A2CS\"}, {\"v\": 2}]}, {\"c\": [{\"v\": \"TCGA-DE-A4MD\"}, {\"v\": 2}]}], \"cols\": [{\"type\": \"string\", \"id\": \"ParticipantBarcode\", \"label\": \"ParticipantBarcode\"}, {\"type\": \"number\", \"id\": \"m\", \"label\": \"m\"}]});\n",
       "        }\n",
       "      );\n",
       "    </script>\n",
       "  "
      ],
      "text/plain": [
       "QueryResultsTable job_77CJKLhHZId2oTUdPcV9wfrAeoA"
      ]
     },
     "execution_count": 16,
     "metadata": {},
     "output_type": "execute_result"
    }
   ],
   "source": [
    "%%sql\n",
    "\n",
    "SELECT\n",
    "  ParticipantBarcode,\n",
    "  COUNT(*) AS m\n",
    "FROM (\n",
    "  SELECT\n",
    "    ParticipantBarcode,\n",
    "    Tumor_SampleBarcode,\n",
    "    COUNT(*) AS n\n",
    "  FROM\n",
    "    $somatic_mutations_BQtable\n",
    "  WHERE\n",
    "    ( Hugo_Symbol=\"BRAF\"\n",
    "      AND Protein_Change=\"p.V600E\"\n",
    "      AND Study=\"THCA\" )\n",
    "  GROUP BY\n",
    "    ParticipantBarcode,\n",
    "    Tumor_SampleBarcode,\n",
    "    )\n",
    "GROUP BY\n",
    "  ParticipantBarcode\n",
    "HAVING\n",
    "  m > 1\n",
    "ORDER BY\n",
    "  m DESC"
   ]
  },
  {
   "cell_type": "markdown",
   "metadata": {},
   "source": [
    "Sure enough, we see that the same mutation is reported twice for each of these three patients.  Let's look at why:"
   ]
  },
  {
   "cell_type": "code",
   "execution_count": 17,
   "metadata": {
    "collapsed": false
   },
   "outputs": [
    {
     "data": {
      "text/html": [
       "\n",
       "    <div class=\"bqtv\" id=\"5_146982887233\"><table><tr><th>ParticipantBarcode</th><th>Tumor_SampleBarcode</th><th>Tumor_SampleTypeLetterCode</th><th>Normal_SampleBarcode</th><th>Normal_SampleTypeLetterCode</th><th>Center</th></tr><tr><td>TCGA-EM-A2P1</td><td>TCGA-EM-A2P1-01A</td><td>TP</td><td>TCGA-EM-A2P1-10A</td><td>NB</td><td>bcgsc.ca;broad.mit.edu;hgsc.bcm.edu</td></tr><tr><td>TCGA-EM-A2P1</td><td>TCGA-EM-A2P1-06A</td><td>TM</td><td>TCGA-EM-A2P1-10A</td><td>NB</td><td>bcgsc.ca;broad.mit.edu;hgsc.bcm.edu</td></tr></table></div>\n",
       "    <br />(rows: 2, time: 1.1s,   524MB processed, job: job_BNWbHokrmzPc3fY8PfCPiHjiSTM)<br />\n",
       "    <script>\n",
       "      require(['extensions/charting', 'element!5_146982887233', 'style!/static/extensions/charting.css'],\n",
       "        function(charts, dom) {\n",
       "          charts.render(dom,\n",
       "            {\n",
       "              chartStyle:\"table\",\n",
       "              dataName:\"3\",\n",
       "              fields:\"ParticipantBarcode,Tumor_SampleBarcode,Tumor_SampleTypeLetterCode,Normal_SampleBarcode,Normal_SampleTypeLetterCode,Center\",\n",
       "              totalRows:2,\n",
       "              rowsPerPage:25,\n",
       "            }, {}, {\"rows\": [{\"c\": [{\"v\": \"TCGA-EM-A2P1\"}, {\"v\": \"TCGA-EM-A2P1-01A\"}, {\"v\": \"TP\"}, {\"v\": \"TCGA-EM-A2P1-10A\"}, {\"v\": \"NB\"}, {\"v\": \"bcgsc.ca;broad.mit.edu;hgsc.bcm.edu\"}]}, {\"c\": [{\"v\": \"TCGA-EM-A2P1\"}, {\"v\": \"TCGA-EM-A2P1-06A\"}, {\"v\": \"TM\"}, {\"v\": \"TCGA-EM-A2P1-10A\"}, {\"v\": \"NB\"}, {\"v\": \"bcgsc.ca;broad.mit.edu;hgsc.bcm.edu\"}]}], \"cols\": [{\"type\": \"string\", \"id\": \"ParticipantBarcode\", \"label\": \"ParticipantBarcode\"}, {\"type\": \"string\", \"id\": \"Tumor_SampleBarcode\", \"label\": \"Tumor_SampleBarcode\"}, {\"type\": \"string\", \"id\": \"Tumor_SampleTypeLetterCode\", \"label\": \"Tumor_SampleTypeLetterCode\"}, {\"type\": \"string\", \"id\": \"Normal_SampleBarcode\", \"label\": \"Normal_SampleBarcode\"}, {\"type\": \"string\", \"id\": \"Normal_SampleTypeLetterCode\", \"label\": \"Normal_SampleTypeLetterCode\"}, {\"type\": \"string\", \"id\": \"Center\", \"label\": \"Center\"}]});\n",
       "        }\n",
       "      );\n",
       "    </script>\n",
       "  "
      ],
      "text/plain": [
       "QueryResultsTable job_BNWbHokrmzPc3fY8PfCPiHjiSTM"
      ]
     },
     "execution_count": 17,
     "metadata": {},
     "output_type": "execute_result"
    }
   ],
   "source": [
    "%%sql\n",
    "\n",
    "SELECT\n",
    "  ParticipantBarcode,\n",
    "  Tumor_SampleBarcode,\n",
    "  Tumor_SampleTypeLetterCode,\n",
    "  Normal_SampleBarcode,\n",
    "  Normal_SampleTypeLetterCode,\n",
    "  Center,\n",
    "FROM\n",
    "  $somatic_mutations_BQtable\n",
    "WHERE\n",
    "  ( Hugo_Symbol=\"BRAF\"\n",
    "    AND Protein_Change=\"p.V600E\"\n",
    "    AND Study=\"THCA\"\n",
    "    AND ParticipantBarcode=\"TCGA-EM-A2P1\" )\n",
    "ORDER BY\n",
    "  Tumor_SampleBarcode,\n",
    "  Normal_SampleBarcode,\n",
    "  Center"
   ]
  },
  {
   "cell_type": "markdown",
   "metadata": {},
   "source": [
    "Aha!  not only did this patient provide both a primary tumor (TP) and a metastatic (TM) sample, but we have mutation calls from three different centers."
   ]
  },
  {
   "cell_type": "markdown",
   "metadata": {},
   "source": [
    "Finally, let's pick out one of these mutations and see what some of the other fields in this table can tell us:"
   ]
  },
  {
   "cell_type": "code",
   "execution_count": 18,
   "metadata": {
    "collapsed": false
   },
   "outputs": [
    {
     "data": {
      "text/html": [
       "\n",
       "    <div class=\"bqtv\" id=\"6_146982887351\"></div>\n",
       "    <br />(rows: 0, time: 0.8s,   778MB processed, job: job__anjZ4ojpEEynW7YDH6LTbgaQoc)<br />\n",
       "    <script>\n",
       "      require(['extensions/charting', 'element!6_146982887351', 'style!/static/extensions/charting.css'],\n",
       "        function(charts, dom) {\n",
       "          charts.render(dom,\n",
       "            {\n",
       "              chartStyle:\"table\",\n",
       "              dataName:\"4\",\n",
       "              fields:\"ParticipantBarcode,Tumor_SampleTypeLetterCode,Normal_SampleTypeLetterCode,Study,Center,Variant_Type,Variant_Classification,Genome_Change,cDNA_Change,Protein_Change,UniProt_Region,COSMIC_Total_Alterations_In_Gene,DrugBank\",\n",
       "              totalRows:0,\n",
       "              rowsPerPage:25,\n",
       "            }, {}, {\"rows\": [], \"cols\": [{\"type\": \"string\", \"id\": \"ParticipantBarcode\", \"label\": \"ParticipantBarcode\"}, {\"type\": \"string\", \"id\": \"Tumor_SampleTypeLetterCode\", \"label\": \"Tumor_SampleTypeLetterCode\"}, {\"type\": \"string\", \"id\": \"Normal_SampleTypeLetterCode\", \"label\": \"Normal_SampleTypeLetterCode\"}, {\"type\": \"string\", \"id\": \"Study\", \"label\": \"Study\"}, {\"type\": \"string\", \"id\": \"Center\", \"label\": \"Center\"}, {\"type\": \"string\", \"id\": \"Variant_Type\", \"label\": \"Variant_Type\"}, {\"type\": \"string\", \"id\": \"Variant_Classification\", \"label\": \"Variant_Classification\"}, {\"type\": \"string\", \"id\": \"Genome_Change\", \"label\": \"Genome_Change\"}, {\"type\": \"string\", \"id\": \"cDNA_Change\", \"label\": \"cDNA_Change\"}, {\"type\": \"string\", \"id\": \"Protein_Change\", \"label\": \"Protein_Change\"}, {\"type\": \"string\", \"id\": \"UniProt_Region\", \"label\": \"UniProt_Region\"}, {\"type\": \"number\", \"id\": \"COSMIC_Total_Alterations_In_Gene\", \"label\": \"COSMIC_Total_Alterations_In_Gene\"}, {\"type\": \"string\", \"id\": \"DrugBank\", \"label\": \"DrugBank\"}]});\n",
       "        }\n",
       "      );\n",
       "    </script>\n",
       "  "
      ],
      "text/plain": [
       "QueryResultsTable job__anjZ4ojpEEynW7YDH6LTbgaQoc"
      ]
     },
     "execution_count": 18,
     "metadata": {},
     "output_type": "execute_result"
    }
   ],
   "source": [
    "%%sql\n",
    "\n",
    "SELECT\n",
    "  ParticipantBarcode,\n",
    "  Tumor_SampleTypeLetterCode,\n",
    "  Normal_SampleTypeLetterCode,\n",
    "  Study,\n",
    "  Center,\n",
    "  Variant_Type,\n",
    "  Variant_Classification,\n",
    "  Genome_Change,\n",
    "  cDNA_Change,\n",
    "  Protein_Change,\n",
    "  UniProt_Region,\n",
    "  COSMIC_Total_Alterations_In_Gene,\n",
    "  DrugBank\n",
    "FROM\n",
    "  $somatic_mutations_BQtable\n",
    "WHERE\n",
    "  ( Hugo_Symbol=\"BRAF\"\n",
    "    AND Protein_Change=\"p.V600E\"\n",
    "    AND Study=\"THCA\"\n",
    "    AND ParticipantBarcode=\"TCGA-EM-A2P1\"\n",
    "    AND Tumor_SampleTypeLetterCode=\"TP\"\n",
    "    AND Center=\"broad.mit.edu\" )"
   ]
  },
  {
   "cell_type": "markdown",
   "metadata": {},
   "source": [
    "When working with variants or mutations, there is another public BigQuery table that you might find useful.  Developed by [Tute Genomics](http://tutegenomics.com/), this comprehensive, publicly-available database of over 8.5 billion known variants was [announced](https://www.tutegenomics.com/news/exploring-genetic-variation-with-google-genomics-and-tute/) earlier this year.  This table includes several types of annotations and scores, such ase [Polyphen2](http://genetics.bwh.harvard.edu/pph2/) and [MutationAssessor](http://mutationassessor.org/), and a proprietary \"Tute score\" which estimates whether a SNP or indel is likely to be associate with Mendelian phenotypes. "
   ]
  },
  {
   "cell_type": "markdown",
   "metadata": {},
   "source": [
    "For example, you can look up all exonic BRAF mutations in the TuteTable in less than 20 seconds:"
   ]
  },
  {
   "cell_type": "code",
   "execution_count": 19,
   "metadata": {
    "collapsed": false
   },
   "outputs": [],
   "source": [
    "%%sql --module BRAF_TUTE\n",
    "\n",
    "SELECT\n",
    "  Chr,\n",
    "  Start,\n",
    "  Func,\n",
    "  Gene,\n",
    "  AA,\n",
    "  Polyphen2_HDIV_score,\n",
    "  Polyphen2_HVAR_score,\n",
    "  MutationAssessor_score,\n",
    "  TUTE\n",
    "FROM\n",
    "  [silver-wall-555:TuteTable.hg19]\n",
    "WHERE\n",
    "  ( Gene=\"BRAF\"\n",
    "    AND Func=\"exonic\" )\n",
    "ORDER BY\n",
    "  Start ASC"
   ]
  },
  {
   "cell_type": "code",
   "execution_count": 20,
   "metadata": {
    "collapsed": false
   },
   "outputs": [
    {
     "name": "stderr",
     "output_type": "stream",
     "text": [
      "/usr/local/lib/python2.7/dist-packages/numpy/lib/function_base.py:3834: RuntimeWarning: Invalid value encountered in percentile\n",
      "  RuntimeWarning)\n"
     ]
    },
    {
     "data": {
      "text/html": [
       "<div>\n",
       "<table border=\"1\" class=\"dataframe\">\n",
       "  <thead>\n",
       "    <tr style=\"text-align: right;\">\n",
       "      <th></th>\n",
       "      <th>Start</th>\n",
       "      <th>Polyphen2_HDIV_score</th>\n",
       "      <th>Polyphen2_HVAR_score</th>\n",
       "      <th>MutationAssessor_score</th>\n",
       "      <th>TUTE</th>\n",
       "    </tr>\n",
       "  </thead>\n",
       "  <tbody>\n",
       "    <tr>\n",
       "      <th>count</th>\n",
       "      <td>6.903000e+03</td>\n",
       "      <td>4985.000000</td>\n",
       "      <td>4985.000000</td>\n",
       "      <td>4976.000000</td>\n",
       "      <td>6903.000000</td>\n",
       "    </tr>\n",
       "    <tr>\n",
       "      <th>mean</th>\n",
       "      <td>1.404945e+08</td>\n",
       "      <td>0.556226</td>\n",
       "      <td>0.413867</td>\n",
       "      <td>1.247881</td>\n",
       "      <td>0.332186</td>\n",
       "    </tr>\n",
       "    <tr>\n",
       "      <th>std</th>\n",
       "      <td>4.577719e+04</td>\n",
       "      <td>0.417165</td>\n",
       "      <td>0.395638</td>\n",
       "      <td>1.182233</td>\n",
       "      <td>0.306410</td>\n",
       "    </tr>\n",
       "    <tr>\n",
       "      <th>min</th>\n",
       "      <td>1.404344e+08</td>\n",
       "      <td>0.000000</td>\n",
       "      <td>0.000000</td>\n",
       "      <td>-2.770000</td>\n",
       "      <td>0.000000</td>\n",
       "    </tr>\n",
       "    <tr>\n",
       "      <th>25%</th>\n",
       "      <td>1.404540e+08</td>\n",
       "      <td>NaN</td>\n",
       "      <td>NaN</td>\n",
       "      <td>NaN</td>\n",
       "      <td>0.108000</td>\n",
       "    </tr>\n",
       "    <tr>\n",
       "      <th>50%</th>\n",
       "      <td>1.404874e+08</td>\n",
       "      <td>NaN</td>\n",
       "      <td>NaN</td>\n",
       "      <td>NaN</td>\n",
       "      <td>0.196700</td>\n",
       "    </tr>\n",
       "    <tr>\n",
       "      <th>75%</th>\n",
       "      <td>1.405087e+08</td>\n",
       "      <td>NaN</td>\n",
       "      <td>NaN</td>\n",
       "      <td>NaN</td>\n",
       "      <td>0.568100</td>\n",
       "    </tr>\n",
       "    <tr>\n",
       "      <th>max</th>\n",
       "      <td>1.406245e+08</td>\n",
       "      <td>1.000000</td>\n",
       "      <td>1.000000</td>\n",
       "      <td>4.505000</td>\n",
       "      <td>0.931700</td>\n",
       "    </tr>\n",
       "  </tbody>\n",
       "</table>\n",
       "</div>"
      ],
      "text/plain": [
       "              Start  Polyphen2_HDIV_score  Polyphen2_HVAR_score  \\\n",
       "count  6.903000e+03           4985.000000           4985.000000   \n",
       "mean   1.404945e+08              0.556226              0.413867   \n",
       "std    4.577719e+04              0.417165              0.395638   \n",
       "min    1.404344e+08              0.000000              0.000000   \n",
       "25%    1.404540e+08                   NaN                   NaN   \n",
       "50%    1.404874e+08                   NaN                   NaN   \n",
       "75%    1.405087e+08                   NaN                   NaN   \n",
       "max    1.406245e+08              1.000000              1.000000   \n",
       "\n",
       "       MutationAssessor_score         TUTE  \n",
       "count             4976.000000  6903.000000  \n",
       "mean                 1.247881     0.332186  \n",
       "std                  1.182233     0.306410  \n",
       "min                 -2.770000     0.000000  \n",
       "25%                       NaN     0.108000  \n",
       "50%                       NaN     0.196700  \n",
       "75%                       NaN     0.568100  \n",
       "max                  4.505000     0.931700  "
      ]
     },
     "execution_count": 20,
     "metadata": {},
     "output_type": "execute_result"
    }
   ],
   "source": [
    "tuteBRAFscores = bq.Query(BRAF_TUTE).results().to_dataframe()\n",
    "tuteBRAFscores.describe()"
   ]
  },
  {
   "cell_type": "markdown",
   "metadata": {},
   "source": [
    "Let's go back to the TCGA somatic mutations table and pull out all BRAF mutations and then join them with the matching mutations in the Tute Table so that we can compare the distribution of scores (*eg* MutationAssessor and TUTE) between the somatic mutations seen in TCGA and the larger set of variants contained in the Tute Table."
   ]
  },
  {
   "cell_type": "code",
   "execution_count": 21,
   "metadata": {
    "collapsed": false
   },
   "outputs": [],
   "source": [
    "%%sql --module TCGA_BRAF\n",
    "\n",
    "SELECT\n",
    "  Hugo_Symbol,\n",
    "  Protein_Change,\n",
    "  MutationAssessor_score,\n",
    "  TUTE\n",
    "FROM (\n",
    "  SELECT\n",
    "    Hugo_Symbol,\n",
    "    Protein_Change\n",
    "  FROM\n",
    "    $t\n",
    "  WHERE\n",
    "    ( Hugo_Symbol=\"BRAF\" )\n",
    "  GROUP BY\n",
    "    Hugo_Symbol,\n",
    "    Protein_Change ) AS tcga\n",
    "JOIN (\n",
    "  SELECT\n",
    "    Gene,\n",
    "    AA,\n",
    "    MutationAssessor_score,\n",
    "    TUTE\n",
    "  FROM\n",
    "    [silver-wall-555:TuteTable.hg19]\n",
    "  WHERE\n",
    "    ( Gene=\"BRAF\" ) ) AS tute\n",
    "ON\n",
    "  tcga.Hugo_Symbol=tute.Gene\n",
    "  AND tcga.Protein_Change=tute.AA"
   ]
  },
  {
   "cell_type": "code",
   "execution_count": 22,
   "metadata": {
    "collapsed": false
   },
   "outputs": [
    {
     "data": {
      "text/html": [
       "<div>\n",
       "<table border=\"1\" class=\"dataframe\">\n",
       "  <thead>\n",
       "    <tr style=\"text-align: right;\">\n",
       "      <th></th>\n",
       "      <th>MutationAssessor_score</th>\n",
       "      <th>TUTE</th>\n",
       "    </tr>\n",
       "  </thead>\n",
       "  <tbody>\n",
       "    <tr>\n",
       "      <th>count</th>\n",
       "      <td>194.000000</td>\n",
       "      <td>298.000000</td>\n",
       "    </tr>\n",
       "    <tr>\n",
       "      <th>mean</th>\n",
       "      <td>1.531443</td>\n",
       "      <td>0.337101</td>\n",
       "    </tr>\n",
       "    <tr>\n",
       "      <th>std</th>\n",
       "      <td>1.376454</td>\n",
       "      <td>0.321675</td>\n",
       "    </tr>\n",
       "    <tr>\n",
       "      <th>min</th>\n",
       "      <td>-1.285000</td>\n",
       "      <td>0.000000</td>\n",
       "    </tr>\n",
       "    <tr>\n",
       "      <th>25%</th>\n",
       "      <td>NaN</td>\n",
       "      <td>0.096200</td>\n",
       "    </tr>\n",
       "    <tr>\n",
       "      <th>50%</th>\n",
       "      <td>NaN</td>\n",
       "      <td>0.188800</td>\n",
       "    </tr>\n",
       "    <tr>\n",
       "      <th>75%</th>\n",
       "      <td>NaN</td>\n",
       "      <td>0.645875</td>\n",
       "    </tr>\n",
       "    <tr>\n",
       "      <th>max</th>\n",
       "      <td>4.475000</td>\n",
       "      <td>0.928100</td>\n",
       "    </tr>\n",
       "  </tbody>\n",
       "</table>\n",
       "</div>"
      ],
      "text/plain": [
       "       MutationAssessor_score        TUTE\n",
       "count              194.000000  298.000000\n",
       "mean                 1.531443    0.337101\n",
       "std                  1.376454    0.321675\n",
       "min                 -1.285000    0.000000\n",
       "25%                       NaN    0.096200\n",
       "50%                       NaN    0.188800\n",
       "75%                       NaN    0.645875\n",
       "max                  4.475000    0.928100"
      ]
     },
     "execution_count": 22,
     "metadata": {},
     "output_type": "execute_result"
    }
   ],
   "source": [
    "tcgaBRAFscores = bq.Query(TCGA_BRAF,t=somatic_mutations_BQtable).results().to_dataframe()\n",
    "tcgaBRAFscores.describe()"
   ]
  },
  {
   "cell_type": "code",
   "execution_count": 23,
   "metadata": {
    "collapsed": true
   },
   "outputs": [],
   "source": [
    "import numpy as np\n",
    "import matplotlib.pyplot as plt"
   ]
  },
  {
   "cell_type": "code",
   "execution_count": 24,
   "metadata": {
    "collapsed": false
   },
   "outputs": [
    {
     "data": {
      "image/png": "[encoded data removed]",
      "text/plain": [
       "<matplotlib.figure.Figure at 0x7fd1ac050bd0>"
      ]
     },
     "metadata": {},
     "output_type": "display_data"
    }
   ],
   "source": [
    "plt.hist(tuteBRAFscores['TUTE'],bins=50,normed=True,color='red',alpha=0.6,label='all variants');\n",
    "plt.hist(tcgaBRAFscores['TUTE'],bins=50,normed=True,color='blue',alpha=0.4,label='TCGA somatic mutations');\n",
    "plt.legend(loc='upper right');\n",
    "plt.xlabel('TUTE score');\n",
    "plt.ylabel('probability');"
   ]
  },
  {
   "cell_type": "code",
   "execution_count": 25,
   "metadata": {
    "collapsed": false
   },
   "outputs": [
    {
     "data": {
      "image/png": "[encoded data removed]",
      "text/plain": [
       "<matplotlib.figure.Figure at 0x7fd1a7ff1d90>"
      ]
     },
     "metadata": {},
     "output_type": "display_data"
    }
   ],
   "source": [
    "plt.hist(tuteBRAFscores['MutationAssessor_score'],bins=45,range=[-4,5],normed=True,color='red',alpha=0.6,label='all variants');\n",
    "plt.hist(tcgaBRAFscores['MutationAssessor_score'],bins=45,range=[-4,5],normed=True,color='blue',alpha=0.4,label='TCGA somatic mutations');\n",
    "plt.legend(loc='upper right');\n",
    "plt.xlabel('MutationAssessor score');\n",
    "plt.ylabel('probability');"
   ]
  },
  {
   "cell_type": "markdown",
   "metadata": {},
   "source": [
    "Both of these plots suggest that some of the somatic BRAF mutations observed in TCGA tumor samples are scored as more deleterious by both TUTE and MutationAssessor.  In the TUTE histogram, a larger fraction of somatic mutations also get a score of 0.\n",
    "\n",
    "Note that in these histograms, each count represents a *single* variant, *ie* a specific protein change.  Mutations that are seen across multiple patients are **not** being counted multiple times."
   ]
  },
  {
   "cell_type": "code",
   "execution_count": null,
   "metadata": {
    "collapsed": true
   },
   "outputs": [],
   "source": []
  }
 ],
 "metadata": {
  "kernelspec": {
   "display_name": "Python 2",
   "language": "python",
   "name": "python2"
  },
  "language_info": {
   "codemirror_mode": {
    "name": "ipython",
    "version": 2
   },
   "file_extension": ".py",
   "mimetype": "text/x-python",
   "name": "python",
   "nbconvert_exporter": "python",
   "pygments_lexer": "ipython2",
   "version": "2.7.9"
  }
 },
 "nbformat": 4,
 "nbformat_minor": 0
}
