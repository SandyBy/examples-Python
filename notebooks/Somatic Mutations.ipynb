{
 "cells": [
  {
   "cell_type": "markdown",
   "metadata": {},
   "source": [
    "# Somatic Mutations\n",
    "\n",
    "The goal of this notebook is to introduce you to the Somatic Mutations BigQuery table.\n",
    "\n",
    "This table is based on the open-access somatic mutation calls available in [MAF files](https://wiki.nci.nih.gov/display/TCGA/TCGA+MAF+Files) at the DCC.  In addition to uploading all current MAF files from the DCC, the mutations were also annotated using [Oncotator](https://www.broadinstitute.org/cancer/cga/oncotator).  A subset of the columns in the underlying MAF files and a subset of the Oncotator outputs were then assembled in this table.  \n",
    "\n",
    "In addition, the ETL process includes several data-cleaning steps because many tumor types actually have multiple current MAF files and therefore potentially duplicate mutation calls.  In some cases, a tumor sample may have had mutations called relative to both a blood-normal and an adjacent-tissue sample, and in other cases MAF files may contain mutations called on more than one aliquot from the same sample.  Every effort was made to include all of the available data at the DCC while avoiding having multiple rows in the mutation table describing the same somatic mutation.  Note, however, that if the *same* mutation was called by *multiple* centers and appeared in different MAF files, it may be described on muliple rows (as you will see later in this notebook).  Furthermore, in some cases, the underlying MAF file may have been based on a multi-center mutationa-calling exercise, in which case you may see a list of centers in the `Center` field, *eg* \"bcgsc.ca;broad.mit.edu;hgsc.bcm.edu;mdanderson.org;ucsc.edu\". \n",
    "\n",
    "In conclusion, if you are counting up the number of mutations observed in a sample or a patient or a tumor-type, be sure to include the necessary GROUP BY clause(s) in order to avoid double-counting!\n",
    "\n",
    "As usual, in order to work with BigQuery, you need to import the bigquery module (gcp.bigquery) and you need to know the name(s) of the table(s) you are going to be working with:"
   ]
  },
  {
   "cell_type": "code",
   "execution_count": 1,
   "metadata": {
    "collapsed": true
   },
   "outputs": [],
   "source": [
    "import gcp.bigquery as bq\n",
    "somatic_mutations_BQtable = bq.Table('isb-cgc:tcga_201510_alpha.Somatic_Mutation_calls')"
   ]
  },
  {
   "cell_type": "markdown",
   "metadata": {},
   "source": [
    "Let's start by taking a look at the table schema:"
   ]
  },
  {
   "cell_type": "code",
   "execution_count": 2,
   "metadata": {
    "collapsed": false
   },
   "outputs": [
    {
     "data": {
      "text/html": [
       "\n",
       "    <div class=\"bqsv\" id=\"1_146379230851\"></div>\n",
       "    <script>\n",
       "      require(['extensions/bigquery', 'element!1_146379230851', 'style!/static/extensions/bigquery.css'],\n",
       "        function(bq, dom) {\n",
       "          bq.renderSchema(dom, [{\"type\": \"STRING\", \"name\": \"ParticipantBarcode\"}, {\"type\": \"STRING\", \"name\": \"Tumor_SampleBarcode\"}, {\"type\": \"STRING\", \"name\": \"Tumor_AliquotBarcode\"}, {\"type\": \"STRING\", \"name\": \"Tumor_SampleTypeLetterCode\"}, {\"type\": \"STRING\", \"name\": \"Normal_SampleBarcode\"}, {\"type\": \"STRING\", \"name\": \"Normal_AliquotBarcode\"}, {\"type\": \"STRING\", \"name\": \"Normal_SampleTypeLetterCode\"}, {\"type\": \"STRING\", \"name\": \"Study\"}, {\"type\": \"STRING\", \"name\": \"Annotation_Transcript\"}, {\"type\": \"INTEGER\", \"name\": \"CCLE_ONCOMAP_Total_Mutations_In_Gene\"}, {\"type\": \"INTEGER\", \"name\": \"COSMIC_Total_Alterations_In_Gene\"}, {\"type\": \"STRING\", \"name\": \"Center\"}, {\"type\": \"STRING\", \"name\": \"Chromosome\"}, {\"type\": \"STRING\", \"name\": \"DNARepairGenes_Role\"}, {\"type\": \"STRING\", \"name\": \"DbSNP_RS\"}, {\"type\": \"STRING\", \"name\": \"DbSNP_Val_Status\"}, {\"type\": \"STRING\", \"name\": \"DrugBank\"}, {\"type\": \"INTEGER\", \"name\": \"End_Position\"}, {\"type\": \"INTEGER\", \"name\": \"Entrez_Gene_Id\"}, {\"type\": \"FLOAT\", \"name\": \"GC_Content\"}, {\"type\": \"STRING\", \"name\": \"GENCODE_Transcript_Name\"}, {\"type\": \"STRING\", \"name\": \"GENCODE_Transcript_Status\"}, {\"type\": \"STRING\", \"name\": \"GENCODE_Transcript_Type\"}, {\"type\": \"STRING\", \"name\": \"GO_Biological_Process\"}, {\"type\": \"STRING\", \"name\": \"GO_Cellular_Component\"}, {\"type\": \"STRING\", \"name\": \"GO_Molecular_Function\"}, {\"type\": \"STRING\", \"name\": \"Gene_Type\"}, {\"type\": \"STRING\", \"name\": \"Genome_Change\"}, {\"type\": \"STRING\", \"name\": \"HGNC_Accession_Numbers\"}, {\"type\": \"STRING\", \"name\": \"HGNC_CCDS_IDs\"}, {\"type\": \"STRING\", \"name\": \"HGNC_Ensembl_ID_Supplied_By_Ensembl\"}, {\"type\": \"INTEGER\", \"name\": \"HGNC_HGNC_ID\"}, {\"type\": \"STRING\", \"name\": \"HGNC_Locus_Group\"}, {\"type\": \"STRING\", \"name\": \"HGNC_Locus_Type\"}, {\"type\": \"STRING\", \"name\": \"HGNC_OMIM_ID_Supplied_By_NCBI\"}, {\"type\": \"STRING\", \"name\": \"HGNC_RefSeq_Supplied_By_NCBI\"}, {\"type\": \"STRING\", \"name\": \"HGNC_UCSC_ID_Supplied_By_UCSC\"}, {\"type\": \"STRING\", \"name\": \"HGNC_UniProt_ID_Supplied_By_UniProt\"}, {\"type\": \"STRING\", \"name\": \"Hugo_Symbol\"}, {\"type\": \"STRING\", \"name\": \"Mutation_Status\"}, {\"type\": \"INTEGER\", \"name\": \"NCBI_Build\"}, {\"type\": \"STRING\", \"name\": \"Normal_Seq_Allele1\"}, {\"type\": \"STRING\", \"name\": \"Normal_Seq_Allele2\"}, {\"type\": \"STRING\", \"name\": \"Normal_Validation_Allele1\"}, {\"type\": \"STRING\", \"name\": \"Normal_Validation_Allele2\"}, {\"type\": \"STRING\", \"name\": \"OREGANNO_ID\"}, {\"type\": \"STRING\", \"name\": \"Protein_Change\"}, {\"type\": \"STRING\", \"name\": \"Ref_Context\"}, {\"type\": \"STRING\", \"name\": \"Reference_Allele\"}, {\"type\": \"STRING\", \"name\": \"Refseq_Prot_Id\"}, {\"type\": \"STRING\", \"name\": \"Secondary_Variant_Classification\"}, {\"type\": \"STRING\", \"name\": \"Sequence_Source\"}, {\"type\": \"STRING\", \"name\": \"Sequencer\"}, {\"type\": \"INTEGER\", \"name\": \"Start_Position\"}, {\"type\": \"STRING\", \"name\": \"SwissProt_Acc_Id\"}, {\"type\": \"STRING\", \"name\": \"SwissProt_Entry_Id\"}, {\"type\": \"INTEGER\", \"name\": \"Transcript_Exon\"}, {\"type\": \"STRING\", \"name\": \"Transcript_Position\"}, {\"type\": \"STRING\", \"name\": \"Transcript_Strand\"}, {\"type\": \"STRING\", \"name\": \"Tumor_Seq_Allele1\"}, {\"type\": \"STRING\", \"name\": \"Tumor_Seq_Allele2\"}, {\"type\": \"STRING\", \"name\": \"Tumor_Validation_Allele1\"}, {\"type\": \"STRING\", \"name\": \"Tumor_Validation_Allele2\"}, {\"type\": \"INTEGER\", \"name\": \"UniProt_AApos\"}, {\"type\": \"STRING\", \"name\": \"UniProt_Region\"}, {\"type\": \"STRING\", \"name\": \"Validation_Method\"}, {\"type\": \"STRING\", \"name\": \"Variant_Classification\"}, {\"type\": \"STRING\", \"name\": \"Variant_Type\"}, {\"type\": \"STRING\", \"name\": \"cDNA_Change\"}]);\n",
       "        }\n",
       "      );\n",
       "    </script>\n",
       "    "
      ],
      "text/plain": [
       "<IPython.core.display.HTML object>"
      ]
     },
     "execution_count": 2,
     "metadata": {},
     "output_type": "execute_result"
    }
   ],
   "source": [
    "%bigquery schema --table $somatic_mutations_BQtable"
   ]
  },
  {
   "cell_type": "markdown",
   "metadata": {},
   "source": [
    "That's a lot of fields!  Let's dig in a bit further to see what is included in this table.  For example let's count up the number of unique patients, tumor-samples, and normal-samples based on barcode identifiers:"
   ]
  },
  {
   "cell_type": "code",
   "execution_count": 3,
   "metadata": {
    "collapsed": true
   },
   "outputs": [],
   "source": [
    "%%sql --module count_unique\n",
    "\n",
    "SELECT COUNT(DISTINCT $f,25000) AS n\n",
    "FROM $t"
   ]
  },
  {
   "cell_type": "code",
   "execution_count": 4,
   "metadata": {
    "collapsed": false
   },
   "outputs": [
    {
     "name": "stdout",
     "output_type": "stream",
     "text": [
      " There are   8373 unique values in the field ParticipantBarcode. \n",
      " There are   8435 unique values in the field Tumor_SampleBarcode. \n",
      " There are   8754 unique values in the field Normal_SampleBarcode. \n"
     ]
    }
   ],
   "source": [
    "fieldList = ['ParticipantBarcode', 'Tumor_SampleBarcode', 'Normal_SampleBarcode' ]\n",
    "for aField in fieldList:\n",
    "  field = somatic_mutations_BQtable.schema[aField]\n",
    "  rdf = bq.Query(count_unique,t=somatic_mutations_BQtable,f=field).to_dataframe()\n",
    "  print \" There are %6d unique values in the field %s. \" % ( rdf.iloc[0]['n'], aField)"
   ]
  },
  {
   "cell_type": "markdown",
   "metadata": {},
   "source": [
    "Now let's look at a few key fields and find the top-5 most frequent values in each field:"
   ]
  },
  {
   "cell_type": "code",
   "execution_count": 5,
   "metadata": {
    "collapsed": true
   },
   "outputs": [],
   "source": [
    "%%sql --module top_5_values\n",
    "\n",
    "SELECT $f, COUNT(*) AS n\n",
    "FROM $t\n",
    "WHERE ( $f IS NOT NULL )\n",
    "GROUP BY $f\n",
    "ORDER BY n DESC\n",
    "LIMIT 5"
   ]
  },
  {
   "cell_type": "markdown",
   "metadata": {},
   "source": [
    "You can use the parameterized query defined above to find the top-5 most frequently occurring values for any field of interest, for example:"
   ]
  },
  {
   "cell_type": "code",
   "execution_count": 6,
   "metadata": {
    "collapsed": false
   },
   "outputs": [
    {
     "data": {
      "text/html": [
       "<div>\n",
       "<table border=\"1\" class=\"dataframe\">\n",
       "  <thead>\n",
       "    <tr style=\"text-align: right;\">\n",
       "      <th></th>\n",
       "      <th>Hugo_Symbol</th>\n",
       "      <th>n</th>\n",
       "    </tr>\n",
       "  </thead>\n",
       "  <tbody>\n",
       "    <tr>\n",
       "      <th>0</th>\n",
       "      <td>Unknown</td>\n",
       "      <td>66354</td>\n",
       "    </tr>\n",
       "    <tr>\n",
       "      <th>1</th>\n",
       "      <td>TTN</td>\n",
       "      <td>24171</td>\n",
       "    </tr>\n",
       "    <tr>\n",
       "      <th>2</th>\n",
       "      <td>MUC16</td>\n",
       "      <td>15058</td>\n",
       "    </tr>\n",
       "    <tr>\n",
       "      <th>3</th>\n",
       "      <td>FLG</td>\n",
       "      <td>13068</td>\n",
       "    </tr>\n",
       "    <tr>\n",
       "      <th>4</th>\n",
       "      <td>OBSCN</td>\n",
       "      <td>7986</td>\n",
       "    </tr>\n",
       "  </tbody>\n",
       "</table>\n",
       "</div>"
      ],
      "text/plain": [
       "  Hugo_Symbol      n\n",
       "0     Unknown  66354\n",
       "1         TTN  24171\n",
       "2       MUC16  15058\n",
       "3         FLG  13068\n",
       "4       OBSCN   7986"
      ]
     },
     "execution_count": 6,
     "metadata": {},
     "output_type": "execute_result"
    }
   ],
   "source": [
    "bq.Query(top_5_values,t=somatic_mutations_BQtable,f=somatic_mutations_BQtable.schema['Hugo_Symbol']).results().to_dataframe()"
   ]
  },
  {
   "cell_type": "code",
   "execution_count": 7,
   "metadata": {
    "collapsed": false
   },
   "outputs": [
    {
     "data": {
      "text/html": [
       "<div>\n",
       "<table border=\"1\" class=\"dataframe\">\n",
       "  <thead>\n",
       "    <tr style=\"text-align: right;\">\n",
       "      <th></th>\n",
       "      <th>Center</th>\n",
       "      <th>n</th>\n",
       "    </tr>\n",
       "  </thead>\n",
       "  <tbody>\n",
       "    <tr>\n",
       "      <th>0</th>\n",
       "      <td>broad.mit.edu</td>\n",
       "      <td>3998891</td>\n",
       "    </tr>\n",
       "    <tr>\n",
       "      <th>1</th>\n",
       "      <td>bcgsc.ca</td>\n",
       "      <td>646933</td>\n",
       "    </tr>\n",
       "    <tr>\n",
       "      <th>2</th>\n",
       "      <td>hgsc.bcm.edu</td>\n",
       "      <td>485994</td>\n",
       "    </tr>\n",
       "    <tr>\n",
       "      <th>3</th>\n",
       "      <td>genome.wustl.edu</td>\n",
       "      <td>374934</td>\n",
       "    </tr>\n",
       "    <tr>\n",
       "      <th>4</th>\n",
       "      <td>ucsc.edu</td>\n",
       "      <td>190786</td>\n",
       "    </tr>\n",
       "  </tbody>\n",
       "</table>\n",
       "</div>"
      ],
      "text/plain": [
       "             Center        n\n",
       "0     broad.mit.edu  3998891\n",
       "1          bcgsc.ca   646933\n",
       "2      hgsc.bcm.edu   485994\n",
       "3  genome.wustl.edu   374934\n",
       "4          ucsc.edu   190786"
      ]
     },
     "execution_count": 7,
     "metadata": {},
     "output_type": "execute_result"
    }
   ],
   "source": [
    "bq.Query(top_5_values,t=somatic_mutations_BQtable,f=somatic_mutations_BQtable.schema['Center']).results().to_dataframe()"
   ]
  },
  {
   "cell_type": "code",
   "execution_count": 8,
   "metadata": {
    "collapsed": false
   },
   "outputs": [
    {
     "data": {
      "text/html": [
       "<div>\n",
       "<table border=\"1\" class=\"dataframe\">\n",
       "  <thead>\n",
       "    <tr style=\"text-align: right;\">\n",
       "      <th></th>\n",
       "      <th>Mutation_Status</th>\n",
       "      <th>n</th>\n",
       "    </tr>\n",
       "  </thead>\n",
       "  <tbody>\n",
       "    <tr>\n",
       "      <th>0</th>\n",
       "      <td>Somatic</td>\n",
       "      <td>5813176</td>\n",
       "    </tr>\n",
       "  </tbody>\n",
       "</table>\n",
       "</div>"
      ],
      "text/plain": [
       "  Mutation_Status        n\n",
       "0         Somatic  5813176"
      ]
     },
     "execution_count": 8,
     "metadata": {},
     "output_type": "execute_result"
    }
   ],
   "source": [
    "bq.Query(top_5_values,t=somatic_mutations_BQtable,f=somatic_mutations_BQtable.schema['Mutation_Status']).results().to_dataframe()"
   ]
  },
  {
   "cell_type": "code",
   "execution_count": 9,
   "metadata": {
    "collapsed": false
   },
   "outputs": [
    {
     "data": {
      "text/html": [
       "<div>\n",
       "<table border=\"1\" class=\"dataframe\">\n",
       "  <thead>\n",
       "    <tr style=\"text-align: right;\">\n",
       "      <th></th>\n",
       "      <th>Protein_Change</th>\n",
       "      <th>n</th>\n",
       "    </tr>\n",
       "  </thead>\n",
       "  <tbody>\n",
       "    <tr>\n",
       "      <th>0</th>\n",
       "      <td>p.M1I</td>\n",
       "      <td>2352</td>\n",
       "    </tr>\n",
       "    <tr>\n",
       "      <th>1</th>\n",
       "      <td>p.V600E</td>\n",
       "      <td>1243</td>\n",
       "    </tr>\n",
       "    <tr>\n",
       "      <th>2</th>\n",
       "      <td>p.R132H</td>\n",
       "      <td>1042</td>\n",
       "    </tr>\n",
       "    <tr>\n",
       "      <th>3</th>\n",
       "      <td>p.E545K</td>\n",
       "      <td>624</td>\n",
       "    </tr>\n",
       "    <tr>\n",
       "      <th>4</th>\n",
       "      <td>p.M1V</td>\n",
       "      <td>553</td>\n",
       "    </tr>\n",
       "  </tbody>\n",
       "</table>\n",
       "</div>"
      ],
      "text/plain": [
       "  Protein_Change     n\n",
       "0          p.M1I  2352\n",
       "1        p.V600E  1243\n",
       "2        p.R132H  1042\n",
       "3        p.E545K   624\n",
       "4          p.M1V   553"
      ]
     },
     "execution_count": 9,
     "metadata": {},
     "output_type": "execute_result"
    }
   ],
   "source": [
    "bq.Query(top_5_values,t=somatic_mutations_BQtable,f=somatic_mutations_BQtable.schema['Protein_Change']).results().to_dataframe()"
   ]
  },
  {
   "cell_type": "markdown",
   "metadata": {},
   "source": [
    "Everyone probably recognizes the **V600E** mutation in the previous result, so let's use that well-known BRAF mutation as a way to explore what other information is available in this table."
   ]
  },
  {
   "cell_type": "code",
   "execution_count": 10,
   "metadata": {
    "collapsed": false
   },
   "outputs": [],
   "source": [
    "%%sql --module find_BRAF_V600E\n",
    "\n",
    "SELECT\n",
    "  Tumor_SampleBarcode,\n",
    "  Study,\n",
    "  Hugo_Symbol,\n",
    "  Genome_Change,\n",
    "  Protein_Change\n",
    "FROM\n",
    "  $t\n",
    "WHERE\n",
    "  ( Hugo_Symbol=\"BRAF\"\n",
    "    AND Protein_Change=\"p.V600E\" )\n",
    "GROUP BY\n",
    "  Tumor_SampleBarcode,\n",
    "  Study,\n",
    "  Hugo_Symbol,\n",
    "  Genome_Change,\n",
    "  Protein_Change\n",
    "ORDER BY\n",
    "  Study,\n",
    "  Tumor_SampleBarcode"
   ]
  },
  {
   "cell_type": "code",
   "execution_count": 11,
   "metadata": {
    "collapsed": false
   },
   "outputs": [
    {
     "data": {
      "text/html": [
       "<div>\n",
       "<table border=\"1\" class=\"dataframe\">\n",
       "  <thead>\n",
       "    <tr style=\"text-align: right;\">\n",
       "      <th></th>\n",
       "      <th>Tumor_SampleBarcode</th>\n",
       "      <th>Study</th>\n",
       "      <th>Hugo_Symbol</th>\n",
       "      <th>Genome_Change</th>\n",
       "      <th>Protein_Change</th>\n",
       "    </tr>\n",
       "  </thead>\n",
       "  <tbody>\n",
       "    <tr>\n",
       "      <th>0</th>\n",
       "      <td>TCGA-YF-AA3L-01A</td>\n",
       "      <td>BLCA</td>\n",
       "      <td>BRAF</td>\n",
       "      <td>g.chr7:140453136A&gt;T</td>\n",
       "      <td>p.V600E</td>\n",
       "    </tr>\n",
       "    <tr>\n",
       "      <th>1</th>\n",
       "      <td>TCGA-ZU-A8S4-01A</td>\n",
       "      <td>CHOL</td>\n",
       "      <td>BRAF</td>\n",
       "      <td>g.chr7:140453136A&gt;T</td>\n",
       "      <td>p.V600E</td>\n",
       "    </tr>\n",
       "    <tr>\n",
       "      <th>2</th>\n",
       "      <td>TCGA-A6-5661-01A</td>\n",
       "      <td>COAD</td>\n",
       "      <td>BRAF</td>\n",
       "      <td>g.chr7:140453136A&gt;T</td>\n",
       "      <td>p.V600E</td>\n",
       "    </tr>\n",
       "    <tr>\n",
       "      <th>3</th>\n",
       "      <td>TCGA-A6-5665-01A</td>\n",
       "      <td>COAD</td>\n",
       "      <td>BRAF</td>\n",
       "      <td>g.chr7:140453136A&gt;T</td>\n",
       "      <td>p.V600E</td>\n",
       "    </tr>\n",
       "    <tr>\n",
       "      <th>4</th>\n",
       "      <td>TCGA-A6-6649-01A</td>\n",
       "      <td>COAD</td>\n",
       "      <td>BRAF</td>\n",
       "      <td>g.chr7:140453136A&gt;T</td>\n",
       "      <td>p.V600E</td>\n",
       "    </tr>\n",
       "    <tr>\n",
       "      <th>5</th>\n",
       "      <td>TCGA-A6-6653-01A</td>\n",
       "      <td>COAD</td>\n",
       "      <td>BRAF</td>\n",
       "      <td>g.chr7:140453136A&gt;T</td>\n",
       "      <td>p.V600E</td>\n",
       "    </tr>\n",
       "    <tr>\n",
       "      <th>6</th>\n",
       "      <td>TCGA-AA-3492-01A</td>\n",
       "      <td>COAD</td>\n",
       "      <td>BRAF</td>\n",
       "      <td>g.chr7:140453136A&gt;T</td>\n",
       "      <td>p.V600E</td>\n",
       "    </tr>\n",
       "    <tr>\n",
       "      <th>7</th>\n",
       "      <td>TCGA-AA-3713-01A</td>\n",
       "      <td>COAD</td>\n",
       "      <td>BRAF</td>\n",
       "      <td>g.chr7:140453136A&gt;T</td>\n",
       "      <td>p.V600E</td>\n",
       "    </tr>\n",
       "    <tr>\n",
       "      <th>8</th>\n",
       "      <td>TCGA-AD-5900-01A</td>\n",
       "      <td>COAD</td>\n",
       "      <td>BRAF</td>\n",
       "      <td>g.chr7:140453136A&gt;T</td>\n",
       "      <td>p.V600E</td>\n",
       "    </tr>\n",
       "    <tr>\n",
       "      <th>9</th>\n",
       "      <td>TCGA-AD-6889-01A</td>\n",
       "      <td>COAD</td>\n",
       "      <td>BRAF</td>\n",
       "      <td>g.chr7:140453136A&gt;T</td>\n",
       "      <td>p.V600E</td>\n",
       "    </tr>\n",
       "    <tr>\n",
       "      <th>10</th>\n",
       "      <td>TCGA-AM-5820-01A</td>\n",
       "      <td>COAD</td>\n",
       "      <td>BRAF</td>\n",
       "      <td>g.chr7:140453136A&gt;T</td>\n",
       "      <td>p.V600E</td>\n",
       "    </tr>\n",
       "    <tr>\n",
       "      <th>11</th>\n",
       "      <td>TCGA-AY-6196-01A</td>\n",
       "      <td>COAD</td>\n",
       "      <td>BRAF</td>\n",
       "      <td>g.chr7:140453136A&gt;T</td>\n",
       "      <td>p.V600E</td>\n",
       "    </tr>\n",
       "    <tr>\n",
       "      <th>12</th>\n",
       "      <td>TCGA-AZ-4615-01A</td>\n",
       "      <td>COAD</td>\n",
       "      <td>BRAF</td>\n",
       "      <td>g.chr7:140453136A&gt;T</td>\n",
       "      <td>p.V600E</td>\n",
       "    </tr>\n",
       "    <tr>\n",
       "      <th>13</th>\n",
       "      <td>TCGA-AZ-6598-01A</td>\n",
       "      <td>COAD</td>\n",
       "      <td>BRAF</td>\n",
       "      <td>g.chr7:140453136A&gt;T</td>\n",
       "      <td>p.V600E</td>\n",
       "    </tr>\n",
       "    <tr>\n",
       "      <th>14</th>\n",
       "      <td>TCGA-CM-5861-01A</td>\n",
       "      <td>COAD</td>\n",
       "      <td>BRAF</td>\n",
       "      <td>g.chr7:140453136A&gt;T</td>\n",
       "      <td>p.V600E</td>\n",
       "    </tr>\n",
       "    <tr>\n",
       "      <th>15</th>\n",
       "      <td>TCGA-CM-6171-01A</td>\n",
       "      <td>COAD</td>\n",
       "      <td>BRAF</td>\n",
       "      <td>g.chr7:140453136A&gt;T</td>\n",
       "      <td>p.V600E</td>\n",
       "    </tr>\n",
       "    <tr>\n",
       "      <th>16</th>\n",
       "      <td>TCGA-D5-6534-01A</td>\n",
       "      <td>COAD</td>\n",
       "      <td>BRAF</td>\n",
       "      <td>g.chr7:140453136A&gt;T</td>\n",
       "      <td>p.V600E</td>\n",
       "    </tr>\n",
       "    <tr>\n",
       "      <th>17</th>\n",
       "      <td>TCGA-D5-6540-01A</td>\n",
       "      <td>COAD</td>\n",
       "      <td>BRAF</td>\n",
       "      <td>g.chr7:140453136A&gt;T</td>\n",
       "      <td>p.V600E</td>\n",
       "    </tr>\n",
       "    <tr>\n",
       "      <th>18</th>\n",
       "      <td>TCGA-D5-6928-01A</td>\n",
       "      <td>COAD</td>\n",
       "      <td>BRAF</td>\n",
       "      <td>g.chr7:140453136A&gt;T</td>\n",
       "      <td>p.V600E</td>\n",
       "    </tr>\n",
       "    <tr>\n",
       "      <th>19</th>\n",
       "      <td>TCGA-D5-6930-01A</td>\n",
       "      <td>COAD</td>\n",
       "      <td>BRAF</td>\n",
       "      <td>g.chr7:140453136A&gt;T</td>\n",
       "      <td>p.V600E</td>\n",
       "    </tr>\n",
       "    <tr>\n",
       "      <th>20</th>\n",
       "      <td>TCGA-F4-6570-01A</td>\n",
       "      <td>COAD</td>\n",
       "      <td>BRAF</td>\n",
       "      <td>g.chr7:140453136A&gt;T</td>\n",
       "      <td>p.V600E</td>\n",
       "    </tr>\n",
       "    <tr>\n",
       "      <th>21</th>\n",
       "      <td>TCGA-G4-6299-01A</td>\n",
       "      <td>COAD</td>\n",
       "      <td>BRAF</td>\n",
       "      <td>g.chr7:140453136A&gt;T</td>\n",
       "      <td>p.V600E</td>\n",
       "    </tr>\n",
       "    <tr>\n",
       "      <th>22</th>\n",
       "      <td>TCGA-G4-6302-01A</td>\n",
       "      <td>COAD</td>\n",
       "      <td>BRAF</td>\n",
       "      <td>g.chr7:140453136A&gt;T</td>\n",
       "      <td>p.V600E</td>\n",
       "    </tr>\n",
       "    <tr>\n",
       "      <th>23</th>\n",
       "      <td>TCGA-G4-6321-01A</td>\n",
       "      <td>COAD</td>\n",
       "      <td>BRAF</td>\n",
       "      <td>g.chr7:140453136A&gt;T</td>\n",
       "      <td>p.V600E</td>\n",
       "    </tr>\n",
       "    <tr>\n",
       "      <th>24</th>\n",
       "      <td>TCGA-G4-6586-01A</td>\n",
       "      <td>COAD</td>\n",
       "      <td>BRAF</td>\n",
       "      <td>g.chr7:140453136A&gt;T</td>\n",
       "      <td>p.V600E</td>\n",
       "    </tr>\n",
       "    <tr>\n",
       "      <th>25</th>\n",
       "      <td>TCGA-G4-6588-01A</td>\n",
       "      <td>COAD</td>\n",
       "      <td>BRAF</td>\n",
       "      <td>g.chr7:140453136A&gt;T</td>\n",
       "      <td>p.V600E</td>\n",
       "    </tr>\n",
       "    <tr>\n",
       "      <th>26</th>\n",
       "      <td>TCGA-G4-6628-01A</td>\n",
       "      <td>COAD</td>\n",
       "      <td>BRAF</td>\n",
       "      <td>g.chr7:140453136A&gt;T</td>\n",
       "      <td>p.V600E</td>\n",
       "    </tr>\n",
       "    <tr>\n",
       "      <th>27</th>\n",
       "      <td>TCGA-06-0151-01A</td>\n",
       "      <td>GBM</td>\n",
       "      <td>BRAF</td>\n",
       "      <td>g.chr7:140453136A&gt;T</td>\n",
       "      <td>p.V600E</td>\n",
       "    </tr>\n",
       "    <tr>\n",
       "      <th>28</th>\n",
       "      <td>TCGA-06-0644-01A</td>\n",
       "      <td>GBM</td>\n",
       "      <td>BRAF</td>\n",
       "      <td>g.chr7:140453136A&gt;T</td>\n",
       "      <td>p.V600E</td>\n",
       "    </tr>\n",
       "    <tr>\n",
       "      <th>29</th>\n",
       "      <td>TCGA-06-1806-01A</td>\n",
       "      <td>GBM</td>\n",
       "      <td>BRAF</td>\n",
       "      <td>g.chr7:140453136A&gt;T</td>\n",
       "      <td>p.V600E</td>\n",
       "    </tr>\n",
       "    <tr>\n",
       "      <th>...</th>\n",
       "      <td>...</td>\n",
       "      <td>...</td>\n",
       "      <td>...</td>\n",
       "      <td>...</td>\n",
       "      <td>...</td>\n",
       "    </tr>\n",
       "    <tr>\n",
       "      <th>446</th>\n",
       "      <td>TCGA-FY-A3RA-01A</td>\n",
       "      <td>THCA</td>\n",
       "      <td>BRAF</td>\n",
       "      <td>g.chr7:140453136A&gt;T</td>\n",
       "      <td>p.V600E</td>\n",
       "    </tr>\n",
       "    <tr>\n",
       "      <th>447</th>\n",
       "      <td>TCGA-FY-A40K-01A</td>\n",
       "      <td>THCA</td>\n",
       "      <td>BRAF</td>\n",
       "      <td>g.chr7:140453136A&gt;T</td>\n",
       "      <td>p.V600E</td>\n",
       "    </tr>\n",
       "    <tr>\n",
       "      <th>448</th>\n",
       "      <td>TCGA-FY-A4B3-01A</td>\n",
       "      <td>THCA</td>\n",
       "      <td>BRAF</td>\n",
       "      <td>g.chr7:140453136A&gt;T</td>\n",
       "      <td>p.V600E</td>\n",
       "    </tr>\n",
       "    <tr>\n",
       "      <th>449</th>\n",
       "      <td>TCGA-GE-A2C6-01A</td>\n",
       "      <td>THCA</td>\n",
       "      <td>BRAF</td>\n",
       "      <td>g.chr7:140453136A&gt;T</td>\n",
       "      <td>p.V600E</td>\n",
       "    </tr>\n",
       "    <tr>\n",
       "      <th>450</th>\n",
       "      <td>TCGA-H2-A26U-01A</td>\n",
       "      <td>THCA</td>\n",
       "      <td>BRAF</td>\n",
       "      <td>g.chr7:140453136A&gt;T</td>\n",
       "      <td>p.V600E</td>\n",
       "    </tr>\n",
       "    <tr>\n",
       "      <th>451</th>\n",
       "      <td>TCGA-H2-A3RI-01A</td>\n",
       "      <td>THCA</td>\n",
       "      <td>BRAF</td>\n",
       "      <td>g.chr7:140453136A&gt;T</td>\n",
       "      <td>p.V600E</td>\n",
       "    </tr>\n",
       "    <tr>\n",
       "      <th>452</th>\n",
       "      <td>TCGA-H2-A421-01A</td>\n",
       "      <td>THCA</td>\n",
       "      <td>BRAF</td>\n",
       "      <td>g.chr7:140453136A&gt;T</td>\n",
       "      <td>p.V600E</td>\n",
       "    </tr>\n",
       "    <tr>\n",
       "      <th>453</th>\n",
       "      <td>TCGA-IM-A3EB-01A</td>\n",
       "      <td>THCA</td>\n",
       "      <td>BRAF</td>\n",
       "      <td>g.chr7:140453136A&gt;T</td>\n",
       "      <td>p.V600E</td>\n",
       "    </tr>\n",
       "    <tr>\n",
       "      <th>454</th>\n",
       "      <td>TCGA-IM-A3ED-01A</td>\n",
       "      <td>THCA</td>\n",
       "      <td>BRAF</td>\n",
       "      <td>g.chr7:140453136A&gt;T</td>\n",
       "      <td>p.V600E</td>\n",
       "    </tr>\n",
       "    <tr>\n",
       "      <th>455</th>\n",
       "      <td>TCGA-IM-A3U2-01A</td>\n",
       "      <td>THCA</td>\n",
       "      <td>BRAF</td>\n",
       "      <td>g.chr7:140453136A&gt;T</td>\n",
       "      <td>p.V600E</td>\n",
       "    </tr>\n",
       "    <tr>\n",
       "      <th>456</th>\n",
       "      <td>TCGA-IM-A3U3-01A</td>\n",
       "      <td>THCA</td>\n",
       "      <td>BRAF</td>\n",
       "      <td>g.chr7:140453136A&gt;T</td>\n",
       "      <td>p.V600E</td>\n",
       "    </tr>\n",
       "    <tr>\n",
       "      <th>457</th>\n",
       "      <td>TCGA-J8-A3NZ-01A</td>\n",
       "      <td>THCA</td>\n",
       "      <td>BRAF</td>\n",
       "      <td>g.chr7:140453136A&gt;T</td>\n",
       "      <td>p.V600E</td>\n",
       "    </tr>\n",
       "    <tr>\n",
       "      <th>458</th>\n",
       "      <td>TCGA-J8-A3O2-01A</td>\n",
       "      <td>THCA</td>\n",
       "      <td>BRAF</td>\n",
       "      <td>g.chr7:140453136A&gt;T</td>\n",
       "      <td>p.V600E</td>\n",
       "    </tr>\n",
       "    <tr>\n",
       "      <th>459</th>\n",
       "      <td>TCGA-J8-A3YD-01A</td>\n",
       "      <td>THCA</td>\n",
       "      <td>BRAF</td>\n",
       "      <td>g.chr7:140453136A&gt;T</td>\n",
       "      <td>p.V600E</td>\n",
       "    </tr>\n",
       "    <tr>\n",
       "      <th>460</th>\n",
       "      <td>TCGA-J8-A3YE-01A</td>\n",
       "      <td>THCA</td>\n",
       "      <td>BRAF</td>\n",
       "      <td>g.chr7:140453136A&gt;T</td>\n",
       "      <td>p.V600E</td>\n",
       "    </tr>\n",
       "    <tr>\n",
       "      <th>461</th>\n",
       "      <td>TCGA-J8-A3YF-01A</td>\n",
       "      <td>THCA</td>\n",
       "      <td>BRAF</td>\n",
       "      <td>g.chr7:140453136A&gt;T</td>\n",
       "      <td>p.V600E</td>\n",
       "    </tr>\n",
       "    <tr>\n",
       "      <th>462</th>\n",
       "      <td>TCGA-J8-A3YH-01A</td>\n",
       "      <td>THCA</td>\n",
       "      <td>BRAF</td>\n",
       "      <td>g.chr7:140453136A&gt;T</td>\n",
       "      <td>p.V600E</td>\n",
       "    </tr>\n",
       "    <tr>\n",
       "      <th>463</th>\n",
       "      <td>TCGA-J8-A3YH-06A</td>\n",
       "      <td>THCA</td>\n",
       "      <td>BRAF</td>\n",
       "      <td>g.chr7:140453136A&gt;T</td>\n",
       "      <td>p.V600E</td>\n",
       "    </tr>\n",
       "    <tr>\n",
       "      <th>464</th>\n",
       "      <td>TCGA-KS-A41J-01A</td>\n",
       "      <td>THCA</td>\n",
       "      <td>BRAF</td>\n",
       "      <td>g.chr7:140453136A&gt;T</td>\n",
       "      <td>p.V600E</td>\n",
       "    </tr>\n",
       "    <tr>\n",
       "      <th>465</th>\n",
       "      <td>TCGA-KS-A4I1-01A</td>\n",
       "      <td>THCA</td>\n",
       "      <td>BRAF</td>\n",
       "      <td>g.chr7:140453136A&gt;T</td>\n",
       "      <td>p.V600E</td>\n",
       "    </tr>\n",
       "    <tr>\n",
       "      <th>466</th>\n",
       "      <td>TCGA-KS-A4I5-01A</td>\n",
       "      <td>THCA</td>\n",
       "      <td>BRAF</td>\n",
       "      <td>g.chr7:140453136A&gt;T</td>\n",
       "      <td>p.V600E</td>\n",
       "    </tr>\n",
       "    <tr>\n",
       "      <th>467</th>\n",
       "      <td>TCGA-KS-A4I9-01A</td>\n",
       "      <td>THCA</td>\n",
       "      <td>BRAF</td>\n",
       "      <td>g.chr7:140453136A&gt;T</td>\n",
       "      <td>p.V600E</td>\n",
       "    </tr>\n",
       "    <tr>\n",
       "      <th>468</th>\n",
       "      <td>TCGA-KS-A4IB-01A</td>\n",
       "      <td>THCA</td>\n",
       "      <td>BRAF</td>\n",
       "      <td>g.chr7:140453136A&gt;T</td>\n",
       "      <td>p.V600E</td>\n",
       "    </tr>\n",
       "    <tr>\n",
       "      <th>469</th>\n",
       "      <td>TCGA-L6-A4EP-01A</td>\n",
       "      <td>THCA</td>\n",
       "      <td>BRAF</td>\n",
       "      <td>g.chr7:140453136A&gt;T</td>\n",
       "      <td>p.V600E</td>\n",
       "    </tr>\n",
       "    <tr>\n",
       "      <th>470</th>\n",
       "      <td>TCGA-L6-A4EQ-01A</td>\n",
       "      <td>THCA</td>\n",
       "      <td>BRAF</td>\n",
       "      <td>g.chr7:140453136A&gt;T</td>\n",
       "      <td>p.V600E</td>\n",
       "    </tr>\n",
       "    <tr>\n",
       "      <th>471</th>\n",
       "      <td>TCGA-L6-A4ET-01A</td>\n",
       "      <td>THCA</td>\n",
       "      <td>BRAF</td>\n",
       "      <td>g.chr7:140453136A&gt;T</td>\n",
       "      <td>p.V600E</td>\n",
       "    </tr>\n",
       "    <tr>\n",
       "      <th>472</th>\n",
       "      <td>TCGA-L6-A4EU-01A</td>\n",
       "      <td>THCA</td>\n",
       "      <td>BRAF</td>\n",
       "      <td>g.chr7:140453136A&gt;T</td>\n",
       "      <td>p.V600E</td>\n",
       "    </tr>\n",
       "    <tr>\n",
       "      <th>473</th>\n",
       "      <td>TCGA-MK-A4N6-01A</td>\n",
       "      <td>THCA</td>\n",
       "      <td>BRAF</td>\n",
       "      <td>g.chr7:140453136A&gt;T</td>\n",
       "      <td>p.V600E</td>\n",
       "    </tr>\n",
       "    <tr>\n",
       "      <th>474</th>\n",
       "      <td>TCGA-MK-A4N7-01A</td>\n",
       "      <td>THCA</td>\n",
       "      <td>BRAF</td>\n",
       "      <td>g.chr7:140453136A&gt;T</td>\n",
       "      <td>p.V600E</td>\n",
       "    </tr>\n",
       "    <tr>\n",
       "      <th>475</th>\n",
       "      <td>TCGA-MK-A4N9-01A</td>\n",
       "      <td>THCA</td>\n",
       "      <td>BRAF</td>\n",
       "      <td>g.chr7:140453136A&gt;T</td>\n",
       "      <td>p.V600E</td>\n",
       "    </tr>\n",
       "  </tbody>\n",
       "</table>\n",
       "<p>476 rows × 5 columns</p>\n",
       "</div>"
      ],
      "text/plain": [
       "    Tumor_SampleBarcode Study Hugo_Symbol        Genome_Change Protein_Change\n",
       "0      TCGA-YF-AA3L-01A  BLCA        BRAF  g.chr7:140453136A>T        p.V600E\n",
       "1      TCGA-ZU-A8S4-01A  CHOL        BRAF  g.chr7:140453136A>T        p.V600E\n",
       "2      TCGA-A6-5661-01A  COAD        BRAF  g.chr7:140453136A>T        p.V600E\n",
       "3      TCGA-A6-5665-01A  COAD        BRAF  g.chr7:140453136A>T        p.V600E\n",
       "4      TCGA-A6-6649-01A  COAD        BRAF  g.chr7:140453136A>T        p.V600E\n",
       "5      TCGA-A6-6653-01A  COAD        BRAF  g.chr7:140453136A>T        p.V600E\n",
       "6      TCGA-AA-3492-01A  COAD        BRAF  g.chr7:140453136A>T        p.V600E\n",
       "7      TCGA-AA-3713-01A  COAD        BRAF  g.chr7:140453136A>T        p.V600E\n",
       "8      TCGA-AD-5900-01A  COAD        BRAF  g.chr7:140453136A>T        p.V600E\n",
       "9      TCGA-AD-6889-01A  COAD        BRAF  g.chr7:140453136A>T        p.V600E\n",
       "10     TCGA-AM-5820-01A  COAD        BRAF  g.chr7:140453136A>T        p.V600E\n",
       "11     TCGA-AY-6196-01A  COAD        BRAF  g.chr7:140453136A>T        p.V600E\n",
       "12     TCGA-AZ-4615-01A  COAD        BRAF  g.chr7:140453136A>T        p.V600E\n",
       "13     TCGA-AZ-6598-01A  COAD        BRAF  g.chr7:140453136A>T        p.V600E\n",
       "14     TCGA-CM-5861-01A  COAD        BRAF  g.chr7:140453136A>T        p.V600E\n",
       "15     TCGA-CM-6171-01A  COAD        BRAF  g.chr7:140453136A>T        p.V600E\n",
       "16     TCGA-D5-6534-01A  COAD        BRAF  g.chr7:140453136A>T        p.V600E\n",
       "17     TCGA-D5-6540-01A  COAD        BRAF  g.chr7:140453136A>T        p.V600E\n",
       "18     TCGA-D5-6928-01A  COAD        BRAF  g.chr7:140453136A>T        p.V600E\n",
       "19     TCGA-D5-6930-01A  COAD        BRAF  g.chr7:140453136A>T        p.V600E\n",
       "20     TCGA-F4-6570-01A  COAD        BRAF  g.chr7:140453136A>T        p.V600E\n",
       "21     TCGA-G4-6299-01A  COAD        BRAF  g.chr7:140453136A>T        p.V600E\n",
       "22     TCGA-G4-6302-01A  COAD        BRAF  g.chr7:140453136A>T        p.V600E\n",
       "23     TCGA-G4-6321-01A  COAD        BRAF  g.chr7:140453136A>T        p.V600E\n",
       "24     TCGA-G4-6586-01A  COAD        BRAF  g.chr7:140453136A>T        p.V600E\n",
       "25     TCGA-G4-6588-01A  COAD        BRAF  g.chr7:140453136A>T        p.V600E\n",
       "26     TCGA-G4-6628-01A  COAD        BRAF  g.chr7:140453136A>T        p.V600E\n",
       "27     TCGA-06-0151-01A   GBM        BRAF  g.chr7:140453136A>T        p.V600E\n",
       "28     TCGA-06-0644-01A   GBM        BRAF  g.chr7:140453136A>T        p.V600E\n",
       "29     TCGA-06-1806-01A   GBM        BRAF  g.chr7:140453136A>T        p.V600E\n",
       "..                  ...   ...         ...                  ...            ...\n",
       "446    TCGA-FY-A3RA-01A  THCA        BRAF  g.chr7:140453136A>T        p.V600E\n",
       "447    TCGA-FY-A40K-01A  THCA        BRAF  g.chr7:140453136A>T        p.V600E\n",
       "448    TCGA-FY-A4B3-01A  THCA        BRAF  g.chr7:140453136A>T        p.V600E\n",
       "449    TCGA-GE-A2C6-01A  THCA        BRAF  g.chr7:140453136A>T        p.V600E\n",
       "450    TCGA-H2-A26U-01A  THCA        BRAF  g.chr7:140453136A>T        p.V600E\n",
       "451    TCGA-H2-A3RI-01A  THCA        BRAF  g.chr7:140453136A>T        p.V600E\n",
       "452    TCGA-H2-A421-01A  THCA        BRAF  g.chr7:140453136A>T        p.V600E\n",
       "453    TCGA-IM-A3EB-01A  THCA        BRAF  g.chr7:140453136A>T        p.V600E\n",
       "454    TCGA-IM-A3ED-01A  THCA        BRAF  g.chr7:140453136A>T        p.V600E\n",
       "455    TCGA-IM-A3U2-01A  THCA        BRAF  g.chr7:140453136A>T        p.V600E\n",
       "456    TCGA-IM-A3U3-01A  THCA        BRAF  g.chr7:140453136A>T        p.V600E\n",
       "457    TCGA-J8-A3NZ-01A  THCA        BRAF  g.chr7:140453136A>T        p.V600E\n",
       "458    TCGA-J8-A3O2-01A  THCA        BRAF  g.chr7:140453136A>T        p.V600E\n",
       "459    TCGA-J8-A3YD-01A  THCA        BRAF  g.chr7:140453136A>T        p.V600E\n",
       "460    TCGA-J8-A3YE-01A  THCA        BRAF  g.chr7:140453136A>T        p.V600E\n",
       "461    TCGA-J8-A3YF-01A  THCA        BRAF  g.chr7:140453136A>T        p.V600E\n",
       "462    TCGA-J8-A3YH-01A  THCA        BRAF  g.chr7:140453136A>T        p.V600E\n",
       "463    TCGA-J8-A3YH-06A  THCA        BRAF  g.chr7:140453136A>T        p.V600E\n",
       "464    TCGA-KS-A41J-01A  THCA        BRAF  g.chr7:140453136A>T        p.V600E\n",
       "465    TCGA-KS-A4I1-01A  THCA        BRAF  g.chr7:140453136A>T        p.V600E\n",
       "466    TCGA-KS-A4I5-01A  THCA        BRAF  g.chr7:140453136A>T        p.V600E\n",
       "467    TCGA-KS-A4I9-01A  THCA        BRAF  g.chr7:140453136A>T        p.V600E\n",
       "468    TCGA-KS-A4IB-01A  THCA        BRAF  g.chr7:140453136A>T        p.V600E\n",
       "469    TCGA-L6-A4EP-01A  THCA        BRAF  g.chr7:140453136A>T        p.V600E\n",
       "470    TCGA-L6-A4EQ-01A  THCA        BRAF  g.chr7:140453136A>T        p.V600E\n",
       "471    TCGA-L6-A4ET-01A  THCA        BRAF  g.chr7:140453136A>T        p.V600E\n",
       "472    TCGA-L6-A4EU-01A  THCA        BRAF  g.chr7:140453136A>T        p.V600E\n",
       "473    TCGA-MK-A4N6-01A  THCA        BRAF  g.chr7:140453136A>T        p.V600E\n",
       "474    TCGA-MK-A4N7-01A  THCA        BRAF  g.chr7:140453136A>T        p.V600E\n",
       "475    TCGA-MK-A4N9-01A  THCA        BRAF  g.chr7:140453136A>T        p.V600E\n",
       "\n",
       "[476 rows x 5 columns]"
      ]
     },
     "execution_count": 11,
     "metadata": {},
     "output_type": "execute_result"
    }
   ],
   "source": [
    "r = bq.Query(find_BRAF_V600E,t=somatic_mutations_BQtable).results()\n",
    "r.to_dataframe()"
   ]
  },
  {
   "cell_type": "markdown",
   "metadata": {},
   "source": [
    "Let's count these mutations up by study (tumor-type):"
   ]
  },
  {
   "cell_type": "code",
   "execution_count": 12,
   "metadata": {
    "collapsed": false
   },
   "outputs": [
    {
     "data": {
      "text/html": [
       "\n",
       "    <div class=\"bqtv\" id=\"2_146379232472\"><table><tr><th>Study</th><th>n</th></tr><tr><td>THCA</td><td>261</td></tr><tr><td>SKCM</td><td>171</td></tr><tr><td>COAD</td><td>25</td></tr><tr><td>LUAD</td><td>8</td></tr><tr><td>GBM</td><td>4</td></tr><tr><td>LGG</td><td>2</td></tr></table></div>\n",
       "    <br />(rows: 6, time: 0.9s,     2KB processed, job: job_l0DUDSi0W5SN4MF4_GuzGiTnfdU)<br />\n",
       "    <script>\n",
       "      require(['extensions/charting', 'element!2_146379232472', 'style!/static/extensions/charting.css'],\n",
       "        function(charts, dom) {\n",
       "          charts.render(dom,\n",
       "            {\n",
       "              chartStyle:\"table\",\n",
       "              dataName:\"0\",\n",
       "              fields:\"Study,n\",\n",
       "              totalRows:6,\n",
       "              rowsPerPage:25,\n",
       "            }, {}, {\"rows\": [{\"c\": [{\"v\": \"THCA\"}, {\"v\": 261}]}, {\"c\": [{\"v\": \"SKCM\"}, {\"v\": 171}]}, {\"c\": [{\"v\": \"COAD\"}, {\"v\": 25}]}, {\"c\": [{\"v\": \"LUAD\"}, {\"v\": 8}]}, {\"c\": [{\"v\": \"GBM\"}, {\"v\": 4}]}, {\"c\": [{\"v\": \"LGG\"}, {\"v\": 2}]}], \"cols\": [{\"type\": \"string\", \"id\": \"Study\", \"label\": \"Study\"}, {\"type\": \"number\", \"id\": \"n\", \"label\": \"n\"}]});\n",
       "        }\n",
       "      );\n",
       "    </script>\n",
       "  "
      ],
      "text/plain": [
       "QueryResultsTable job_l0DUDSi0W5SN4MF4_GuzGiTnfdU"
      ]
     },
     "execution_count": 12,
     "metadata": {},
     "output_type": "execute_result"
    }
   ],
   "source": [
    "%%sql\n",
    "\n",
    "SELECT Study, COUNT(*) AS n\n",
    "FROM $r\n",
    "GROUP BY Study\n",
    "HAVING n > 1\n",
    "ORDER BY n DESC"
   ]
  },
  {
   "cell_type": "markdown",
   "metadata": {},
   "source": [
    "You may have noticed that in our earlier query, we did a GROUP BY to make sure that we didn't count the same mutation called on the same sample more than once.  We might want to GROUP BY patient instead to see if that changes our counts -- we may have multiple samples from some patients."
   ]
  },
  {
   "cell_type": "code",
   "execution_count": 13,
   "metadata": {
    "collapsed": true
   },
   "outputs": [],
   "source": [
    "%%sql --module find_BRAF_V600E_by_patient\n",
    "\n",
    "SELECT\n",
    "  ParticipantBarcode,\n",
    "  Study,\n",
    "  Hugo_Symbol,\n",
    "  Genome_Change,\n",
    "  Protein_Change\n",
    "FROM\n",
    "  $t\n",
    "WHERE\n",
    "  ( Hugo_Symbol=\"BRAF\"\n",
    "    AND Protein_Change=\"p.V600E\" )\n",
    "GROUP BY\n",
    "  ParticipantBarcode,\n",
    "  Study,\n",
    "  Hugo_Symbol,\n",
    "  Genome_Change,\n",
    "  Protein_Change\n",
    "ORDER BY\n",
    "  Study,\n",
    "  ParticipantBarcode"
   ]
  },
  {
   "cell_type": "code",
   "execution_count": 14,
   "metadata": {
    "collapsed": false
   },
   "outputs": [],
   "source": [
    "r = bq.Query(find_BRAF_V600E_by_patient,t=somatic_mutations_BQtable).results()"
   ]
  },
  {
   "cell_type": "code",
   "execution_count": 15,
   "metadata": {
    "collapsed": false
   },
   "outputs": [
    {
     "data": {
      "text/html": [
       "\n",
       "    <div class=\"bqtv\" id=\"3_146379232861\"><table><tr><th>Study</th><th>n</th></tr><tr><td>THCA</td><td>258</td></tr><tr><td>SKCM</td><td>170</td></tr><tr><td>COAD</td><td>25</td></tr><tr><td>LUAD</td><td>8</td></tr><tr><td>GBM</td><td>4</td></tr><tr><td>LGG</td><td>2</td></tr></table></div>\n",
       "    <br />(rows: 6, time: 1.6s,     2KB processed, job: job_Q8nj1dlWTfVhk3Kza6e4Z7cbZxY)<br />\n",
       "    <script>\n",
       "      require(['extensions/charting', 'element!3_146379232861', 'style!/static/extensions/charting.css'],\n",
       "        function(charts, dom) {\n",
       "          charts.render(dom,\n",
       "            {\n",
       "              chartStyle:\"table\",\n",
       "              dataName:\"1\",\n",
       "              fields:\"Study,n\",\n",
       "              totalRows:6,\n",
       "              rowsPerPage:25,\n",
       "            }, {}, {\"rows\": [{\"c\": [{\"v\": \"THCA\"}, {\"v\": 258}]}, {\"c\": [{\"v\": \"SKCM\"}, {\"v\": 170}]}, {\"c\": [{\"v\": \"COAD\"}, {\"v\": 25}]}, {\"c\": [{\"v\": \"LUAD\"}, {\"v\": 8}]}, {\"c\": [{\"v\": \"GBM\"}, {\"v\": 4}]}, {\"c\": [{\"v\": \"LGG\"}, {\"v\": 2}]}], \"cols\": [{\"type\": \"string\", \"id\": \"Study\", \"label\": \"Study\"}, {\"type\": \"number\", \"id\": \"n\", \"label\": \"n\"}]});\n",
       "        }\n",
       "      );\n",
       "    </script>\n",
       "  "
      ],
      "text/plain": [
       "QueryResultsTable job_Q8nj1dlWTfVhk3Kza6e4Z7cbZxY"
      ]
     },
     "execution_count": 15,
     "metadata": {},
     "output_type": "execute_result"
    }
   ],
   "source": [
    "%%sql\n",
    "\n",
    "SELECT Study, COUNT(*) AS n\n",
    "FROM $r\n",
    "GROUP BY Study\n",
    "HAVING n > 1\n",
    "ORDER BY n DESC"
   ]
  },
  {
   "cell_type": "markdown",
   "metadata": {},
   "source": [
    "When we counted the number of mutated samples, we found 261 THCA samples, but when we counted the number of patients, we found 258 THCA patients, so let's see what's going on there."
   ]
  },
  {
   "cell_type": "code",
   "execution_count": 16,
   "metadata": {
    "collapsed": false
   },
   "outputs": [
    {
     "data": {
      "text/html": [
       "\n",
       "    <div class=\"bqtv\" id=\"4_146379233028\"><table><tr><th>ParticipantBarcode</th><th>m</th></tr><tr><td>TCGA-EM-A2P1</td><td>2</td></tr><tr><td>TCGA-EM-A2CS</td><td>2</td></tr><tr><td>TCGA-J8-A3YH</td><td>2</td></tr></table></div>\n",
       "    <br />(rows: 3, time: 1.1s,   312MB processed, job: job_nIcwQRSgHWNHqLIpsAl9CePEpxQ)<br />\n",
       "    <script>\n",
       "      require(['extensions/charting', 'element!4_146379233028', 'style!/static/extensions/charting.css'],\n",
       "        function(charts, dom) {\n",
       "          charts.render(dom,\n",
       "            {\n",
       "              chartStyle:\"table\",\n",
       "              dataName:\"2\",\n",
       "              fields:\"ParticipantBarcode,m\",\n",
       "              totalRows:3,\n",
       "              rowsPerPage:25,\n",
       "            }, {}, {\"rows\": [{\"c\": [{\"v\": \"TCGA-EM-A2P1\"}, {\"v\": 2}]}, {\"c\": [{\"v\": \"TCGA-EM-A2CS\"}, {\"v\": 2}]}, {\"c\": [{\"v\": \"TCGA-J8-A3YH\"}, {\"v\": 2}]}], \"cols\": [{\"type\": \"string\", \"id\": \"ParticipantBarcode\", \"label\": \"ParticipantBarcode\"}, {\"type\": \"number\", \"id\": \"m\", \"label\": \"m\"}]});\n",
       "        }\n",
       "      );\n",
       "    </script>\n",
       "  "
      ],
      "text/plain": [
       "QueryResultsTable job_nIcwQRSgHWNHqLIpsAl9CePEpxQ"
      ]
     },
     "execution_count": 16,
     "metadata": {},
     "output_type": "execute_result"
    }
   ],
   "source": [
    "%%sql\n",
    "\n",
    "SELECT\n",
    "  ParticipantBarcode,\n",
    "  COUNT(*) AS m\n",
    "FROM (\n",
    "  SELECT\n",
    "    ParticipantBarcode,\n",
    "    Tumor_SampleBarcode,\n",
    "    COUNT(*) AS n\n",
    "  FROM\n",
    "    $somatic_mutations_BQtable\n",
    "  WHERE\n",
    "    ( Hugo_Symbol=\"BRAF\"\n",
    "      AND Protein_Change=\"p.V600E\"\n",
    "      AND Study=\"THCA\" )\n",
    "  GROUP BY\n",
    "    ParticipantBarcode,\n",
    "    Tumor_SampleBarcode,\n",
    "    )\n",
    "GROUP BY\n",
    "  ParticipantBarcode\n",
    "HAVING\n",
    "  m > 1\n",
    "ORDER BY\n",
    "  m DESC"
   ]
  },
  {
   "cell_type": "markdown",
   "metadata": {},
   "source": [
    "Sure enough, we see that the same mutation is reported twice for each of these three patients.  Let's look at why:"
   ]
  },
  {
   "cell_type": "code",
   "execution_count": 17,
   "metadata": {
    "collapsed": false
   },
   "outputs": [
    {
     "data": {
      "text/html": [
       "\n",
       "    <div class=\"bqtv\" id=\"5_146379233233\"><table><tr><th>ParticipantBarcode</th><th>Tumor_SampleBarcode</th><th>Tumor_SampleTypeLetterCode</th><th>Normal_SampleBarcode</th><th>Normal_SampleTypeLetterCode</th><th>Center</th></tr><tr><td>TCGA-EM-A2P1</td><td>TCGA-EM-A2P1-01A</td><td>TP</td><td>TCGA-EM-A2P1-10A</td><td>NB</td><td>bcgsc.ca</td></tr><tr><td>TCGA-EM-A2P1</td><td>TCGA-EM-A2P1-01A</td><td>TP</td><td>TCGA-EM-A2P1-10A</td><td>NB</td><td>broad.mit.edu</td></tr><tr><td>TCGA-EM-A2P1</td><td>TCGA-EM-A2P1-01A</td><td>TP</td><td>TCGA-EM-A2P1-10A</td><td>NB</td><td>hgsc.bcm.edu</td></tr><tr><td>TCGA-EM-A2P1</td><td>TCGA-EM-A2P1-06A</td><td>TM</td><td>TCGA-EM-A2P1-10A</td><td>NB</td><td>bcgsc.ca</td></tr><tr><td>TCGA-EM-A2P1</td><td>TCGA-EM-A2P1-06A</td><td>TM</td><td>TCGA-EM-A2P1-10A</td><td>NB</td><td>broad.mit.edu</td></tr><tr><td>TCGA-EM-A2P1</td><td>TCGA-EM-A2P1-06A</td><td>TM</td><td>TCGA-EM-A2P1-10A</td><td>NB</td><td>hgsc.bcm.edu</td></tr></table></div>\n",
       "    <br />(rows: 6, time: 1.5s,   550MB processed, job: job_rhD6-Hg1U1vhTk8-aXq9T9vJEvY)<br />\n",
       "    <script>\n",
       "      require(['extensions/charting', 'element!5_146379233233', 'style!/static/extensions/charting.css'],\n",
       "        function(charts, dom) {\n",
       "          charts.render(dom,\n",
       "            {\n",
       "              chartStyle:\"table\",\n",
       "              dataName:\"3\",\n",
       "              fields:\"ParticipantBarcode,Tumor_SampleBarcode,Tumor_SampleTypeLetterCode,Normal_SampleBarcode,Normal_SampleTypeLetterCode,Center\",\n",
       "              totalRows:6,\n",
       "              rowsPerPage:25,\n",
       "            }, {}, {\"rows\": [{\"c\": [{\"v\": \"TCGA-EM-A2P1\"}, {\"v\": \"TCGA-EM-A2P1-01A\"}, {\"v\": \"TP\"}, {\"v\": \"TCGA-EM-A2P1-10A\"}, {\"v\": \"NB\"}, {\"v\": \"bcgsc.ca\"}]}, {\"c\": [{\"v\": \"TCGA-EM-A2P1\"}, {\"v\": \"TCGA-EM-A2P1-01A\"}, {\"v\": \"TP\"}, {\"v\": \"TCGA-EM-A2P1-10A\"}, {\"v\": \"NB\"}, {\"v\": \"broad.mit.edu\"}]}, {\"c\": [{\"v\": \"TCGA-EM-A2P1\"}, {\"v\": \"TCGA-EM-A2P1-01A\"}, {\"v\": \"TP\"}, {\"v\": \"TCGA-EM-A2P1-10A\"}, {\"v\": \"NB\"}, {\"v\": \"hgsc.bcm.edu\"}]}, {\"c\": [{\"v\": \"TCGA-EM-A2P1\"}, {\"v\": \"TCGA-EM-A2P1-06A\"}, {\"v\": \"TM\"}, {\"v\": \"TCGA-EM-A2P1-10A\"}, {\"v\": \"NB\"}, {\"v\": \"bcgsc.ca\"}]}, {\"c\": [{\"v\": \"TCGA-EM-A2P1\"}, {\"v\": \"TCGA-EM-A2P1-06A\"}, {\"v\": \"TM\"}, {\"v\": \"TCGA-EM-A2P1-10A\"}, {\"v\": \"NB\"}, {\"v\": \"broad.mit.edu\"}]}, {\"c\": [{\"v\": \"TCGA-EM-A2P1\"}, {\"v\": \"TCGA-EM-A2P1-06A\"}, {\"v\": \"TM\"}, {\"v\": \"TCGA-EM-A2P1-10A\"}, {\"v\": \"NB\"}, {\"v\": \"hgsc.bcm.edu\"}]}], \"cols\": [{\"type\": \"string\", \"id\": \"ParticipantBarcode\", \"label\": \"ParticipantBarcode\"}, {\"type\": \"string\", \"id\": \"Tumor_SampleBarcode\", \"label\": \"Tumor_SampleBarcode\"}, {\"type\": \"string\", \"id\": \"Tumor_SampleTypeLetterCode\", \"label\": \"Tumor_SampleTypeLetterCode\"}, {\"type\": \"string\", \"id\": \"Normal_SampleBarcode\", \"label\": \"Normal_SampleBarcode\"}, {\"type\": \"string\", \"id\": \"Normal_SampleTypeLetterCode\", \"label\": \"Normal_SampleTypeLetterCode\"}, {\"type\": \"string\", \"id\": \"Center\", \"label\": \"Center\"}]});\n",
       "        }\n",
       "      );\n",
       "    </script>\n",
       "  "
      ],
      "text/plain": [
       "QueryResultsTable job_rhD6-Hg1U1vhTk8-aXq9T9vJEvY"
      ]
     },
     "execution_count": 17,
     "metadata": {},
     "output_type": "execute_result"
    }
   ],
   "source": [
    "%%sql\n",
    "\n",
    "SELECT\n",
    "  ParticipantBarcode,\n",
    "  Tumor_SampleBarcode,\n",
    "  Tumor_SampleTypeLetterCode,\n",
    "  Normal_SampleBarcode,\n",
    "  Normal_SampleTypeLetterCode,\n",
    "  Center,\n",
    "FROM\n",
    "  $somatic_mutations_BQtable\n",
    "WHERE\n",
    "  ( Hugo_Symbol=\"BRAF\"\n",
    "    AND Protein_Change=\"p.V600E\"\n",
    "    AND Study=\"THCA\"\n",
    "    AND ParticipantBarcode=\"TCGA-EM-A2P1\" )\n",
    "ORDER BY\n",
    "  Tumor_SampleBarcode,\n",
    "  Normal_SampleBarcode,\n",
    "  Center"
   ]
  },
  {
   "cell_type": "markdown",
   "metadata": {},
   "source": [
    "Aha!  not only did this patient provide both a primary tumor (TP) and a metastatic (TM) sample, but we have mutation calls from three different centers."
   ]
  },
  {
   "cell_type": "markdown",
   "metadata": {},
   "source": [
    "Finally, let's pick out one of these mutations and see what some of the other fields in this table can tell us:"
   ]
  },
  {
   "cell_type": "code",
   "execution_count": 18,
   "metadata": {
    "collapsed": false
   },
   "outputs": [
    {
     "data": {
      "text/html": [
       "\n",
       "    <div class=\"bqtv\" id=\"6_146379233420\"><table><tr><th>ParticipantBarcode</th><th>Tumor_SampleTypeLetterCode</th><th>Normal_SampleTypeLetterCode</th><th>Study</th><th>Center</th><th>Variant_Type</th><th>Variant_Classification</th><th>Genome_Change</th><th>cDNA_Change</th><th>Protein_Change</th><th>UniProt_Region</th><th>COSMIC_Total_Alterations_In_Gene</th><th>DrugBank</th></tr><tr><td>TCGA-EM-A2P1</td><td>TP</td><td>NB</td><td>THCA</td><td>broad.mit.edu</td><td>SNP</td><td>Missense_Mutation</td><td>g.chr7:140453136A&gt;T</td><td>c.1799T&gt;A</td><td>p.V600E</td><td>Protein kinase. {ECO:0000255|PROSITE- ProRule:PRU00159}.</td><td>27380</td><td>Dabrafenib(DB08912)|Regorafenib(DB08896)|Sorafenib(DB00398)|Vemurafenib(DB08881)</td></tr></table></div>\n",
       "    <br />(rows: 1, time: 1.3s,   841MB processed, job: job_MyFGRnm4a1bDJ5jpjLECdDxoY-Y)<br />\n",
       "    <script>\n",
       "      require(['extensions/charting', 'element!6_146379233420', 'style!/static/extensions/charting.css'],\n",
       "        function(charts, dom) {\n",
       "          charts.render(dom,\n",
       "            {\n",
       "              chartStyle:\"table\",\n",
       "              dataName:\"4\",\n",
       "              fields:\"ParticipantBarcode,Tumor_SampleTypeLetterCode,Normal_SampleTypeLetterCode,Study,Center,Variant_Type,Variant_Classification,Genome_Change,cDNA_Change,Protein_Change,UniProt_Region,COSMIC_Total_Alterations_In_Gene,DrugBank\",\n",
       "              totalRows:1,\n",
       "              rowsPerPage:25,\n",
       "            }, {}, {\"rows\": [{\"c\": [{\"v\": \"TCGA-EM-A2P1\"}, {\"v\": \"TP\"}, {\"v\": \"NB\"}, {\"v\": \"THCA\"}, {\"v\": \"broad.mit.edu\"}, {\"v\": \"SNP\"}, {\"v\": \"Missense_Mutation\"}, {\"v\": \"g.chr7:140453136A>T\"}, {\"v\": \"c.1799T>A\"}, {\"v\": \"p.V600E\"}, {\"v\": \"Protein kinase. {ECO:0000255|PROSITE- ProRule:PRU00159}.\"}, {\"v\": 27380}, {\"v\": \"Dabrafenib(DB08912)|Regorafenib(DB08896)|Sorafenib(DB00398)|Vemurafenib(DB08881)\"}]}], \"cols\": [{\"type\": \"string\", \"id\": \"ParticipantBarcode\", \"label\": \"ParticipantBarcode\"}, {\"type\": \"string\", \"id\": \"Tumor_SampleTypeLetterCode\", \"label\": \"Tumor_SampleTypeLetterCode\"}, {\"type\": \"string\", \"id\": \"Normal_SampleTypeLetterCode\", \"label\": \"Normal_SampleTypeLetterCode\"}, {\"type\": \"string\", \"id\": \"Study\", \"label\": \"Study\"}, {\"type\": \"string\", \"id\": \"Center\", \"label\": \"Center\"}, {\"type\": \"string\", \"id\": \"Variant_Type\", \"label\": \"Variant_Type\"}, {\"type\": \"string\", \"id\": \"Variant_Classification\", \"label\": \"Variant_Classification\"}, {\"type\": \"string\", \"id\": \"Genome_Change\", \"label\": \"Genome_Change\"}, {\"type\": \"string\", \"id\": \"cDNA_Change\", \"label\": \"cDNA_Change\"}, {\"type\": \"string\", \"id\": \"Protein_Change\", \"label\": \"Protein_Change\"}, {\"type\": \"string\", \"id\": \"UniProt_Region\", \"label\": \"UniProt_Region\"}, {\"type\": \"number\", \"id\": \"COSMIC_Total_Alterations_In_Gene\", \"label\": \"COSMIC_Total_Alterations_In_Gene\"}, {\"type\": \"string\", \"id\": \"DrugBank\", \"label\": \"DrugBank\"}]});\n",
       "        }\n",
       "      );\n",
       "    </script>\n",
       "  "
      ],
      "text/plain": [
       "QueryResultsTable job_MyFGRnm4a1bDJ5jpjLECdDxoY-Y"
      ]
     },
     "execution_count": 18,
     "metadata": {},
     "output_type": "execute_result"
    }
   ],
   "source": [
    "%%sql\n",
    "\n",
    "SELECT\n",
    "  ParticipantBarcode,\n",
    "  Tumor_SampleTypeLetterCode,\n",
    "  Normal_SampleTypeLetterCode,\n",
    "  Study,\n",
    "  Center,\n",
    "  Variant_Type,\n",
    "  Variant_Classification,\n",
    "  Genome_Change,\n",
    "  cDNA_Change,\n",
    "  Protein_Change,\n",
    "  UniProt_Region,\n",
    "  COSMIC_Total_Alterations_In_Gene,\n",
    "  DrugBank\n",
    "FROM\n",
    "  $somatic_mutations_BQtable\n",
    "WHERE\n",
    "  ( Hugo_Symbol=\"BRAF\"\n",
    "    AND Protein_Change=\"p.V600E\"\n",
    "    AND Study=\"THCA\"\n",
    "    AND ParticipantBarcode=\"TCGA-EM-A2P1\"\n",
    "    AND Tumor_SampleTypeLetterCode=\"TP\"\n",
    "    AND Center=\"broad.mit.edu\" )"
   ]
  },
  {
   "cell_type": "markdown",
   "metadata": {},
   "source": [
    "When working with variants or mutations, there is another public BigQuery table that you might find useful.  Developed by [Tute Genomics](http://tutegenomics.com/), this comprehensive, publicly-available database of over 8.5 billion known variants was [announced](https://www.tutegenomics.com/news/exploring-genetic-variation-with-google-genomics-and-tute/) earlier this year.  This table includes several types of annotations and scores, such ase [Polyphen2](http://genetics.bwh.harvard.edu/pph2/) and [MutationAssessor](http://mutationassessor.org/), and a proprietary \"Tute score\" which estimates whether a SNP or indel is likely to be associate with Mendelian phenotypes. "
   ]
  },
  {
   "cell_type": "markdown",
   "metadata": {},
   "source": [
    "For example, you can look up all exonic BRAF mutations in the TuteTable in less than 20 seconds:"
   ]
  },
  {
   "cell_type": "code",
   "execution_count": 19,
   "metadata": {
    "collapsed": false
   },
   "outputs": [],
   "source": [
    "%%sql --module BRAF_TUTE\n",
    "\n",
    "SELECT\n",
    "  Chr,\n",
    "  Start,\n",
    "  Func,\n",
    "  Gene,\n",
    "  AA,\n",
    "  Polyphen2_HDIV_score,\n",
    "  Polyphen2_HVAR_score,\n",
    "  MutationAssessor_score,\n",
    "  TUTE\n",
    "FROM\n",
    "  [silver-wall-555:TuteTable.hg19]\n",
    "WHERE\n",
    "  ( Gene=\"BRAF\"\n",
    "    AND Func=\"exonic\" )\n",
    "ORDER BY\n",
    "  Start ASC"
   ]
  },
  {
   "cell_type": "code",
   "execution_count": 20,
   "metadata": {
    "collapsed": false
   },
   "outputs": [
    {
     "data": {
      "text/html": [
       "<div>\n",
       "<table border=\"1\" class=\"dataframe\">\n",
       "  <thead>\n",
       "    <tr style=\"text-align: right;\">\n",
       "      <th></th>\n",
       "      <th>Start</th>\n",
       "      <th>Polyphen2_HDIV_score</th>\n",
       "      <th>Polyphen2_HVAR_score</th>\n",
       "      <th>MutationAssessor_score</th>\n",
       "      <th>TUTE</th>\n",
       "    </tr>\n",
       "  </thead>\n",
       "  <tbody>\n",
       "    <tr>\n",
       "      <th>count</th>\n",
       "      <td>6.903000e+03</td>\n",
       "      <td>4985.000000</td>\n",
       "      <td>4985.000000</td>\n",
       "      <td>4976.000000</td>\n",
       "      <td>6903.000000</td>\n",
       "    </tr>\n",
       "    <tr>\n",
       "      <th>mean</th>\n",
       "      <td>1.404945e+08</td>\n",
       "      <td>0.556226</td>\n",
       "      <td>0.413867</td>\n",
       "      <td>1.247881</td>\n",
       "      <td>0.332186</td>\n",
       "    </tr>\n",
       "    <tr>\n",
       "      <th>std</th>\n",
       "      <td>4.577719e+04</td>\n",
       "      <td>0.417165</td>\n",
       "      <td>0.395638</td>\n",
       "      <td>1.182233</td>\n",
       "      <td>0.306410</td>\n",
       "    </tr>\n",
       "    <tr>\n",
       "      <th>min</th>\n",
       "      <td>1.404344e+08</td>\n",
       "      <td>0.000000</td>\n",
       "      <td>0.000000</td>\n",
       "      <td>-2.770000</td>\n",
       "      <td>0.000000</td>\n",
       "    </tr>\n",
       "    <tr>\n",
       "      <th>25%</th>\n",
       "      <td>1.404540e+08</td>\n",
       "      <td>0.073000</td>\n",
       "      <td>0.031000</td>\n",
       "      <td>0.345000</td>\n",
       "      <td>0.108000</td>\n",
       "    </tr>\n",
       "    <tr>\n",
       "      <th>50%</th>\n",
       "      <td>1.404874e+08</td>\n",
       "      <td>0.664000</td>\n",
       "      <td>0.263000</td>\n",
       "      <td>1.150000</td>\n",
       "      <td>0.196700</td>\n",
       "    </tr>\n",
       "    <tr>\n",
       "      <th>75%</th>\n",
       "      <td>1.405087e+08</td>\n",
       "      <td>0.990000</td>\n",
       "      <td>0.870000</td>\n",
       "      <td>1.895000</td>\n",
       "      <td>0.568100</td>\n",
       "    </tr>\n",
       "    <tr>\n",
       "      <th>max</th>\n",
       "      <td>1.406245e+08</td>\n",
       "      <td>1.000000</td>\n",
       "      <td>1.000000</td>\n",
       "      <td>4.505000</td>\n",
       "      <td>0.931700</td>\n",
       "    </tr>\n",
       "  </tbody>\n",
       "</table>\n",
       "</div>"
      ],
      "text/plain": [
       "              Start  Polyphen2_HDIV_score  Polyphen2_HVAR_score  \\\n",
       "count  6.903000e+03           4985.000000           4985.000000   \n",
       "mean   1.404945e+08              0.556226              0.413867   \n",
       "std    4.577719e+04              0.417165              0.395638   \n",
       "min    1.404344e+08              0.000000              0.000000   \n",
       "25%    1.404540e+08              0.073000              0.031000   \n",
       "50%    1.404874e+08              0.664000              0.263000   \n",
       "75%    1.405087e+08              0.990000              0.870000   \n",
       "max    1.406245e+08              1.000000              1.000000   \n",
       "\n",
       "       MutationAssessor_score         TUTE  \n",
       "count             4976.000000  6903.000000  \n",
       "mean                 1.247881     0.332186  \n",
       "std                  1.182233     0.306410  \n",
       "min                 -2.770000     0.000000  \n",
       "25%                  0.345000     0.108000  \n",
       "50%                  1.150000     0.196700  \n",
       "75%                  1.895000     0.568100  \n",
       "max                  4.505000     0.931700  "
      ]
     },
     "execution_count": 20,
     "metadata": {},
     "output_type": "execute_result"
    }
   ],
   "source": [
    "tuteBRAFscores = bq.Query(BRAF_TUTE).results().to_dataframe()\n",
    "tuteBRAFscores.describe()"
   ]
  },
  {
   "cell_type": "markdown",
   "metadata": {},
   "source": [
    "Let's go back to the TCGA somatic mutations table and pull out all BRAF mutations and then join them with the matching mutations in the Tute Table so that we can compare the distribution of scores (*eg* MutationAssessor and TUTE) between the somatic mutations seen in TCGA and the larger set of variants contained in the Tute Table."
   ]
  },
  {
   "cell_type": "code",
   "execution_count": 21,
   "metadata": {
    "collapsed": false
   },
   "outputs": [],
   "source": [
    "%%sql --module TCGA_BRAF\n",
    "\n",
    "SELECT\n",
    "  Hugo_Symbol,\n",
    "  Protein_Change,\n",
    "  MutationAssessor_score,\n",
    "  TUTE\n",
    "FROM (\n",
    "  SELECT\n",
    "    Hugo_Symbol,\n",
    "    Protein_Change\n",
    "  FROM\n",
    "    $t\n",
    "  WHERE\n",
    "    ( Hugo_Symbol=\"BRAF\" )\n",
    "  GROUP BY\n",
    "    Hugo_Symbol,\n",
    "    Protein_Change ) AS tcga\n",
    "JOIN (\n",
    "  SELECT\n",
    "    Gene,\n",
    "    AA,\n",
    "    MutationAssessor_score,\n",
    "    TUTE\n",
    "  FROM\n",
    "    [silver-wall-555:TuteTable.hg19]\n",
    "  WHERE\n",
    "    ( Gene=\"BRAF\" ) ) AS tute\n",
    "ON\n",
    "  tcga.Hugo_Symbol=tute.Gene\n",
    "  AND tcga.Protein_Change=tute.AA"
   ]
  },
  {
   "cell_type": "code",
   "execution_count": 22,
   "metadata": {
    "collapsed": false
   },
   "outputs": [
    {
     "data": {
      "text/html": [
       "<div>\n",
       "<table border=\"1\" class=\"dataframe\">\n",
       "  <thead>\n",
       "    <tr style=\"text-align: right;\">\n",
       "      <th></th>\n",
       "      <th>MutationAssessor_score</th>\n",
       "      <th>TUTE</th>\n",
       "    </tr>\n",
       "  </thead>\n",
       "  <tbody>\n",
       "    <tr>\n",
       "      <th>count</th>\n",
       "      <td>133.000000</td>\n",
       "      <td>212.000000</td>\n",
       "    </tr>\n",
       "    <tr>\n",
       "      <th>mean</th>\n",
       "      <td>1.565639</td>\n",
       "      <td>0.324648</td>\n",
       "    </tr>\n",
       "    <tr>\n",
       "      <th>std</th>\n",
       "      <td>1.464682</td>\n",
       "      <td>0.320656</td>\n",
       "    </tr>\n",
       "    <tr>\n",
       "      <th>min</th>\n",
       "      <td>-1.005000</td>\n",
       "      <td>0.000000</td>\n",
       "    </tr>\n",
       "    <tr>\n",
       "      <th>25%</th>\n",
       "      <td>0.345000</td>\n",
       "      <td>0.094000</td>\n",
       "    </tr>\n",
       "    <tr>\n",
       "      <th>50%</th>\n",
       "      <td>1.320000</td>\n",
       "      <td>0.186000</td>\n",
       "    </tr>\n",
       "    <tr>\n",
       "      <th>75%</th>\n",
       "      <td>2.455000</td>\n",
       "      <td>0.594050</td>\n",
       "    </tr>\n",
       "    <tr>\n",
       "      <th>max</th>\n",
       "      <td>4.475000</td>\n",
       "      <td>0.926400</td>\n",
       "    </tr>\n",
       "  </tbody>\n",
       "</table>\n",
       "</div>"
      ],
      "text/plain": [
       "       MutationAssessor_score        TUTE\n",
       "count              133.000000  212.000000\n",
       "mean                 1.565639    0.324648\n",
       "std                  1.464682    0.320656\n",
       "min                 -1.005000    0.000000\n",
       "25%                  0.345000    0.094000\n",
       "50%                  1.320000    0.186000\n",
       "75%                  2.455000    0.594050\n",
       "max                  4.475000    0.926400"
      ]
     },
     "execution_count": 22,
     "metadata": {},
     "output_type": "execute_result"
    }
   ],
   "source": [
    "tcgaBRAFscores = bq.Query(TCGA_BRAF,t=somatic_mutations_BQtable).results().to_dataframe()\n",
    "tcgaBRAFscores.describe()"
   ]
  },
  {
   "cell_type": "code",
   "execution_count": 23,
   "metadata": {
    "collapsed": true
   },
   "outputs": [],
   "source": [
    "import numpy as np\n",
    "import matplotlib.pyplot as plt"
   ]
  },
  {
   "cell_type": "code",
   "execution_count": 24,
   "metadata": {
    "collapsed": false
   },
   "outputs": [
    {
     "data": {
      "image/png": "[encoded data removed]",
      "text/plain": [
       "<matplotlib.figure.Figure at 0x7fa1395e1bd0>"
      ]
     },
     "metadata": {},
     "output_type": "display_data"
    }
   ],
   "source": [
    "plt.hist(tuteBRAFscores['TUTE'],bins=50,normed=True,color='red',alpha=0.6,label='all variants');\n",
    "plt.hist(tcgaBRAFscores['TUTE'],bins=50,normed=True,color='blue',alpha=0.4,label='TCGA somatic mutations');\n",
    "plt.legend(loc='upper right');\n",
    "plt.xlabel('TUTE score');\n",
    "plt.ylabel('probability');"
   ]
  },
  {
   "cell_type": "code",
   "execution_count": 25,
   "metadata": {
    "collapsed": false
   },
   "outputs": [
    {
     "data": {
      "image/png": "[encoded data removed]",
      "text/plain": [
       "<matplotlib.figure.Figure at 0x7fa1395edfd0>"
      ]
     },
     "metadata": {},
     "output_type": "display_data"
    }
   ],
   "source": [
    "plt.hist(tuteBRAFscores['MutationAssessor_score'],bins=45,range=[-4,5],normed=True,color='red',alpha=0.6,label='all variants');\n",
    "plt.hist(tcgaBRAFscores['MutationAssessor_score'],bins=45,range=[-4,5],normed=True,color='blue',alpha=0.4,label='TCGA somatic mutations');\n",
    "plt.legend(loc='upper right');\n",
    "plt.xlabel('MutationAssessor score');\n",
    "plt.ylabel('probability');"
   ]
  },
  {
   "cell_type": "markdown",
   "metadata": {},
   "source": [
    "Both of these plots suggest that some of the somatic BRAF mutations observed in TCGA tumor samples are scored as more deleterious by both TUTE and MutationAssessor.  In the TUTE histogram, a larger fraction of somatic mutations also get a score of 0.\n",
    "\n",
    "Note that in these histograms, each count represents a *single* variant, *ie* a specific protein change.  Mutations that are seen across multiple patients are **not** being counted multiple times."
   ]
  },
  {
   "cell_type": "code",
   "execution_count": null,
   "metadata": {
    "collapsed": true
   },
   "outputs": [],
   "source": []
  }
 ],
 "metadata": {
  "kernelspec": {
   "display_name": "Python 2",
   "language": "python",
   "name": "python2"
  },
  "language_info": {
   "codemirror_mode": {
    "name": "ipython",
    "version": 2
   },
   "file_extension": ".py",
   "mimetype": "text/x-python",
   "name": "python",
   "nbconvert_exporter": "python",
   "pygments_lexer": "ipython2",
   "version": "2.7.9"
  }
 },
 "nbformat": 4,
 "nbformat_minor": 0
}
